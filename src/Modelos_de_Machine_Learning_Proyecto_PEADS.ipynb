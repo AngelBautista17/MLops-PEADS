{
  "nbformat": 4,
  "nbformat_minor": 0,
  "metadata": {
    "colab": {
      "provenance": []
    },
    "kernelspec": {
      "name": "python3",
      "display_name": "Python 3"
    },
    "language_info": {
      "name": "python"
    }
  },
  "cells": [
    {
      "cell_type": "markdown",
      "source": [
        "# 1. Preprocesamiento"
      ],
      "metadata": {
        "id": "-_Dmwoe0x1GY"
      }
    },
    {
      "cell_type": "code",
      "source": [
        "import pandas as pd\n",
        "\n",
        "url_data =(r'pyg3_bank-additional-full.txt')\n",
        "df = pd.read_csv(url_data, encoding='latin-1')\n",
        "df.head()"
      ],
      "metadata": {
        "colab": {
          "base_uri": "https://localhost:8080/",
          "height": 297
        },
        "id": "4IZ4fPEfx6HH",
        "outputId": "2e760be0-8bec-4443-a3e1-0e4d0ad4c74b"
      },
      "execution_count": null,
      "outputs": [
        {
          "output_type": "execute_result",
          "data": {
            "text/plain": [
              "   Edad         Trabajo Estado Civil   educacion      default hipoteca  \\\n",
              "0    56          Mucama       Casado    primaria           no       no   \n",
              "1    57       Servicios       Casado  secundaria  Desconocido       no   \n",
              "2    37       Servicios       Casado  secundaria           no       si   \n",
              "3    40  Administración       Casado    primaria           no       no   \n",
              "4    56       Servicios       Casado  secundaria           no       no   \n",
              "\n",
              "  préstamo  contacto mes contacto día contacto  ...  campaña  diaspost  \\\n",
              "0       no  Teléfono          may          lun  ...        1       999   \n",
              "1       no  Teléfono          may          lun  ...        1       999   \n",
              "2       no  Teléfono          may          lun  ...        1       999   \n",
              "3       no  Teléfono          may          lun  ...        1       999   \n",
              "4       si  Teléfono          may          lun  ...        1       999   \n",
              "\n",
              "   contactos previos      psalida emp.var.ratio  idx.precio.cons  \\\n",
              "0                  0  inexistente           1.1           93.994   \n",
              "1                  0  inexistente           1.1           93.994   \n",
              "2                  0  inexistente           1.1           93.994   \n",
              "3                  0  inexistente           1.1           93.994   \n",
              "4                  0  inexistente           1.1           93.994   \n",
              "\n",
              "   idx.conf.cons  euribor3m  nr.employed   S  \n",
              "0          -36.4      4.857       5191.0  no  \n",
              "1          -36.4      4.857       5191.0  no  \n",
              "2          -36.4      4.857       5191.0  no  \n",
              "3          -36.4      4.857       5191.0  no  \n",
              "4          -36.4      4.857       5191.0  no  \n",
              "\n",
              "[5 rows x 21 columns]"
            ],
            "text/html": [
              "\n",
              "  <div id=\"df-48dd89f5-2515-4ccc-9680-459cf957fd95\">\n",
              "    <div class=\"colab-df-container\">\n",
              "      <div>\n",
              "<style scoped>\n",
              "    .dataframe tbody tr th:only-of-type {\n",
              "        vertical-align: middle;\n",
              "    }\n",
              "\n",
              "    .dataframe tbody tr th {\n",
              "        vertical-align: top;\n",
              "    }\n",
              "\n",
              "    .dataframe thead th {\n",
              "        text-align: right;\n",
              "    }\n",
              "</style>\n",
              "<table border=\"1\" class=\"dataframe\">\n",
              "  <thead>\n",
              "    <tr style=\"text-align: right;\">\n",
              "      <th></th>\n",
              "      <th>Edad</th>\n",
              "      <th>Trabajo</th>\n",
              "      <th>Estado Civil</th>\n",
              "      <th>educacion</th>\n",
              "      <th>default</th>\n",
              "      <th>hipoteca</th>\n",
              "      <th>préstamo</th>\n",
              "      <th>contacto</th>\n",
              "      <th>mes contacto</th>\n",
              "      <th>día contacto</th>\n",
              "      <th>...</th>\n",
              "      <th>campaña</th>\n",
              "      <th>diaspost</th>\n",
              "      <th>contactos previos</th>\n",
              "      <th>psalida</th>\n",
              "      <th>emp.var.ratio</th>\n",
              "      <th>idx.precio.cons</th>\n",
              "      <th>idx.conf.cons</th>\n",
              "      <th>euribor3m</th>\n",
              "      <th>nr.employed</th>\n",
              "      <th>S</th>\n",
              "    </tr>\n",
              "  </thead>\n",
              "  <tbody>\n",
              "    <tr>\n",
              "      <th>0</th>\n",
              "      <td>56</td>\n",
              "      <td>Mucama</td>\n",
              "      <td>Casado</td>\n",
              "      <td>primaria</td>\n",
              "      <td>no</td>\n",
              "      <td>no</td>\n",
              "      <td>no</td>\n",
              "      <td>Teléfono</td>\n",
              "      <td>may</td>\n",
              "      <td>lun</td>\n",
              "      <td>...</td>\n",
              "      <td>1</td>\n",
              "      <td>999</td>\n",
              "      <td>0</td>\n",
              "      <td>inexistente</td>\n",
              "      <td>1.1</td>\n",
              "      <td>93.994</td>\n",
              "      <td>-36.4</td>\n",
              "      <td>4.857</td>\n",
              "      <td>5191.0</td>\n",
              "      <td>no</td>\n",
              "    </tr>\n",
              "    <tr>\n",
              "      <th>1</th>\n",
              "      <td>57</td>\n",
              "      <td>Servicios</td>\n",
              "      <td>Casado</td>\n",
              "      <td>secundaria</td>\n",
              "      <td>Desconocido</td>\n",
              "      <td>no</td>\n",
              "      <td>no</td>\n",
              "      <td>Teléfono</td>\n",
              "      <td>may</td>\n",
              "      <td>lun</td>\n",
              "      <td>...</td>\n",
              "      <td>1</td>\n",
              "      <td>999</td>\n",
              "      <td>0</td>\n",
              "      <td>inexistente</td>\n",
              "      <td>1.1</td>\n",
              "      <td>93.994</td>\n",
              "      <td>-36.4</td>\n",
              "      <td>4.857</td>\n",
              "      <td>5191.0</td>\n",
              "      <td>no</td>\n",
              "    </tr>\n",
              "    <tr>\n",
              "      <th>2</th>\n",
              "      <td>37</td>\n",
              "      <td>Servicios</td>\n",
              "      <td>Casado</td>\n",
              "      <td>secundaria</td>\n",
              "      <td>no</td>\n",
              "      <td>si</td>\n",
              "      <td>no</td>\n",
              "      <td>Teléfono</td>\n",
              "      <td>may</td>\n",
              "      <td>lun</td>\n",
              "      <td>...</td>\n",
              "      <td>1</td>\n",
              "      <td>999</td>\n",
              "      <td>0</td>\n",
              "      <td>inexistente</td>\n",
              "      <td>1.1</td>\n",
              "      <td>93.994</td>\n",
              "      <td>-36.4</td>\n",
              "      <td>4.857</td>\n",
              "      <td>5191.0</td>\n",
              "      <td>no</td>\n",
              "    </tr>\n",
              "    <tr>\n",
              "      <th>3</th>\n",
              "      <td>40</td>\n",
              "      <td>Administración</td>\n",
              "      <td>Casado</td>\n",
              "      <td>primaria</td>\n",
              "      <td>no</td>\n",
              "      <td>no</td>\n",
              "      <td>no</td>\n",
              "      <td>Teléfono</td>\n",
              "      <td>may</td>\n",
              "      <td>lun</td>\n",
              "      <td>...</td>\n",
              "      <td>1</td>\n",
              "      <td>999</td>\n",
              "      <td>0</td>\n",
              "      <td>inexistente</td>\n",
              "      <td>1.1</td>\n",
              "      <td>93.994</td>\n",
              "      <td>-36.4</td>\n",
              "      <td>4.857</td>\n",
              "      <td>5191.0</td>\n",
              "      <td>no</td>\n",
              "    </tr>\n",
              "    <tr>\n",
              "      <th>4</th>\n",
              "      <td>56</td>\n",
              "      <td>Servicios</td>\n",
              "      <td>Casado</td>\n",
              "      <td>secundaria</td>\n",
              "      <td>no</td>\n",
              "      <td>no</td>\n",
              "      <td>si</td>\n",
              "      <td>Teléfono</td>\n",
              "      <td>may</td>\n",
              "      <td>lun</td>\n",
              "      <td>...</td>\n",
              "      <td>1</td>\n",
              "      <td>999</td>\n",
              "      <td>0</td>\n",
              "      <td>inexistente</td>\n",
              "      <td>1.1</td>\n",
              "      <td>93.994</td>\n",
              "      <td>-36.4</td>\n",
              "      <td>4.857</td>\n",
              "      <td>5191.0</td>\n",
              "      <td>no</td>\n",
              "    </tr>\n",
              "  </tbody>\n",
              "</table>\n",
              "<p>5 rows × 21 columns</p>\n",
              "</div>\n",
              "      <button class=\"colab-df-convert\" onclick=\"convertToInteractive('df-48dd89f5-2515-4ccc-9680-459cf957fd95')\"\n",
              "              title=\"Convert this dataframe to an interactive table.\"\n",
              "              style=\"display:none;\">\n",
              "        \n",
              "  <svg xmlns=\"http://www.w3.org/2000/svg\" height=\"24px\"viewBox=\"0 0 24 24\"\n",
              "       width=\"24px\">\n",
              "    <path d=\"M0 0h24v24H0V0z\" fill=\"none\"/>\n",
              "    <path d=\"M18.56 5.44l.94 2.06.94-2.06 2.06-.94-2.06-.94-.94-2.06-.94 2.06-2.06.94zm-11 1L8.5 8.5l.94-2.06 2.06-.94-2.06-.94L8.5 2.5l-.94 2.06-2.06.94zm10 10l.94 2.06.94-2.06 2.06-.94-2.06-.94-.94-2.06-.94 2.06-2.06.94z\"/><path d=\"M17.41 7.96l-1.37-1.37c-.4-.4-.92-.59-1.43-.59-.52 0-1.04.2-1.43.59L10.3 9.45l-7.72 7.72c-.78.78-.78 2.05 0 2.83L4 21.41c.39.39.9.59 1.41.59.51 0 1.02-.2 1.41-.59l7.78-7.78 2.81-2.81c.8-.78.8-2.07 0-2.86zM5.41 20L4 18.59l7.72-7.72 1.47 1.35L5.41 20z\"/>\n",
              "  </svg>\n",
              "      </button>\n",
              "      \n",
              "  <style>\n",
              "    .colab-df-container {\n",
              "      display:flex;\n",
              "      flex-wrap:wrap;\n",
              "      gap: 12px;\n",
              "    }\n",
              "\n",
              "    .colab-df-convert {\n",
              "      background-color: #E8F0FE;\n",
              "      border: none;\n",
              "      border-radius: 50%;\n",
              "      cursor: pointer;\n",
              "      display: none;\n",
              "      fill: #1967D2;\n",
              "      height: 32px;\n",
              "      padding: 0 0 0 0;\n",
              "      width: 32px;\n",
              "    }\n",
              "\n",
              "    .colab-df-convert:hover {\n",
              "      background-color: #E2EBFA;\n",
              "      box-shadow: 0px 1px 2px rgba(60, 64, 67, 0.3), 0px 1px 3px 1px rgba(60, 64, 67, 0.15);\n",
              "      fill: #174EA6;\n",
              "    }\n",
              "\n",
              "    [theme=dark] .colab-df-convert {\n",
              "      background-color: #3B4455;\n",
              "      fill: #D2E3FC;\n",
              "    }\n",
              "\n",
              "    [theme=dark] .colab-df-convert:hover {\n",
              "      background-color: #434B5C;\n",
              "      box-shadow: 0px 1px 3px 1px rgba(0, 0, 0, 0.15);\n",
              "      filter: drop-shadow(0px 1px 2px rgba(0, 0, 0, 0.3));\n",
              "      fill: #FFFFFF;\n",
              "    }\n",
              "  </style>\n",
              "\n",
              "      <script>\n",
              "        const buttonEl =\n",
              "          document.querySelector('#df-48dd89f5-2515-4ccc-9680-459cf957fd95 button.colab-df-convert');\n",
              "        buttonEl.style.display =\n",
              "          google.colab.kernel.accessAllowed ? 'block' : 'none';\n",
              "\n",
              "        async function convertToInteractive(key) {\n",
              "          const element = document.querySelector('#df-48dd89f5-2515-4ccc-9680-459cf957fd95');\n",
              "          const dataTable =\n",
              "            await google.colab.kernel.invokeFunction('convertToInteractive',\n",
              "                                                     [key], {});\n",
              "          if (!dataTable) return;\n",
              "\n",
              "          const docLinkHtml = 'Like what you see? Visit the ' +\n",
              "            '<a target=\"_blank\" href=https://colab.research.google.com/notebooks/data_table.ipynb>data table notebook</a>'\n",
              "            + ' to learn more about interactive tables.';\n",
              "          element.innerHTML = '';\n",
              "          dataTable['output_type'] = 'display_data';\n",
              "          await google.colab.output.renderOutput(dataTable, element);\n",
              "          const docLink = document.createElement('div');\n",
              "          docLink.innerHTML = docLinkHtml;\n",
              "          element.appendChild(docLink);\n",
              "        }\n",
              "      </script>\n",
              "    </div>\n",
              "  </div>\n",
              "  "
            ]
          },
          "metadata": {},
          "execution_count": 1
        }
      ]
    },
    {
      "cell_type": "code",
      "source": [
        "df.isnull().sum()"
      ],
      "metadata": {
        "id": "pXPv8lhlx6Wn",
        "colab": {
          "base_uri": "https://localhost:8080/"
        },
        "outputId": "4c91b120-3111-4b79-b4f3-c72563845ffb"
      },
      "execution_count": null,
      "outputs": [
        {
          "output_type": "execute_result",
          "data": {
            "text/plain": [
              "Edad                 0\n",
              "Trabajo              0\n",
              "Estado Civil         0\n",
              "educacion            0\n",
              "default              0\n",
              "hipoteca             0\n",
              "préstamo             0\n",
              "contacto             0\n",
              "mes contacto         0\n",
              "día contacto         0\n",
              "duration             0\n",
              "campaña              0\n",
              "diaspost             0\n",
              "contactos previos    0\n",
              "psalida              0\n",
              "emp.var.ratio        0\n",
              "idx.precio.cons      0\n",
              "idx.conf.cons        0\n",
              "euribor3m            0\n",
              "nr.employed          0\n",
              "S                    0\n",
              "dtype: int64"
            ]
          },
          "metadata": {},
          "execution_count": 2
        }
      ]
    },
    {
      "cell_type": "code",
      "source": [
        "## Tamaño de los registros\n",
        "df.shape"
      ],
      "metadata": {
        "colab": {
          "base_uri": "https://localhost:8080/"
        },
        "id": "XydgifL5jfje",
        "outputId": "9429dce2-07b5-4dcb-c681-dccfe4885267"
      },
      "execution_count": null,
      "outputs": [
        {
          "output_type": "execute_result",
          "data": {
            "text/plain": [
              "(41188, 21)"
            ]
          },
          "metadata": {},
          "execution_count": 3
        }
      ]
    },
    {
      "cell_type": "code",
      "source": [
        "#Eliminando duplicados\n",
        "df = df.drop_duplicates()\n",
        "df.shape"
      ],
      "metadata": {
        "colab": {
          "base_uri": "https://localhost:8080/"
        },
        "id": "6Wgk9ZVijfms",
        "outputId": "9fc2f684-0c80-4229-e74a-4c10b6956250"
      },
      "execution_count": null,
      "outputs": [
        {
          "output_type": "execute_result",
          "data": {
            "text/plain": [
              "(41175, 21)"
            ]
          },
          "metadata": {},
          "execution_count": 4
        }
      ]
    },
    {
      "cell_type": "code",
      "source": [
        "df.info()"
      ],
      "metadata": {
        "colab": {
          "base_uri": "https://localhost:8080/"
        },
        "id": "FxBfVEtvjfpd",
        "outputId": "75fc6b59-c25e-4529-ae48-866cdec3c5b5"
      },
      "execution_count": null,
      "outputs": [
        {
          "output_type": "stream",
          "name": "stdout",
          "text": [
            "<class 'pandas.core.frame.DataFrame'>\n",
            "Int64Index: 41175 entries, 0 to 41187\n",
            "Data columns (total 21 columns):\n",
            " #   Column             Non-Null Count  Dtype  \n",
            "---  ------             --------------  -----  \n",
            " 0   Edad               41175 non-null  int64  \n",
            " 1   Trabajo            41175 non-null  object \n",
            " 2   Estado Civil       41175 non-null  object \n",
            " 3   educacion          41175 non-null  object \n",
            " 4   default            41175 non-null  object \n",
            " 5   hipoteca           41175 non-null  object \n",
            " 6   préstamo           41175 non-null  object \n",
            " 7   contacto           41175 non-null  object \n",
            " 8   mes contacto       41175 non-null  object \n",
            " 9   día contacto       41175 non-null  object \n",
            " 10  duration           41175 non-null  int64  \n",
            " 11  campaña            41175 non-null  int64  \n",
            " 12  diaspost           41175 non-null  int64  \n",
            " 13  contactos previos  41175 non-null  int64  \n",
            " 14  psalida            41175 non-null  object \n",
            " 15  emp.var.ratio      41175 non-null  float64\n",
            " 16  idx.precio.cons    41175 non-null  float64\n",
            " 17  idx.conf.cons      41175 non-null  float64\n",
            " 18  euribor3m          41175 non-null  float64\n",
            " 19  nr.employed        41175 non-null  float64\n",
            " 20  S                  41175 non-null  object \n",
            "dtypes: float64(5), int64(5), object(11)\n",
            "memory usage: 6.9+ MB\n"
          ]
        }
      ]
    },
    {
      "cell_type": "code",
      "source": [
        "df.describe()"
      ],
      "metadata": {
        "colab": {
          "base_uri": "https://localhost:8080/",
          "height": 300
        },
        "id": "sX6Xwp4Pjfsl",
        "outputId": "302bb585-2ef7-4e07-b46f-fe07e829400b"
      },
      "execution_count": null,
      "outputs": [
        {
          "output_type": "execute_result",
          "data": {
            "text/plain": [
              "               Edad      duration       campaña      diaspost  \\\n",
              "count  41175.000000  41175.000000  41175.000000  41175.000000   \n",
              "mean      40.023752    258.317911      2.567917    962.463922   \n",
              "std       10.420802    259.308121      2.770341    186.939285   \n",
              "min       17.000000      0.000000      1.000000      0.000000   \n",
              "25%       32.000000    102.000000      1.000000    999.000000   \n",
              "50%       38.000000    180.000000      2.000000    999.000000   \n",
              "75%       47.000000    319.000000      3.000000    999.000000   \n",
              "max       98.000000   4918.000000     56.000000    999.000000   \n",
              "\n",
              "       contactos previos  emp.var.ratio  idx.precio.cons  idx.conf.cons  \\\n",
              "count       41175.000000   41175.000000     41175.000000   41175.000000   \n",
              "mean            0.173018       0.081967        93.575736     -40.502725   \n",
              "std             0.494970       1.570874         0.578836       4.627831   \n",
              "min             0.000000      -3.400000        92.201000     -50.800000   \n",
              "25%             0.000000      -1.800000        93.075000     -42.700000   \n",
              "50%             0.000000       1.100000        93.749000     -41.800000   \n",
              "75%             0.000000       1.400000        93.994000     -36.400000   \n",
              "max             7.000000       1.400000        94.767000     -26.900000   \n",
              "\n",
              "         euribor3m   nr.employed  \n",
              "count  41175.00000  41175.000000  \n",
              "mean       3.62135   5167.036520  \n",
              "std        1.73442     72.251466  \n",
              "min        0.63400   4963.600000  \n",
              "25%        1.34400   5099.100000  \n",
              "50%        4.85700   5191.000000  \n",
              "75%        4.96100   5228.100000  \n",
              "max        5.04500   5228.100000  "
            ],
            "text/html": [
              "\n",
              "  <div id=\"df-88dc7e04-b5fc-4c6c-a6a9-47ac85547036\">\n",
              "    <div class=\"colab-df-container\">\n",
              "      <div>\n",
              "<style scoped>\n",
              "    .dataframe tbody tr th:only-of-type {\n",
              "        vertical-align: middle;\n",
              "    }\n",
              "\n",
              "    .dataframe tbody tr th {\n",
              "        vertical-align: top;\n",
              "    }\n",
              "\n",
              "    .dataframe thead th {\n",
              "        text-align: right;\n",
              "    }\n",
              "</style>\n",
              "<table border=\"1\" class=\"dataframe\">\n",
              "  <thead>\n",
              "    <tr style=\"text-align: right;\">\n",
              "      <th></th>\n",
              "      <th>Edad</th>\n",
              "      <th>duration</th>\n",
              "      <th>campaña</th>\n",
              "      <th>diaspost</th>\n",
              "      <th>contactos previos</th>\n",
              "      <th>emp.var.ratio</th>\n",
              "      <th>idx.precio.cons</th>\n",
              "      <th>idx.conf.cons</th>\n",
              "      <th>euribor3m</th>\n",
              "      <th>nr.employed</th>\n",
              "    </tr>\n",
              "  </thead>\n",
              "  <tbody>\n",
              "    <tr>\n",
              "      <th>count</th>\n",
              "      <td>41175.000000</td>\n",
              "      <td>41175.000000</td>\n",
              "      <td>41175.000000</td>\n",
              "      <td>41175.000000</td>\n",
              "      <td>41175.000000</td>\n",
              "      <td>41175.000000</td>\n",
              "      <td>41175.000000</td>\n",
              "      <td>41175.000000</td>\n",
              "      <td>41175.00000</td>\n",
              "      <td>41175.000000</td>\n",
              "    </tr>\n",
              "    <tr>\n",
              "      <th>mean</th>\n",
              "      <td>40.023752</td>\n",
              "      <td>258.317911</td>\n",
              "      <td>2.567917</td>\n",
              "      <td>962.463922</td>\n",
              "      <td>0.173018</td>\n",
              "      <td>0.081967</td>\n",
              "      <td>93.575736</td>\n",
              "      <td>-40.502725</td>\n",
              "      <td>3.62135</td>\n",
              "      <td>5167.036520</td>\n",
              "    </tr>\n",
              "    <tr>\n",
              "      <th>std</th>\n",
              "      <td>10.420802</td>\n",
              "      <td>259.308121</td>\n",
              "      <td>2.770341</td>\n",
              "      <td>186.939285</td>\n",
              "      <td>0.494970</td>\n",
              "      <td>1.570874</td>\n",
              "      <td>0.578836</td>\n",
              "      <td>4.627831</td>\n",
              "      <td>1.73442</td>\n",
              "      <td>72.251466</td>\n",
              "    </tr>\n",
              "    <tr>\n",
              "      <th>min</th>\n",
              "      <td>17.000000</td>\n",
              "      <td>0.000000</td>\n",
              "      <td>1.000000</td>\n",
              "      <td>0.000000</td>\n",
              "      <td>0.000000</td>\n",
              "      <td>-3.400000</td>\n",
              "      <td>92.201000</td>\n",
              "      <td>-50.800000</td>\n",
              "      <td>0.63400</td>\n",
              "      <td>4963.600000</td>\n",
              "    </tr>\n",
              "    <tr>\n",
              "      <th>25%</th>\n",
              "      <td>32.000000</td>\n",
              "      <td>102.000000</td>\n",
              "      <td>1.000000</td>\n",
              "      <td>999.000000</td>\n",
              "      <td>0.000000</td>\n",
              "      <td>-1.800000</td>\n",
              "      <td>93.075000</td>\n",
              "      <td>-42.700000</td>\n",
              "      <td>1.34400</td>\n",
              "      <td>5099.100000</td>\n",
              "    </tr>\n",
              "    <tr>\n",
              "      <th>50%</th>\n",
              "      <td>38.000000</td>\n",
              "      <td>180.000000</td>\n",
              "      <td>2.000000</td>\n",
              "      <td>999.000000</td>\n",
              "      <td>0.000000</td>\n",
              "      <td>1.100000</td>\n",
              "      <td>93.749000</td>\n",
              "      <td>-41.800000</td>\n",
              "      <td>4.85700</td>\n",
              "      <td>5191.000000</td>\n",
              "    </tr>\n",
              "    <tr>\n",
              "      <th>75%</th>\n",
              "      <td>47.000000</td>\n",
              "      <td>319.000000</td>\n",
              "      <td>3.000000</td>\n",
              "      <td>999.000000</td>\n",
              "      <td>0.000000</td>\n",
              "      <td>1.400000</td>\n",
              "      <td>93.994000</td>\n",
              "      <td>-36.400000</td>\n",
              "      <td>4.96100</td>\n",
              "      <td>5228.100000</td>\n",
              "    </tr>\n",
              "    <tr>\n",
              "      <th>max</th>\n",
              "      <td>98.000000</td>\n",
              "      <td>4918.000000</td>\n",
              "      <td>56.000000</td>\n",
              "      <td>999.000000</td>\n",
              "      <td>7.000000</td>\n",
              "      <td>1.400000</td>\n",
              "      <td>94.767000</td>\n",
              "      <td>-26.900000</td>\n",
              "      <td>5.04500</td>\n",
              "      <td>5228.100000</td>\n",
              "    </tr>\n",
              "  </tbody>\n",
              "</table>\n",
              "</div>\n",
              "      <button class=\"colab-df-convert\" onclick=\"convertToInteractive('df-88dc7e04-b5fc-4c6c-a6a9-47ac85547036')\"\n",
              "              title=\"Convert this dataframe to an interactive table.\"\n",
              "              style=\"display:none;\">\n",
              "        \n",
              "  <svg xmlns=\"http://www.w3.org/2000/svg\" height=\"24px\"viewBox=\"0 0 24 24\"\n",
              "       width=\"24px\">\n",
              "    <path d=\"M0 0h24v24H0V0z\" fill=\"none\"/>\n",
              "    <path d=\"M18.56 5.44l.94 2.06.94-2.06 2.06-.94-2.06-.94-.94-2.06-.94 2.06-2.06.94zm-11 1L8.5 8.5l.94-2.06 2.06-.94-2.06-.94L8.5 2.5l-.94 2.06-2.06.94zm10 10l.94 2.06.94-2.06 2.06-.94-2.06-.94-.94-2.06-.94 2.06-2.06.94z\"/><path d=\"M17.41 7.96l-1.37-1.37c-.4-.4-.92-.59-1.43-.59-.52 0-1.04.2-1.43.59L10.3 9.45l-7.72 7.72c-.78.78-.78 2.05 0 2.83L4 21.41c.39.39.9.59 1.41.59.51 0 1.02-.2 1.41-.59l7.78-7.78 2.81-2.81c.8-.78.8-2.07 0-2.86zM5.41 20L4 18.59l7.72-7.72 1.47 1.35L5.41 20z\"/>\n",
              "  </svg>\n",
              "      </button>\n",
              "      \n",
              "  <style>\n",
              "    .colab-df-container {\n",
              "      display:flex;\n",
              "      flex-wrap:wrap;\n",
              "      gap: 12px;\n",
              "    }\n",
              "\n",
              "    .colab-df-convert {\n",
              "      background-color: #E8F0FE;\n",
              "      border: none;\n",
              "      border-radius: 50%;\n",
              "      cursor: pointer;\n",
              "      display: none;\n",
              "      fill: #1967D2;\n",
              "      height: 32px;\n",
              "      padding: 0 0 0 0;\n",
              "      width: 32px;\n",
              "    }\n",
              "\n",
              "    .colab-df-convert:hover {\n",
              "      background-color: #E2EBFA;\n",
              "      box-shadow: 0px 1px 2px rgba(60, 64, 67, 0.3), 0px 1px 3px 1px rgba(60, 64, 67, 0.15);\n",
              "      fill: #174EA6;\n",
              "    }\n",
              "\n",
              "    [theme=dark] .colab-df-convert {\n",
              "      background-color: #3B4455;\n",
              "      fill: #D2E3FC;\n",
              "    }\n",
              "\n",
              "    [theme=dark] .colab-df-convert:hover {\n",
              "      background-color: #434B5C;\n",
              "      box-shadow: 0px 1px 3px 1px rgba(0, 0, 0, 0.15);\n",
              "      filter: drop-shadow(0px 1px 2px rgba(0, 0, 0, 0.3));\n",
              "      fill: #FFFFFF;\n",
              "    }\n",
              "  </style>\n",
              "\n",
              "      <script>\n",
              "        const buttonEl =\n",
              "          document.querySelector('#df-88dc7e04-b5fc-4c6c-a6a9-47ac85547036 button.colab-df-convert');\n",
              "        buttonEl.style.display =\n",
              "          google.colab.kernel.accessAllowed ? 'block' : 'none';\n",
              "\n",
              "        async function convertToInteractive(key) {\n",
              "          const element = document.querySelector('#df-88dc7e04-b5fc-4c6c-a6a9-47ac85547036');\n",
              "          const dataTable =\n",
              "            await google.colab.kernel.invokeFunction('convertToInteractive',\n",
              "                                                     [key], {});\n",
              "          if (!dataTable) return;\n",
              "\n",
              "          const docLinkHtml = 'Like what you see? Visit the ' +\n",
              "            '<a target=\"_blank\" href=https://colab.research.google.com/notebooks/data_table.ipynb>data table notebook</a>'\n",
              "            + ' to learn more about interactive tables.';\n",
              "          element.innerHTML = '';\n",
              "          dataTable['output_type'] = 'display_data';\n",
              "          await google.colab.output.renderOutput(dataTable, element);\n",
              "          const docLink = document.createElement('div');\n",
              "          docLink.innerHTML = docLinkHtml;\n",
              "          element.appendChild(docLink);\n",
              "        }\n",
              "      </script>\n",
              "    </div>\n",
              "  </div>\n",
              "  "
            ]
          },
          "metadata": {},
          "execution_count": 6
        }
      ]
    },
    {
      "cell_type": "code",
      "source": [
        "# Vemos los pesos de la target\n",
        "df['S'].value_counts()/df.shape[0]"
      ],
      "metadata": {
        "colab": {
          "base_uri": "https://localhost:8080/"
        },
        "id": "M38gGBb_jfv1",
        "outputId": "6261fbca-10bd-4b3e-ae43-4a6e5f510fe6"
      },
      "execution_count": null,
      "outputs": [
        {
          "output_type": "execute_result",
          "data": {
            "text/plain": [
              "no    0.887335\n",
              "si    0.112665\n",
              "Name: S, dtype: float64"
            ]
          },
          "metadata": {},
          "execution_count": 7
        }
      ]
    },
    {
      "cell_type": "code",
      "source": [
        "import numpy as np\n",
        "\n",
        "# Función np.where(<condicion>, <valor cierto>, <valor falso>)\n",
        "df['TARGET'] = np.where(df['S']=='si', 1, 0)\n",
        "# Revisamos cómo queda la variable\n",
        "df.TARGET.value_counts()"
      ],
      "metadata": {
        "colab": {
          "base_uri": "https://localhost:8080/"
        },
        "id": "S_t2al26R-V0",
        "outputId": "788ebde3-037e-49e1-f890-0d0dfba08f8a"
      },
      "execution_count": null,
      "outputs": [
        {
          "output_type": "execute_result",
          "data": {
            "text/plain": [
              "0    36536\n",
              "1     4639\n",
              "Name: TARGET, dtype: int64"
            ]
          },
          "metadata": {},
          "execution_count": 8
        }
      ]
    },
    {
      "cell_type": "code",
      "source": [
        "# Revisamos cómo queda la variable en porcentajes\n",
        "df.TARGET.value_counts()/df.shape[0]"
      ],
      "metadata": {
        "colab": {
          "base_uri": "https://localhost:8080/"
        },
        "id": "jfCKvT5ITsrd",
        "outputId": "a375a83f-3abf-43f3-86b4-314eb990c7b0"
      },
      "execution_count": null,
      "outputs": [
        {
          "output_type": "execute_result",
          "data": {
            "text/plain": [
              "0    0.887335\n",
              "1    0.112665\n",
              "Name: TARGET, dtype: float64"
            ]
          },
          "metadata": {},
          "execution_count": 9
        }
      ]
    },
    {
      "cell_type": "code",
      "source": [
        "# Dropeamos la variable original\n",
        "df = df.drop(columns = ['S'])"
      ],
      "metadata": {
        "id": "g-RUHtDvT7PM"
      },
      "execution_count": null,
      "outputs": []
    },
    {
      "cell_type": "markdown",
      "source": [
        "## Trabajare con columnas numericas en primer lugar"
      ],
      "metadata": {
        "id": "L57KlFMbNkDN"
      }
    },
    {
      "cell_type": "code",
      "source": [
        "df_numericas = df.select_dtypes('number').copy(deep=True)\n",
        "df_numericas.head()"
      ],
      "metadata": {
        "colab": {
          "base_uri": "https://localhost:8080/",
          "height": 206
        },
        "id": "r0UxNtOTjfys",
        "outputId": "201d0cbe-3dae-40dc-d592-a193264964e7"
      },
      "execution_count": null,
      "outputs": [
        {
          "output_type": "execute_result",
          "data": {
            "text/plain": [
              "   Edad  duration  campaña  diaspost  contactos previos  emp.var.ratio  \\\n",
              "0    56       261        1       999                  0            1.1   \n",
              "1    57       149        1       999                  0            1.1   \n",
              "2    37       226        1       999                  0            1.1   \n",
              "3    40       151        1       999                  0            1.1   \n",
              "4    56       307        1       999                  0            1.1   \n",
              "\n",
              "   idx.precio.cons  idx.conf.cons  euribor3m  nr.employed  TARGET  \n",
              "0           93.994          -36.4      4.857       5191.0       0  \n",
              "1           93.994          -36.4      4.857       5191.0       0  \n",
              "2           93.994          -36.4      4.857       5191.0       0  \n",
              "3           93.994          -36.4      4.857       5191.0       0  \n",
              "4           93.994          -36.4      4.857       5191.0       0  "
            ],
            "text/html": [
              "\n",
              "  <div id=\"df-dcfa931c-9778-4993-bc7f-f08fb11fa148\">\n",
              "    <div class=\"colab-df-container\">\n",
              "      <div>\n",
              "<style scoped>\n",
              "    .dataframe tbody tr th:only-of-type {\n",
              "        vertical-align: middle;\n",
              "    }\n",
              "\n",
              "    .dataframe tbody tr th {\n",
              "        vertical-align: top;\n",
              "    }\n",
              "\n",
              "    .dataframe thead th {\n",
              "        text-align: right;\n",
              "    }\n",
              "</style>\n",
              "<table border=\"1\" class=\"dataframe\">\n",
              "  <thead>\n",
              "    <tr style=\"text-align: right;\">\n",
              "      <th></th>\n",
              "      <th>Edad</th>\n",
              "      <th>duration</th>\n",
              "      <th>campaña</th>\n",
              "      <th>diaspost</th>\n",
              "      <th>contactos previos</th>\n",
              "      <th>emp.var.ratio</th>\n",
              "      <th>idx.precio.cons</th>\n",
              "      <th>idx.conf.cons</th>\n",
              "      <th>euribor3m</th>\n",
              "      <th>nr.employed</th>\n",
              "      <th>TARGET</th>\n",
              "    </tr>\n",
              "  </thead>\n",
              "  <tbody>\n",
              "    <tr>\n",
              "      <th>0</th>\n",
              "      <td>56</td>\n",
              "      <td>261</td>\n",
              "      <td>1</td>\n",
              "      <td>999</td>\n",
              "      <td>0</td>\n",
              "      <td>1.1</td>\n",
              "      <td>93.994</td>\n",
              "      <td>-36.4</td>\n",
              "      <td>4.857</td>\n",
              "      <td>5191.0</td>\n",
              "      <td>0</td>\n",
              "    </tr>\n",
              "    <tr>\n",
              "      <th>1</th>\n",
              "      <td>57</td>\n",
              "      <td>149</td>\n",
              "      <td>1</td>\n",
              "      <td>999</td>\n",
              "      <td>0</td>\n",
              "      <td>1.1</td>\n",
              "      <td>93.994</td>\n",
              "      <td>-36.4</td>\n",
              "      <td>4.857</td>\n",
              "      <td>5191.0</td>\n",
              "      <td>0</td>\n",
              "    </tr>\n",
              "    <tr>\n",
              "      <th>2</th>\n",
              "      <td>37</td>\n",
              "      <td>226</td>\n",
              "      <td>1</td>\n",
              "      <td>999</td>\n",
              "      <td>0</td>\n",
              "      <td>1.1</td>\n",
              "      <td>93.994</td>\n",
              "      <td>-36.4</td>\n",
              "      <td>4.857</td>\n",
              "      <td>5191.0</td>\n",
              "      <td>0</td>\n",
              "    </tr>\n",
              "    <tr>\n",
              "      <th>3</th>\n",
              "      <td>40</td>\n",
              "      <td>151</td>\n",
              "      <td>1</td>\n",
              "      <td>999</td>\n",
              "      <td>0</td>\n",
              "      <td>1.1</td>\n",
              "      <td>93.994</td>\n",
              "      <td>-36.4</td>\n",
              "      <td>4.857</td>\n",
              "      <td>5191.0</td>\n",
              "      <td>0</td>\n",
              "    </tr>\n",
              "    <tr>\n",
              "      <th>4</th>\n",
              "      <td>56</td>\n",
              "      <td>307</td>\n",
              "      <td>1</td>\n",
              "      <td>999</td>\n",
              "      <td>0</td>\n",
              "      <td>1.1</td>\n",
              "      <td>93.994</td>\n",
              "      <td>-36.4</td>\n",
              "      <td>4.857</td>\n",
              "      <td>5191.0</td>\n",
              "      <td>0</td>\n",
              "    </tr>\n",
              "  </tbody>\n",
              "</table>\n",
              "</div>\n",
              "      <button class=\"colab-df-convert\" onclick=\"convertToInteractive('df-dcfa931c-9778-4993-bc7f-f08fb11fa148')\"\n",
              "              title=\"Convert this dataframe to an interactive table.\"\n",
              "              style=\"display:none;\">\n",
              "        \n",
              "  <svg xmlns=\"http://www.w3.org/2000/svg\" height=\"24px\"viewBox=\"0 0 24 24\"\n",
              "       width=\"24px\">\n",
              "    <path d=\"M0 0h24v24H0V0z\" fill=\"none\"/>\n",
              "    <path d=\"M18.56 5.44l.94 2.06.94-2.06 2.06-.94-2.06-.94-.94-2.06-.94 2.06-2.06.94zm-11 1L8.5 8.5l.94-2.06 2.06-.94-2.06-.94L8.5 2.5l-.94 2.06-2.06.94zm10 10l.94 2.06.94-2.06 2.06-.94-2.06-.94-.94-2.06-.94 2.06-2.06.94z\"/><path d=\"M17.41 7.96l-1.37-1.37c-.4-.4-.92-.59-1.43-.59-.52 0-1.04.2-1.43.59L10.3 9.45l-7.72 7.72c-.78.78-.78 2.05 0 2.83L4 21.41c.39.39.9.59 1.41.59.51 0 1.02-.2 1.41-.59l7.78-7.78 2.81-2.81c.8-.78.8-2.07 0-2.86zM5.41 20L4 18.59l7.72-7.72 1.47 1.35L5.41 20z\"/>\n",
              "  </svg>\n",
              "      </button>\n",
              "      \n",
              "  <style>\n",
              "    .colab-df-container {\n",
              "      display:flex;\n",
              "      flex-wrap:wrap;\n",
              "      gap: 12px;\n",
              "    }\n",
              "\n",
              "    .colab-df-convert {\n",
              "      background-color: #E8F0FE;\n",
              "      border: none;\n",
              "      border-radius: 50%;\n",
              "      cursor: pointer;\n",
              "      display: none;\n",
              "      fill: #1967D2;\n",
              "      height: 32px;\n",
              "      padding: 0 0 0 0;\n",
              "      width: 32px;\n",
              "    }\n",
              "\n",
              "    .colab-df-convert:hover {\n",
              "      background-color: #E2EBFA;\n",
              "      box-shadow: 0px 1px 2px rgba(60, 64, 67, 0.3), 0px 1px 3px 1px rgba(60, 64, 67, 0.15);\n",
              "      fill: #174EA6;\n",
              "    }\n",
              "\n",
              "    [theme=dark] .colab-df-convert {\n",
              "      background-color: #3B4455;\n",
              "      fill: #D2E3FC;\n",
              "    }\n",
              "\n",
              "    [theme=dark] .colab-df-convert:hover {\n",
              "      background-color: #434B5C;\n",
              "      box-shadow: 0px 1px 3px 1px rgba(0, 0, 0, 0.15);\n",
              "      filter: drop-shadow(0px 1px 2px rgba(0, 0, 0, 0.3));\n",
              "      fill: #FFFFFF;\n",
              "    }\n",
              "  </style>\n",
              "\n",
              "      <script>\n",
              "        const buttonEl =\n",
              "          document.querySelector('#df-dcfa931c-9778-4993-bc7f-f08fb11fa148 button.colab-df-convert');\n",
              "        buttonEl.style.display =\n",
              "          google.colab.kernel.accessAllowed ? 'block' : 'none';\n",
              "\n",
              "        async function convertToInteractive(key) {\n",
              "          const element = document.querySelector('#df-dcfa931c-9778-4993-bc7f-f08fb11fa148');\n",
              "          const dataTable =\n",
              "            await google.colab.kernel.invokeFunction('convertToInteractive',\n",
              "                                                     [key], {});\n",
              "          if (!dataTable) return;\n",
              "\n",
              "          const docLinkHtml = 'Like what you see? Visit the ' +\n",
              "            '<a target=\"_blank\" href=https://colab.research.google.com/notebooks/data_table.ipynb>data table notebook</a>'\n",
              "            + ' to learn more about interactive tables.';\n",
              "          element.innerHTML = '';\n",
              "          dataTable['output_type'] = 'display_data';\n",
              "          await google.colab.output.renderOutput(dataTable, element);\n",
              "          const docLink = document.createElement('div');\n",
              "          docLink.innerHTML = docLinkHtml;\n",
              "          element.appendChild(docLink);\n",
              "        }\n",
              "      </script>\n",
              "    </div>\n",
              "  </div>\n",
              "  "
            ]
          },
          "metadata": {},
          "execution_count": 11
        }
      ]
    },
    {
      "cell_type": "code",
      "source": [
        "# Revisemos valores nulos\n",
        "df_numericas.isnull().sum()"
      ],
      "metadata": {
        "colab": {
          "base_uri": "https://localhost:8080/"
        },
        "id": "Xyrg3y-kjf1s",
        "outputId": "b0154a9a-1b80-4e43-c6e9-bd2ba71a4a03"
      },
      "execution_count": null,
      "outputs": [
        {
          "output_type": "execute_result",
          "data": {
            "text/plain": [
              "Edad                 0\n",
              "duration             0\n",
              "campaña              0\n",
              "diaspost             0\n",
              "contactos previos    0\n",
              "emp.var.ratio        0\n",
              "idx.precio.cons      0\n",
              "idx.conf.cons        0\n",
              "euribor3m            0\n",
              "nr.employed          0\n",
              "TARGET               0\n",
              "dtype: int64"
            ]
          },
          "metadata": {},
          "execution_count": 12
        }
      ]
    },
    {
      "cell_type": "code",
      "source": [
        "# Veamos estadísticos básicos\n",
        "df_numericas.describe()"
      ],
      "metadata": {
        "colab": {
          "base_uri": "https://localhost:8080/",
          "height": 300
        },
        "id": "xthYsVjwjf4t",
        "outputId": "13870028-9c1c-466b-8ecb-dcfc392bc53a"
      },
      "execution_count": null,
      "outputs": [
        {
          "output_type": "execute_result",
          "data": {
            "text/plain": [
              "               Edad      duration       campaña      diaspost  \\\n",
              "count  41175.000000  41175.000000  41175.000000  41175.000000   \n",
              "mean      40.023752    258.317911      2.567917    962.463922   \n",
              "std       10.420802    259.308121      2.770341    186.939285   \n",
              "min       17.000000      0.000000      1.000000      0.000000   \n",
              "25%       32.000000    102.000000      1.000000    999.000000   \n",
              "50%       38.000000    180.000000      2.000000    999.000000   \n",
              "75%       47.000000    319.000000      3.000000    999.000000   \n",
              "max       98.000000   4918.000000     56.000000    999.000000   \n",
              "\n",
              "       contactos previos  emp.var.ratio  idx.precio.cons  idx.conf.cons  \\\n",
              "count       41175.000000   41175.000000     41175.000000   41175.000000   \n",
              "mean            0.173018       0.081967        93.575736     -40.502725   \n",
              "std             0.494970       1.570874         0.578836       4.627831   \n",
              "min             0.000000      -3.400000        92.201000     -50.800000   \n",
              "25%             0.000000      -1.800000        93.075000     -42.700000   \n",
              "50%             0.000000       1.100000        93.749000     -41.800000   \n",
              "75%             0.000000       1.400000        93.994000     -36.400000   \n",
              "max             7.000000       1.400000        94.767000     -26.900000   \n",
              "\n",
              "         euribor3m   nr.employed        TARGET  \n",
              "count  41175.00000  41175.000000  41175.000000  \n",
              "mean       3.62135   5167.036520      0.112665  \n",
              "std        1.73442     72.251466      0.316187  \n",
              "min        0.63400   4963.600000      0.000000  \n",
              "25%        1.34400   5099.100000      0.000000  \n",
              "50%        4.85700   5191.000000      0.000000  \n",
              "75%        4.96100   5228.100000      0.000000  \n",
              "max        5.04500   5228.100000      1.000000  "
            ],
            "text/html": [
              "\n",
              "  <div id=\"df-09f7e677-94bc-4045-83e3-233e77b827b8\">\n",
              "    <div class=\"colab-df-container\">\n",
              "      <div>\n",
              "<style scoped>\n",
              "    .dataframe tbody tr th:only-of-type {\n",
              "        vertical-align: middle;\n",
              "    }\n",
              "\n",
              "    .dataframe tbody tr th {\n",
              "        vertical-align: top;\n",
              "    }\n",
              "\n",
              "    .dataframe thead th {\n",
              "        text-align: right;\n",
              "    }\n",
              "</style>\n",
              "<table border=\"1\" class=\"dataframe\">\n",
              "  <thead>\n",
              "    <tr style=\"text-align: right;\">\n",
              "      <th></th>\n",
              "      <th>Edad</th>\n",
              "      <th>duration</th>\n",
              "      <th>campaña</th>\n",
              "      <th>diaspost</th>\n",
              "      <th>contactos previos</th>\n",
              "      <th>emp.var.ratio</th>\n",
              "      <th>idx.precio.cons</th>\n",
              "      <th>idx.conf.cons</th>\n",
              "      <th>euribor3m</th>\n",
              "      <th>nr.employed</th>\n",
              "      <th>TARGET</th>\n",
              "    </tr>\n",
              "  </thead>\n",
              "  <tbody>\n",
              "    <tr>\n",
              "      <th>count</th>\n",
              "      <td>41175.000000</td>\n",
              "      <td>41175.000000</td>\n",
              "      <td>41175.000000</td>\n",
              "      <td>41175.000000</td>\n",
              "      <td>41175.000000</td>\n",
              "      <td>41175.000000</td>\n",
              "      <td>41175.000000</td>\n",
              "      <td>41175.000000</td>\n",
              "      <td>41175.00000</td>\n",
              "      <td>41175.000000</td>\n",
              "      <td>41175.000000</td>\n",
              "    </tr>\n",
              "    <tr>\n",
              "      <th>mean</th>\n",
              "      <td>40.023752</td>\n",
              "      <td>258.317911</td>\n",
              "      <td>2.567917</td>\n",
              "      <td>962.463922</td>\n",
              "      <td>0.173018</td>\n",
              "      <td>0.081967</td>\n",
              "      <td>93.575736</td>\n",
              "      <td>-40.502725</td>\n",
              "      <td>3.62135</td>\n",
              "      <td>5167.036520</td>\n",
              "      <td>0.112665</td>\n",
              "    </tr>\n",
              "    <tr>\n",
              "      <th>std</th>\n",
              "      <td>10.420802</td>\n",
              "      <td>259.308121</td>\n",
              "      <td>2.770341</td>\n",
              "      <td>186.939285</td>\n",
              "      <td>0.494970</td>\n",
              "      <td>1.570874</td>\n",
              "      <td>0.578836</td>\n",
              "      <td>4.627831</td>\n",
              "      <td>1.73442</td>\n",
              "      <td>72.251466</td>\n",
              "      <td>0.316187</td>\n",
              "    </tr>\n",
              "    <tr>\n",
              "      <th>min</th>\n",
              "      <td>17.000000</td>\n",
              "      <td>0.000000</td>\n",
              "      <td>1.000000</td>\n",
              "      <td>0.000000</td>\n",
              "      <td>0.000000</td>\n",
              "      <td>-3.400000</td>\n",
              "      <td>92.201000</td>\n",
              "      <td>-50.800000</td>\n",
              "      <td>0.63400</td>\n",
              "      <td>4963.600000</td>\n",
              "      <td>0.000000</td>\n",
              "    </tr>\n",
              "    <tr>\n",
              "      <th>25%</th>\n",
              "      <td>32.000000</td>\n",
              "      <td>102.000000</td>\n",
              "      <td>1.000000</td>\n",
              "      <td>999.000000</td>\n",
              "      <td>0.000000</td>\n",
              "      <td>-1.800000</td>\n",
              "      <td>93.075000</td>\n",
              "      <td>-42.700000</td>\n",
              "      <td>1.34400</td>\n",
              "      <td>5099.100000</td>\n",
              "      <td>0.000000</td>\n",
              "    </tr>\n",
              "    <tr>\n",
              "      <th>50%</th>\n",
              "      <td>38.000000</td>\n",
              "      <td>180.000000</td>\n",
              "      <td>2.000000</td>\n",
              "      <td>999.000000</td>\n",
              "      <td>0.000000</td>\n",
              "      <td>1.100000</td>\n",
              "      <td>93.749000</td>\n",
              "      <td>-41.800000</td>\n",
              "      <td>4.85700</td>\n",
              "      <td>5191.000000</td>\n",
              "      <td>0.000000</td>\n",
              "    </tr>\n",
              "    <tr>\n",
              "      <th>75%</th>\n",
              "      <td>47.000000</td>\n",
              "      <td>319.000000</td>\n",
              "      <td>3.000000</td>\n",
              "      <td>999.000000</td>\n",
              "      <td>0.000000</td>\n",
              "      <td>1.400000</td>\n",
              "      <td>93.994000</td>\n",
              "      <td>-36.400000</td>\n",
              "      <td>4.96100</td>\n",
              "      <td>5228.100000</td>\n",
              "      <td>0.000000</td>\n",
              "    </tr>\n",
              "    <tr>\n",
              "      <th>max</th>\n",
              "      <td>98.000000</td>\n",
              "      <td>4918.000000</td>\n",
              "      <td>56.000000</td>\n",
              "      <td>999.000000</td>\n",
              "      <td>7.000000</td>\n",
              "      <td>1.400000</td>\n",
              "      <td>94.767000</td>\n",
              "      <td>-26.900000</td>\n",
              "      <td>5.04500</td>\n",
              "      <td>5228.100000</td>\n",
              "      <td>1.000000</td>\n",
              "    </tr>\n",
              "  </tbody>\n",
              "</table>\n",
              "</div>\n",
              "      <button class=\"colab-df-convert\" onclick=\"convertToInteractive('df-09f7e677-94bc-4045-83e3-233e77b827b8')\"\n",
              "              title=\"Convert this dataframe to an interactive table.\"\n",
              "              style=\"display:none;\">\n",
              "        \n",
              "  <svg xmlns=\"http://www.w3.org/2000/svg\" height=\"24px\"viewBox=\"0 0 24 24\"\n",
              "       width=\"24px\">\n",
              "    <path d=\"M0 0h24v24H0V0z\" fill=\"none\"/>\n",
              "    <path d=\"M18.56 5.44l.94 2.06.94-2.06 2.06-.94-2.06-.94-.94-2.06-.94 2.06-2.06.94zm-11 1L8.5 8.5l.94-2.06 2.06-.94-2.06-.94L8.5 2.5l-.94 2.06-2.06.94zm10 10l.94 2.06.94-2.06 2.06-.94-2.06-.94-.94-2.06-.94 2.06-2.06.94z\"/><path d=\"M17.41 7.96l-1.37-1.37c-.4-.4-.92-.59-1.43-.59-.52 0-1.04.2-1.43.59L10.3 9.45l-7.72 7.72c-.78.78-.78 2.05 0 2.83L4 21.41c.39.39.9.59 1.41.59.51 0 1.02-.2 1.41-.59l7.78-7.78 2.81-2.81c.8-.78.8-2.07 0-2.86zM5.41 20L4 18.59l7.72-7.72 1.47 1.35L5.41 20z\"/>\n",
              "  </svg>\n",
              "      </button>\n",
              "      \n",
              "  <style>\n",
              "    .colab-df-container {\n",
              "      display:flex;\n",
              "      flex-wrap:wrap;\n",
              "      gap: 12px;\n",
              "    }\n",
              "\n",
              "    .colab-df-convert {\n",
              "      background-color: #E8F0FE;\n",
              "      border: none;\n",
              "      border-radius: 50%;\n",
              "      cursor: pointer;\n",
              "      display: none;\n",
              "      fill: #1967D2;\n",
              "      height: 32px;\n",
              "      padding: 0 0 0 0;\n",
              "      width: 32px;\n",
              "    }\n",
              "\n",
              "    .colab-df-convert:hover {\n",
              "      background-color: #E2EBFA;\n",
              "      box-shadow: 0px 1px 2px rgba(60, 64, 67, 0.3), 0px 1px 3px 1px rgba(60, 64, 67, 0.15);\n",
              "      fill: #174EA6;\n",
              "    }\n",
              "\n",
              "    [theme=dark] .colab-df-convert {\n",
              "      background-color: #3B4455;\n",
              "      fill: #D2E3FC;\n",
              "    }\n",
              "\n",
              "    [theme=dark] .colab-df-convert:hover {\n",
              "      background-color: #434B5C;\n",
              "      box-shadow: 0px 1px 3px 1px rgba(0, 0, 0, 0.15);\n",
              "      filter: drop-shadow(0px 1px 2px rgba(0, 0, 0, 0.3));\n",
              "      fill: #FFFFFF;\n",
              "    }\n",
              "  </style>\n",
              "\n",
              "      <script>\n",
              "        const buttonEl =\n",
              "          document.querySelector('#df-09f7e677-94bc-4045-83e3-233e77b827b8 button.colab-df-convert');\n",
              "        buttonEl.style.display =\n",
              "          google.colab.kernel.accessAllowed ? 'block' : 'none';\n",
              "\n",
              "        async function convertToInteractive(key) {\n",
              "          const element = document.querySelector('#df-09f7e677-94bc-4045-83e3-233e77b827b8');\n",
              "          const dataTable =\n",
              "            await google.colab.kernel.invokeFunction('convertToInteractive',\n",
              "                                                     [key], {});\n",
              "          if (!dataTable) return;\n",
              "\n",
              "          const docLinkHtml = 'Like what you see? Visit the ' +\n",
              "            '<a target=\"_blank\" href=https://colab.research.google.com/notebooks/data_table.ipynb>data table notebook</a>'\n",
              "            + ' to learn more about interactive tables.';\n",
              "          element.innerHTML = '';\n",
              "          dataTable['output_type'] = 'display_data';\n",
              "          await google.colab.output.renderOutput(dataTable, element);\n",
              "          const docLink = document.createElement('div');\n",
              "          docLink.innerHTML = docLinkHtml;\n",
              "          element.appendChild(docLink);\n",
              "        }\n",
              "      </script>\n",
              "    </div>\n",
              "  </div>\n",
              "  "
            ]
          },
          "metadata": {},
          "execution_count": 13
        }
      ]
    },
    {
      "cell_type": "code",
      "source": [
        "# y luego miremos al promedio por cada uno de los grupos de sobrevivientes:\n",
        "df_numericas.groupby(['TARGET'])['duration'].max()"
      ],
      "metadata": {
        "colab": {
          "base_uri": "https://localhost:8080/"
        },
        "id": "z0Hz-v_djf-Y",
        "outputId": "3f1aa676-a246-4738-8fd4-e44d6848f016"
      },
      "execution_count": null,
      "outputs": [
        {
          "output_type": "execute_result",
          "data": {
            "text/plain": [
              "TARGET\n",
              "0    4918\n",
              "1    4199\n",
              "Name: duration, dtype: int64"
            ]
          },
          "metadata": {},
          "execution_count": 14
        }
      ]
    },
    {
      "cell_type": "code",
      "source": [
        "df_numericas['diaspost'].value_counts()"
      ],
      "metadata": {
        "id": "gGPIeH0oV61c",
        "colab": {
          "base_uri": "https://localhost:8080/"
        },
        "outputId": "15eb51a2-1af7-4fee-c583-44f299fbf1c9"
      },
      "execution_count": null,
      "outputs": [
        {
          "output_type": "execute_result",
          "data": {
            "text/plain": [
              "999    39660\n",
              "3        439\n",
              "6        412\n",
              "4        118\n",
              "9         64\n",
              "2         61\n",
              "7         60\n",
              "12        58\n",
              "10        52\n",
              "5         46\n",
              "13        36\n",
              "11        28\n",
              "1         26\n",
              "15        24\n",
              "14        20\n",
              "8         18\n",
              "0         15\n",
              "16        11\n",
              "17         8\n",
              "18         7\n",
              "22         3\n",
              "19         3\n",
              "21         2\n",
              "25         1\n",
              "26         1\n",
              "27         1\n",
              "20         1\n",
              "Name: diaspost, dtype: int64"
            ]
          },
          "metadata": {},
          "execution_count": 15
        }
      ]
    },
    {
      "cell_type": "code",
      "source": [
        "# Revisamos cómo queda la variable en porcentajes\n",
        "df_numericas.diaspost.value_counts()/df.shape[0]"
      ],
      "metadata": {
        "id": "mRl-ZdGMV64j",
        "colab": {
          "base_uri": "https://localhost:8080/"
        },
        "outputId": "8ad4e6a4-269f-47c9-a30a-4934880d3f8c"
      },
      "execution_count": null,
      "outputs": [
        {
          "output_type": "execute_result",
          "data": {
            "text/plain": [
              "999    0.963206\n",
              "3      0.010662\n",
              "6      0.010006\n",
              "4      0.002866\n",
              "9      0.001554\n",
              "2      0.001481\n",
              "7      0.001457\n",
              "12     0.001409\n",
              "10     0.001263\n",
              "5      0.001117\n",
              "13     0.000874\n",
              "11     0.000680\n",
              "1      0.000631\n",
              "15     0.000583\n",
              "14     0.000486\n",
              "8      0.000437\n",
              "0      0.000364\n",
              "16     0.000267\n",
              "17     0.000194\n",
              "18     0.000170\n",
              "22     0.000073\n",
              "19     0.000073\n",
              "21     0.000049\n",
              "25     0.000024\n",
              "26     0.000024\n",
              "27     0.000024\n",
              "20     0.000024\n",
              "Name: diaspost, dtype: float64"
            ]
          },
          "metadata": {},
          "execution_count": 16
        }
      ]
    },
    {
      "cell_type": "markdown",
      "source": [
        "# *Para terminos predictivos, descartaremos el uso de la variable Duration, puesto que en la bibliografia indica que solo es referencial. Asimismo, descartaremos la variable diaspost, puesto que contiene mas del 96% de las variables y esto puede sesgar el modelo*"
      ],
      "metadata": {
        "id": "c_RKkeOBBxBh"
      }
    },
    {
      "cell_type": "code",
      "source": [
        "df_numericas.drop(['diaspost', 'duration'], axis=1, inplace = True)\n",
        "df_numericas.describe()"
      ],
      "metadata": {
        "id": "fLMFtg7uV67T",
        "colab": {
          "base_uri": "https://localhost:8080/",
          "height": 300
        },
        "outputId": "f854fe21-eb1a-4930-b84a-409d597636ed"
      },
      "execution_count": null,
      "outputs": [
        {
          "output_type": "execute_result",
          "data": {
            "text/plain": [
              "               Edad       campaña  contactos previos  emp.var.ratio  \\\n",
              "count  41175.000000  41175.000000       41175.000000   41175.000000   \n",
              "mean      40.023752      2.567917           0.173018       0.081967   \n",
              "std       10.420802      2.770341           0.494970       1.570874   \n",
              "min       17.000000      1.000000           0.000000      -3.400000   \n",
              "25%       32.000000      1.000000           0.000000      -1.800000   \n",
              "50%       38.000000      2.000000           0.000000       1.100000   \n",
              "75%       47.000000      3.000000           0.000000       1.400000   \n",
              "max       98.000000     56.000000           7.000000       1.400000   \n",
              "\n",
              "       idx.precio.cons  idx.conf.cons    euribor3m   nr.employed        TARGET  \n",
              "count     41175.000000   41175.000000  41175.00000  41175.000000  41175.000000  \n",
              "mean         93.575736     -40.502725      3.62135   5167.036520      0.112665  \n",
              "std           0.578836       4.627831      1.73442     72.251466      0.316187  \n",
              "min          92.201000     -50.800000      0.63400   4963.600000      0.000000  \n",
              "25%          93.075000     -42.700000      1.34400   5099.100000      0.000000  \n",
              "50%          93.749000     -41.800000      4.85700   5191.000000      0.000000  \n",
              "75%          93.994000     -36.400000      4.96100   5228.100000      0.000000  \n",
              "max          94.767000     -26.900000      5.04500   5228.100000      1.000000  "
            ],
            "text/html": [
              "\n",
              "  <div id=\"df-ff85d6f7-6cc7-4fc6-a767-6ca13abb9051\">\n",
              "    <div class=\"colab-df-container\">\n",
              "      <div>\n",
              "<style scoped>\n",
              "    .dataframe tbody tr th:only-of-type {\n",
              "        vertical-align: middle;\n",
              "    }\n",
              "\n",
              "    .dataframe tbody tr th {\n",
              "        vertical-align: top;\n",
              "    }\n",
              "\n",
              "    .dataframe thead th {\n",
              "        text-align: right;\n",
              "    }\n",
              "</style>\n",
              "<table border=\"1\" class=\"dataframe\">\n",
              "  <thead>\n",
              "    <tr style=\"text-align: right;\">\n",
              "      <th></th>\n",
              "      <th>Edad</th>\n",
              "      <th>campaña</th>\n",
              "      <th>contactos previos</th>\n",
              "      <th>emp.var.ratio</th>\n",
              "      <th>idx.precio.cons</th>\n",
              "      <th>idx.conf.cons</th>\n",
              "      <th>euribor3m</th>\n",
              "      <th>nr.employed</th>\n",
              "      <th>TARGET</th>\n",
              "    </tr>\n",
              "  </thead>\n",
              "  <tbody>\n",
              "    <tr>\n",
              "      <th>count</th>\n",
              "      <td>41175.000000</td>\n",
              "      <td>41175.000000</td>\n",
              "      <td>41175.000000</td>\n",
              "      <td>41175.000000</td>\n",
              "      <td>41175.000000</td>\n",
              "      <td>41175.000000</td>\n",
              "      <td>41175.00000</td>\n",
              "      <td>41175.000000</td>\n",
              "      <td>41175.000000</td>\n",
              "    </tr>\n",
              "    <tr>\n",
              "      <th>mean</th>\n",
              "      <td>40.023752</td>\n",
              "      <td>2.567917</td>\n",
              "      <td>0.173018</td>\n",
              "      <td>0.081967</td>\n",
              "      <td>93.575736</td>\n",
              "      <td>-40.502725</td>\n",
              "      <td>3.62135</td>\n",
              "      <td>5167.036520</td>\n",
              "      <td>0.112665</td>\n",
              "    </tr>\n",
              "    <tr>\n",
              "      <th>std</th>\n",
              "      <td>10.420802</td>\n",
              "      <td>2.770341</td>\n",
              "      <td>0.494970</td>\n",
              "      <td>1.570874</td>\n",
              "      <td>0.578836</td>\n",
              "      <td>4.627831</td>\n",
              "      <td>1.73442</td>\n",
              "      <td>72.251466</td>\n",
              "      <td>0.316187</td>\n",
              "    </tr>\n",
              "    <tr>\n",
              "      <th>min</th>\n",
              "      <td>17.000000</td>\n",
              "      <td>1.000000</td>\n",
              "      <td>0.000000</td>\n",
              "      <td>-3.400000</td>\n",
              "      <td>92.201000</td>\n",
              "      <td>-50.800000</td>\n",
              "      <td>0.63400</td>\n",
              "      <td>4963.600000</td>\n",
              "      <td>0.000000</td>\n",
              "    </tr>\n",
              "    <tr>\n",
              "      <th>25%</th>\n",
              "      <td>32.000000</td>\n",
              "      <td>1.000000</td>\n",
              "      <td>0.000000</td>\n",
              "      <td>-1.800000</td>\n",
              "      <td>93.075000</td>\n",
              "      <td>-42.700000</td>\n",
              "      <td>1.34400</td>\n",
              "      <td>5099.100000</td>\n",
              "      <td>0.000000</td>\n",
              "    </tr>\n",
              "    <tr>\n",
              "      <th>50%</th>\n",
              "      <td>38.000000</td>\n",
              "      <td>2.000000</td>\n",
              "      <td>0.000000</td>\n",
              "      <td>1.100000</td>\n",
              "      <td>93.749000</td>\n",
              "      <td>-41.800000</td>\n",
              "      <td>4.85700</td>\n",
              "      <td>5191.000000</td>\n",
              "      <td>0.000000</td>\n",
              "    </tr>\n",
              "    <tr>\n",
              "      <th>75%</th>\n",
              "      <td>47.000000</td>\n",
              "      <td>3.000000</td>\n",
              "      <td>0.000000</td>\n",
              "      <td>1.400000</td>\n",
              "      <td>93.994000</td>\n",
              "      <td>-36.400000</td>\n",
              "      <td>4.96100</td>\n",
              "      <td>5228.100000</td>\n",
              "      <td>0.000000</td>\n",
              "    </tr>\n",
              "    <tr>\n",
              "      <th>max</th>\n",
              "      <td>98.000000</td>\n",
              "      <td>56.000000</td>\n",
              "      <td>7.000000</td>\n",
              "      <td>1.400000</td>\n",
              "      <td>94.767000</td>\n",
              "      <td>-26.900000</td>\n",
              "      <td>5.04500</td>\n",
              "      <td>5228.100000</td>\n",
              "      <td>1.000000</td>\n",
              "    </tr>\n",
              "  </tbody>\n",
              "</table>\n",
              "</div>\n",
              "      <button class=\"colab-df-convert\" onclick=\"convertToInteractive('df-ff85d6f7-6cc7-4fc6-a767-6ca13abb9051')\"\n",
              "              title=\"Convert this dataframe to an interactive table.\"\n",
              "              style=\"display:none;\">\n",
              "        \n",
              "  <svg xmlns=\"http://www.w3.org/2000/svg\" height=\"24px\"viewBox=\"0 0 24 24\"\n",
              "       width=\"24px\">\n",
              "    <path d=\"M0 0h24v24H0V0z\" fill=\"none\"/>\n",
              "    <path d=\"M18.56 5.44l.94 2.06.94-2.06 2.06-.94-2.06-.94-.94-2.06-.94 2.06-2.06.94zm-11 1L8.5 8.5l.94-2.06 2.06-.94-2.06-.94L8.5 2.5l-.94 2.06-2.06.94zm10 10l.94 2.06.94-2.06 2.06-.94-2.06-.94-.94-2.06-.94 2.06-2.06.94z\"/><path d=\"M17.41 7.96l-1.37-1.37c-.4-.4-.92-.59-1.43-.59-.52 0-1.04.2-1.43.59L10.3 9.45l-7.72 7.72c-.78.78-.78 2.05 0 2.83L4 21.41c.39.39.9.59 1.41.59.51 0 1.02-.2 1.41-.59l7.78-7.78 2.81-2.81c.8-.78.8-2.07 0-2.86zM5.41 20L4 18.59l7.72-7.72 1.47 1.35L5.41 20z\"/>\n",
              "  </svg>\n",
              "      </button>\n",
              "      \n",
              "  <style>\n",
              "    .colab-df-container {\n",
              "      display:flex;\n",
              "      flex-wrap:wrap;\n",
              "      gap: 12px;\n",
              "    }\n",
              "\n",
              "    .colab-df-convert {\n",
              "      background-color: #E8F0FE;\n",
              "      border: none;\n",
              "      border-radius: 50%;\n",
              "      cursor: pointer;\n",
              "      display: none;\n",
              "      fill: #1967D2;\n",
              "      height: 32px;\n",
              "      padding: 0 0 0 0;\n",
              "      width: 32px;\n",
              "    }\n",
              "\n",
              "    .colab-df-convert:hover {\n",
              "      background-color: #E2EBFA;\n",
              "      box-shadow: 0px 1px 2px rgba(60, 64, 67, 0.3), 0px 1px 3px 1px rgba(60, 64, 67, 0.15);\n",
              "      fill: #174EA6;\n",
              "    }\n",
              "\n",
              "    [theme=dark] .colab-df-convert {\n",
              "      background-color: #3B4455;\n",
              "      fill: #D2E3FC;\n",
              "    }\n",
              "\n",
              "    [theme=dark] .colab-df-convert:hover {\n",
              "      background-color: #434B5C;\n",
              "      box-shadow: 0px 1px 3px 1px rgba(0, 0, 0, 0.15);\n",
              "      filter: drop-shadow(0px 1px 2px rgba(0, 0, 0, 0.3));\n",
              "      fill: #FFFFFF;\n",
              "    }\n",
              "  </style>\n",
              "\n",
              "      <script>\n",
              "        const buttonEl =\n",
              "          document.querySelector('#df-ff85d6f7-6cc7-4fc6-a767-6ca13abb9051 button.colab-df-convert');\n",
              "        buttonEl.style.display =\n",
              "          google.colab.kernel.accessAllowed ? 'block' : 'none';\n",
              "\n",
              "        async function convertToInteractive(key) {\n",
              "          const element = document.querySelector('#df-ff85d6f7-6cc7-4fc6-a767-6ca13abb9051');\n",
              "          const dataTable =\n",
              "            await google.colab.kernel.invokeFunction('convertToInteractive',\n",
              "                                                     [key], {});\n",
              "          if (!dataTable) return;\n",
              "\n",
              "          const docLinkHtml = 'Like what you see? Visit the ' +\n",
              "            '<a target=\"_blank\" href=https://colab.research.google.com/notebooks/data_table.ipynb>data table notebook</a>'\n",
              "            + ' to learn more about interactive tables.';\n",
              "          element.innerHTML = '';\n",
              "          dataTable['output_type'] = 'display_data';\n",
              "          await google.colab.output.renderOutput(dataTable, element);\n",
              "          const docLink = document.createElement('div');\n",
              "          docLink.innerHTML = docLinkHtml;\n",
              "          element.appendChild(docLink);\n",
              "        }\n",
              "      </script>\n",
              "    </div>\n",
              "  </div>\n",
              "  "
            ]
          },
          "metadata": {},
          "execution_count": 17
        }
      ]
    },
    {
      "cell_type": "code",
      "source": [
        "df_numericas.head()"
      ],
      "metadata": {
        "id": "9-Pt8RkkV697",
        "colab": {
          "base_uri": "https://localhost:8080/",
          "height": 206
        },
        "outputId": "02036f52-47c4-4a3a-d3a2-c0518676ec19"
      },
      "execution_count": null,
      "outputs": [
        {
          "output_type": "execute_result",
          "data": {
            "text/plain": [
              "   Edad  campaña  contactos previos  emp.var.ratio  idx.precio.cons  \\\n",
              "0    56        1                  0            1.1           93.994   \n",
              "1    57        1                  0            1.1           93.994   \n",
              "2    37        1                  0            1.1           93.994   \n",
              "3    40        1                  0            1.1           93.994   \n",
              "4    56        1                  0            1.1           93.994   \n",
              "\n",
              "   idx.conf.cons  euribor3m  nr.employed  TARGET  \n",
              "0          -36.4      4.857       5191.0       0  \n",
              "1          -36.4      4.857       5191.0       0  \n",
              "2          -36.4      4.857       5191.0       0  \n",
              "3          -36.4      4.857       5191.0       0  \n",
              "4          -36.4      4.857       5191.0       0  "
            ],
            "text/html": [
              "\n",
              "  <div id=\"df-27e6815a-ddc8-4188-a2ed-668749e89318\">\n",
              "    <div class=\"colab-df-container\">\n",
              "      <div>\n",
              "<style scoped>\n",
              "    .dataframe tbody tr th:only-of-type {\n",
              "        vertical-align: middle;\n",
              "    }\n",
              "\n",
              "    .dataframe tbody tr th {\n",
              "        vertical-align: top;\n",
              "    }\n",
              "\n",
              "    .dataframe thead th {\n",
              "        text-align: right;\n",
              "    }\n",
              "</style>\n",
              "<table border=\"1\" class=\"dataframe\">\n",
              "  <thead>\n",
              "    <tr style=\"text-align: right;\">\n",
              "      <th></th>\n",
              "      <th>Edad</th>\n",
              "      <th>campaña</th>\n",
              "      <th>contactos previos</th>\n",
              "      <th>emp.var.ratio</th>\n",
              "      <th>idx.precio.cons</th>\n",
              "      <th>idx.conf.cons</th>\n",
              "      <th>euribor3m</th>\n",
              "      <th>nr.employed</th>\n",
              "      <th>TARGET</th>\n",
              "    </tr>\n",
              "  </thead>\n",
              "  <tbody>\n",
              "    <tr>\n",
              "      <th>0</th>\n",
              "      <td>56</td>\n",
              "      <td>1</td>\n",
              "      <td>0</td>\n",
              "      <td>1.1</td>\n",
              "      <td>93.994</td>\n",
              "      <td>-36.4</td>\n",
              "      <td>4.857</td>\n",
              "      <td>5191.0</td>\n",
              "      <td>0</td>\n",
              "    </tr>\n",
              "    <tr>\n",
              "      <th>1</th>\n",
              "      <td>57</td>\n",
              "      <td>1</td>\n",
              "      <td>0</td>\n",
              "      <td>1.1</td>\n",
              "      <td>93.994</td>\n",
              "      <td>-36.4</td>\n",
              "      <td>4.857</td>\n",
              "      <td>5191.0</td>\n",
              "      <td>0</td>\n",
              "    </tr>\n",
              "    <tr>\n",
              "      <th>2</th>\n",
              "      <td>37</td>\n",
              "      <td>1</td>\n",
              "      <td>0</td>\n",
              "      <td>1.1</td>\n",
              "      <td>93.994</td>\n",
              "      <td>-36.4</td>\n",
              "      <td>4.857</td>\n",
              "      <td>5191.0</td>\n",
              "      <td>0</td>\n",
              "    </tr>\n",
              "    <tr>\n",
              "      <th>3</th>\n",
              "      <td>40</td>\n",
              "      <td>1</td>\n",
              "      <td>0</td>\n",
              "      <td>1.1</td>\n",
              "      <td>93.994</td>\n",
              "      <td>-36.4</td>\n",
              "      <td>4.857</td>\n",
              "      <td>5191.0</td>\n",
              "      <td>0</td>\n",
              "    </tr>\n",
              "    <tr>\n",
              "      <th>4</th>\n",
              "      <td>56</td>\n",
              "      <td>1</td>\n",
              "      <td>0</td>\n",
              "      <td>1.1</td>\n",
              "      <td>93.994</td>\n",
              "      <td>-36.4</td>\n",
              "      <td>4.857</td>\n",
              "      <td>5191.0</td>\n",
              "      <td>0</td>\n",
              "    </tr>\n",
              "  </tbody>\n",
              "</table>\n",
              "</div>\n",
              "      <button class=\"colab-df-convert\" onclick=\"convertToInteractive('df-27e6815a-ddc8-4188-a2ed-668749e89318')\"\n",
              "              title=\"Convert this dataframe to an interactive table.\"\n",
              "              style=\"display:none;\">\n",
              "        \n",
              "  <svg xmlns=\"http://www.w3.org/2000/svg\" height=\"24px\"viewBox=\"0 0 24 24\"\n",
              "       width=\"24px\">\n",
              "    <path d=\"M0 0h24v24H0V0z\" fill=\"none\"/>\n",
              "    <path d=\"M18.56 5.44l.94 2.06.94-2.06 2.06-.94-2.06-.94-.94-2.06-.94 2.06-2.06.94zm-11 1L8.5 8.5l.94-2.06 2.06-.94-2.06-.94L8.5 2.5l-.94 2.06-2.06.94zm10 10l.94 2.06.94-2.06 2.06-.94-2.06-.94-.94-2.06-.94 2.06-2.06.94z\"/><path d=\"M17.41 7.96l-1.37-1.37c-.4-.4-.92-.59-1.43-.59-.52 0-1.04.2-1.43.59L10.3 9.45l-7.72 7.72c-.78.78-.78 2.05 0 2.83L4 21.41c.39.39.9.59 1.41.59.51 0 1.02-.2 1.41-.59l7.78-7.78 2.81-2.81c.8-.78.8-2.07 0-2.86zM5.41 20L4 18.59l7.72-7.72 1.47 1.35L5.41 20z\"/>\n",
              "  </svg>\n",
              "      </button>\n",
              "      \n",
              "  <style>\n",
              "    .colab-df-container {\n",
              "      display:flex;\n",
              "      flex-wrap:wrap;\n",
              "      gap: 12px;\n",
              "    }\n",
              "\n",
              "    .colab-df-convert {\n",
              "      background-color: #E8F0FE;\n",
              "      border: none;\n",
              "      border-radius: 50%;\n",
              "      cursor: pointer;\n",
              "      display: none;\n",
              "      fill: #1967D2;\n",
              "      height: 32px;\n",
              "      padding: 0 0 0 0;\n",
              "      width: 32px;\n",
              "    }\n",
              "\n",
              "    .colab-df-convert:hover {\n",
              "      background-color: #E2EBFA;\n",
              "      box-shadow: 0px 1px 2px rgba(60, 64, 67, 0.3), 0px 1px 3px 1px rgba(60, 64, 67, 0.15);\n",
              "      fill: #174EA6;\n",
              "    }\n",
              "\n",
              "    [theme=dark] .colab-df-convert {\n",
              "      background-color: #3B4455;\n",
              "      fill: #D2E3FC;\n",
              "    }\n",
              "\n",
              "    [theme=dark] .colab-df-convert:hover {\n",
              "      background-color: #434B5C;\n",
              "      box-shadow: 0px 1px 3px 1px rgba(0, 0, 0, 0.15);\n",
              "      filter: drop-shadow(0px 1px 2px rgba(0, 0, 0, 0.3));\n",
              "      fill: #FFFFFF;\n",
              "    }\n",
              "  </style>\n",
              "\n",
              "      <script>\n",
              "        const buttonEl =\n",
              "          document.querySelector('#df-27e6815a-ddc8-4188-a2ed-668749e89318 button.colab-df-convert');\n",
              "        buttonEl.style.display =\n",
              "          google.colab.kernel.accessAllowed ? 'block' : 'none';\n",
              "\n",
              "        async function convertToInteractive(key) {\n",
              "          const element = document.querySelector('#df-27e6815a-ddc8-4188-a2ed-668749e89318');\n",
              "          const dataTable =\n",
              "            await google.colab.kernel.invokeFunction('convertToInteractive',\n",
              "                                                     [key], {});\n",
              "          if (!dataTable) return;\n",
              "\n",
              "          const docLinkHtml = 'Like what you see? Visit the ' +\n",
              "            '<a target=\"_blank\" href=https://colab.research.google.com/notebooks/data_table.ipynb>data table notebook</a>'\n",
              "            + ' to learn more about interactive tables.';\n",
              "          element.innerHTML = '';\n",
              "          dataTable['output_type'] = 'display_data';\n",
              "          await google.colab.output.renderOutput(dataTable, element);\n",
              "          const docLink = document.createElement('div');\n",
              "          docLink.innerHTML = docLinkHtml;\n",
              "          element.appendChild(docLink);\n",
              "        }\n",
              "      </script>\n",
              "    </div>\n",
              "  </div>\n",
              "  "
            ]
          },
          "metadata": {},
          "execution_count": 18
        }
      ]
    },
    {
      "cell_type": "markdown",
      "source": [
        "## Escalamos las variables numericas"
      ],
      "metadata": {
        "id": "ovkwWVjYL3Ay"
      }
    },
    {
      "cell_type": "code",
      "source": [
        "# Escalemos los datos usando normalizacion Min-Max\n",
        "from sklearn.preprocessing import MinMaxScaler\n",
        "\n",
        "scaler = MinMaxScaler()\n",
        "scaler.fit(df_numericas[['Edad', 'campaña', 'contactos previos', 'emp.var.ratio', 'idx.precio.cons', 'idx.conf.cons','euribor3m','nr.employed']])\n",
        "df_numericas[['Edad', 'campaña', 'contactos previos', 'emp.var.ratio', 'idx.precio.cons', 'idx.conf.cons','euribor3m','nr.employed']] = scaler.transform(df_numericas[['Edad', 'campaña', 'contactos previos', 'emp.var.ratio', 'idx.precio.cons', 'idx.conf.cons','euribor3m','nr.employed']])"
      ],
      "metadata": {
        "id": "FP7T9SUFV7Ar"
      },
      "execution_count": null,
      "outputs": []
    },
    {
      "cell_type": "code",
      "source": [
        "# Revisamos si las variables se escalaron correctamente\n",
        "df_numericas.describe()"
      ],
      "metadata": {
        "id": "bWoac4YiV7Db",
        "colab": {
          "base_uri": "https://localhost:8080/",
          "height": 300
        },
        "outputId": "72c64309-dc7e-45fd-cab7-3a3c4f0d6a17"
      },
      "execution_count": null,
      "outputs": [
        {
          "output_type": "execute_result",
          "data": {
            "text/plain": [
              "               Edad       campaña  contactos previos  emp.var.ratio  \\\n",
              "count  41175.000000  41175.000000       41175.000000   41175.000000   \n",
              "mean       0.284244      0.028508           0.024717       0.725410   \n",
              "std        0.128652      0.050370           0.070710       0.327265   \n",
              "min        0.000000      0.000000           0.000000       0.000000   \n",
              "25%        0.185185      0.000000           0.000000       0.333333   \n",
              "50%        0.259259      0.018182           0.000000       0.937500   \n",
              "75%        0.370370      0.036364           0.000000       1.000000   \n",
              "max        1.000000      1.000000           1.000000       1.000000   \n",
              "\n",
              "       idx.precio.cons  idx.conf.cons     euribor3m   nr.employed  \\\n",
              "count     41175.000000   41175.000000  41175.000000  41175.000000   \n",
              "mean          0.535751       0.430848      0.677250      0.769136   \n",
              "std           0.225579       0.193633      0.393203      0.273162   \n",
              "min           0.000000       0.000000      0.000000      0.000000   \n",
              "25%           0.340608       0.338912      0.160961      0.512287   \n",
              "50%           0.603274       0.376569      0.957379      0.859735   \n",
              "75%           0.698753       0.602510      0.980957      1.000000   \n",
              "max           1.000000       1.000000      1.000000      1.000000   \n",
              "\n",
              "             TARGET  \n",
              "count  41175.000000  \n",
              "mean       0.112665  \n",
              "std        0.316187  \n",
              "min        0.000000  \n",
              "25%        0.000000  \n",
              "50%        0.000000  \n",
              "75%        0.000000  \n",
              "max        1.000000  "
            ],
            "text/html": [
              "\n",
              "  <div id=\"df-2355e1dd-939c-4610-80ec-510dc8351027\">\n",
              "    <div class=\"colab-df-container\">\n",
              "      <div>\n",
              "<style scoped>\n",
              "    .dataframe tbody tr th:only-of-type {\n",
              "        vertical-align: middle;\n",
              "    }\n",
              "\n",
              "    .dataframe tbody tr th {\n",
              "        vertical-align: top;\n",
              "    }\n",
              "\n",
              "    .dataframe thead th {\n",
              "        text-align: right;\n",
              "    }\n",
              "</style>\n",
              "<table border=\"1\" class=\"dataframe\">\n",
              "  <thead>\n",
              "    <tr style=\"text-align: right;\">\n",
              "      <th></th>\n",
              "      <th>Edad</th>\n",
              "      <th>campaña</th>\n",
              "      <th>contactos previos</th>\n",
              "      <th>emp.var.ratio</th>\n",
              "      <th>idx.precio.cons</th>\n",
              "      <th>idx.conf.cons</th>\n",
              "      <th>euribor3m</th>\n",
              "      <th>nr.employed</th>\n",
              "      <th>TARGET</th>\n",
              "    </tr>\n",
              "  </thead>\n",
              "  <tbody>\n",
              "    <tr>\n",
              "      <th>count</th>\n",
              "      <td>41175.000000</td>\n",
              "      <td>41175.000000</td>\n",
              "      <td>41175.000000</td>\n",
              "      <td>41175.000000</td>\n",
              "      <td>41175.000000</td>\n",
              "      <td>41175.000000</td>\n",
              "      <td>41175.000000</td>\n",
              "      <td>41175.000000</td>\n",
              "      <td>41175.000000</td>\n",
              "    </tr>\n",
              "    <tr>\n",
              "      <th>mean</th>\n",
              "      <td>0.284244</td>\n",
              "      <td>0.028508</td>\n",
              "      <td>0.024717</td>\n",
              "      <td>0.725410</td>\n",
              "      <td>0.535751</td>\n",
              "      <td>0.430848</td>\n",
              "      <td>0.677250</td>\n",
              "      <td>0.769136</td>\n",
              "      <td>0.112665</td>\n",
              "    </tr>\n",
              "    <tr>\n",
              "      <th>std</th>\n",
              "      <td>0.128652</td>\n",
              "      <td>0.050370</td>\n",
              "      <td>0.070710</td>\n",
              "      <td>0.327265</td>\n",
              "      <td>0.225579</td>\n",
              "      <td>0.193633</td>\n",
              "      <td>0.393203</td>\n",
              "      <td>0.273162</td>\n",
              "      <td>0.316187</td>\n",
              "    </tr>\n",
              "    <tr>\n",
              "      <th>min</th>\n",
              "      <td>0.000000</td>\n",
              "      <td>0.000000</td>\n",
              "      <td>0.000000</td>\n",
              "      <td>0.000000</td>\n",
              "      <td>0.000000</td>\n",
              "      <td>0.000000</td>\n",
              "      <td>0.000000</td>\n",
              "      <td>0.000000</td>\n",
              "      <td>0.000000</td>\n",
              "    </tr>\n",
              "    <tr>\n",
              "      <th>25%</th>\n",
              "      <td>0.185185</td>\n",
              "      <td>0.000000</td>\n",
              "      <td>0.000000</td>\n",
              "      <td>0.333333</td>\n",
              "      <td>0.340608</td>\n",
              "      <td>0.338912</td>\n",
              "      <td>0.160961</td>\n",
              "      <td>0.512287</td>\n",
              "      <td>0.000000</td>\n",
              "    </tr>\n",
              "    <tr>\n",
              "      <th>50%</th>\n",
              "      <td>0.259259</td>\n",
              "      <td>0.018182</td>\n",
              "      <td>0.000000</td>\n",
              "      <td>0.937500</td>\n",
              "      <td>0.603274</td>\n",
              "      <td>0.376569</td>\n",
              "      <td>0.957379</td>\n",
              "      <td>0.859735</td>\n",
              "      <td>0.000000</td>\n",
              "    </tr>\n",
              "    <tr>\n",
              "      <th>75%</th>\n",
              "      <td>0.370370</td>\n",
              "      <td>0.036364</td>\n",
              "      <td>0.000000</td>\n",
              "      <td>1.000000</td>\n",
              "      <td>0.698753</td>\n",
              "      <td>0.602510</td>\n",
              "      <td>0.980957</td>\n",
              "      <td>1.000000</td>\n",
              "      <td>0.000000</td>\n",
              "    </tr>\n",
              "    <tr>\n",
              "      <th>max</th>\n",
              "      <td>1.000000</td>\n",
              "      <td>1.000000</td>\n",
              "      <td>1.000000</td>\n",
              "      <td>1.000000</td>\n",
              "      <td>1.000000</td>\n",
              "      <td>1.000000</td>\n",
              "      <td>1.000000</td>\n",
              "      <td>1.000000</td>\n",
              "      <td>1.000000</td>\n",
              "    </tr>\n",
              "  </tbody>\n",
              "</table>\n",
              "</div>\n",
              "      <button class=\"colab-df-convert\" onclick=\"convertToInteractive('df-2355e1dd-939c-4610-80ec-510dc8351027')\"\n",
              "              title=\"Convert this dataframe to an interactive table.\"\n",
              "              style=\"display:none;\">\n",
              "        \n",
              "  <svg xmlns=\"http://www.w3.org/2000/svg\" height=\"24px\"viewBox=\"0 0 24 24\"\n",
              "       width=\"24px\">\n",
              "    <path d=\"M0 0h24v24H0V0z\" fill=\"none\"/>\n",
              "    <path d=\"M18.56 5.44l.94 2.06.94-2.06 2.06-.94-2.06-.94-.94-2.06-.94 2.06-2.06.94zm-11 1L8.5 8.5l.94-2.06 2.06-.94-2.06-.94L8.5 2.5l-.94 2.06-2.06.94zm10 10l.94 2.06.94-2.06 2.06-.94-2.06-.94-.94-2.06-.94 2.06-2.06.94z\"/><path d=\"M17.41 7.96l-1.37-1.37c-.4-.4-.92-.59-1.43-.59-.52 0-1.04.2-1.43.59L10.3 9.45l-7.72 7.72c-.78.78-.78 2.05 0 2.83L4 21.41c.39.39.9.59 1.41.59.51 0 1.02-.2 1.41-.59l7.78-7.78 2.81-2.81c.8-.78.8-2.07 0-2.86zM5.41 20L4 18.59l7.72-7.72 1.47 1.35L5.41 20z\"/>\n",
              "  </svg>\n",
              "      </button>\n",
              "      \n",
              "  <style>\n",
              "    .colab-df-container {\n",
              "      display:flex;\n",
              "      flex-wrap:wrap;\n",
              "      gap: 12px;\n",
              "    }\n",
              "\n",
              "    .colab-df-convert {\n",
              "      background-color: #E8F0FE;\n",
              "      border: none;\n",
              "      border-radius: 50%;\n",
              "      cursor: pointer;\n",
              "      display: none;\n",
              "      fill: #1967D2;\n",
              "      height: 32px;\n",
              "      padding: 0 0 0 0;\n",
              "      width: 32px;\n",
              "    }\n",
              "\n",
              "    .colab-df-convert:hover {\n",
              "      background-color: #E2EBFA;\n",
              "      box-shadow: 0px 1px 2px rgba(60, 64, 67, 0.3), 0px 1px 3px 1px rgba(60, 64, 67, 0.15);\n",
              "      fill: #174EA6;\n",
              "    }\n",
              "\n",
              "    [theme=dark] .colab-df-convert {\n",
              "      background-color: #3B4455;\n",
              "      fill: #D2E3FC;\n",
              "    }\n",
              "\n",
              "    [theme=dark] .colab-df-convert:hover {\n",
              "      background-color: #434B5C;\n",
              "      box-shadow: 0px 1px 3px 1px rgba(0, 0, 0, 0.15);\n",
              "      filter: drop-shadow(0px 1px 2px rgba(0, 0, 0, 0.3));\n",
              "      fill: #FFFFFF;\n",
              "    }\n",
              "  </style>\n",
              "\n",
              "      <script>\n",
              "        const buttonEl =\n",
              "          document.querySelector('#df-2355e1dd-939c-4610-80ec-510dc8351027 button.colab-df-convert');\n",
              "        buttonEl.style.display =\n",
              "          google.colab.kernel.accessAllowed ? 'block' : 'none';\n",
              "\n",
              "        async function convertToInteractive(key) {\n",
              "          const element = document.querySelector('#df-2355e1dd-939c-4610-80ec-510dc8351027');\n",
              "          const dataTable =\n",
              "            await google.colab.kernel.invokeFunction('convertToInteractive',\n",
              "                                                     [key], {});\n",
              "          if (!dataTable) return;\n",
              "\n",
              "          const docLinkHtml = 'Like what you see? Visit the ' +\n",
              "            '<a target=\"_blank\" href=https://colab.research.google.com/notebooks/data_table.ipynb>data table notebook</a>'\n",
              "            + ' to learn more about interactive tables.';\n",
              "          element.innerHTML = '';\n",
              "          dataTable['output_type'] = 'display_data';\n",
              "          await google.colab.output.renderOutput(dataTable, element);\n",
              "          const docLink = document.createElement('div');\n",
              "          docLink.innerHTML = docLinkHtml;\n",
              "          element.appendChild(docLink);\n",
              "        }\n",
              "      </script>\n",
              "    </div>\n",
              "  </div>\n",
              "  "
            ]
          },
          "metadata": {},
          "execution_count": 20
        }
      ]
    },
    {
      "cell_type": "code",
      "source": [
        "# Analicemos correlaciones\n",
        "# Vemos que fuera de la diagonal principal no hay correlaciones fuertes\n",
        "df_numericas.corr() > 0.8"
      ],
      "metadata": {
        "id": "DpCIocw1V7GL",
        "colab": {
          "base_uri": "https://localhost:8080/",
          "height": 332
        },
        "outputId": "62383177-2ead-43e8-dfe9-897e1c5d61d9"
      },
      "execution_count": null,
      "outputs": [
        {
          "output_type": "execute_result",
          "data": {
            "text/plain": [
              "                    Edad  campaña  contactos previos  emp.var.ratio  \\\n",
              "Edad                True    False              False          False   \n",
              "campaña            False     True              False          False   \n",
              "contactos previos  False    False               True          False   \n",
              "emp.var.ratio      False    False              False           True   \n",
              "idx.precio.cons    False    False              False          False   \n",
              "idx.conf.cons      False    False              False          False   \n",
              "euribor3m          False    False              False           True   \n",
              "nr.employed        False    False              False           True   \n",
              "TARGET             False    False              False          False   \n",
              "\n",
              "                   idx.precio.cons  idx.conf.cons  euribor3m  nr.employed  \\\n",
              "Edad                         False          False      False        False   \n",
              "campaña                      False          False      False        False   \n",
              "contactos previos            False          False      False        False   \n",
              "emp.var.ratio                False          False       True         True   \n",
              "idx.precio.cons               True          False      False        False   \n",
              "idx.conf.cons                False           True      False        False   \n",
              "euribor3m                    False          False       True         True   \n",
              "nr.employed                  False          False       True         True   \n",
              "TARGET                       False          False      False        False   \n",
              "\n",
              "                   TARGET  \n",
              "Edad                False  \n",
              "campaña             False  \n",
              "contactos previos   False  \n",
              "emp.var.ratio       False  \n",
              "idx.precio.cons     False  \n",
              "idx.conf.cons       False  \n",
              "euribor3m           False  \n",
              "nr.employed         False  \n",
              "TARGET               True  "
            ],
            "text/html": [
              "\n",
              "  <div id=\"df-2dd75a57-79eb-494a-a664-156b2e046912\">\n",
              "    <div class=\"colab-df-container\">\n",
              "      <div>\n",
              "<style scoped>\n",
              "    .dataframe tbody tr th:only-of-type {\n",
              "        vertical-align: middle;\n",
              "    }\n",
              "\n",
              "    .dataframe tbody tr th {\n",
              "        vertical-align: top;\n",
              "    }\n",
              "\n",
              "    .dataframe thead th {\n",
              "        text-align: right;\n",
              "    }\n",
              "</style>\n",
              "<table border=\"1\" class=\"dataframe\">\n",
              "  <thead>\n",
              "    <tr style=\"text-align: right;\">\n",
              "      <th></th>\n",
              "      <th>Edad</th>\n",
              "      <th>campaña</th>\n",
              "      <th>contactos previos</th>\n",
              "      <th>emp.var.ratio</th>\n",
              "      <th>idx.precio.cons</th>\n",
              "      <th>idx.conf.cons</th>\n",
              "      <th>euribor3m</th>\n",
              "      <th>nr.employed</th>\n",
              "      <th>TARGET</th>\n",
              "    </tr>\n",
              "  </thead>\n",
              "  <tbody>\n",
              "    <tr>\n",
              "      <th>Edad</th>\n",
              "      <td>True</td>\n",
              "      <td>False</td>\n",
              "      <td>False</td>\n",
              "      <td>False</td>\n",
              "      <td>False</td>\n",
              "      <td>False</td>\n",
              "      <td>False</td>\n",
              "      <td>False</td>\n",
              "      <td>False</td>\n",
              "    </tr>\n",
              "    <tr>\n",
              "      <th>campaña</th>\n",
              "      <td>False</td>\n",
              "      <td>True</td>\n",
              "      <td>False</td>\n",
              "      <td>False</td>\n",
              "      <td>False</td>\n",
              "      <td>False</td>\n",
              "      <td>False</td>\n",
              "      <td>False</td>\n",
              "      <td>False</td>\n",
              "    </tr>\n",
              "    <tr>\n",
              "      <th>contactos previos</th>\n",
              "      <td>False</td>\n",
              "      <td>False</td>\n",
              "      <td>True</td>\n",
              "      <td>False</td>\n",
              "      <td>False</td>\n",
              "      <td>False</td>\n",
              "      <td>False</td>\n",
              "      <td>False</td>\n",
              "      <td>False</td>\n",
              "    </tr>\n",
              "    <tr>\n",
              "      <th>emp.var.ratio</th>\n",
              "      <td>False</td>\n",
              "      <td>False</td>\n",
              "      <td>False</td>\n",
              "      <td>True</td>\n",
              "      <td>False</td>\n",
              "      <td>False</td>\n",
              "      <td>True</td>\n",
              "      <td>True</td>\n",
              "      <td>False</td>\n",
              "    </tr>\n",
              "    <tr>\n",
              "      <th>idx.precio.cons</th>\n",
              "      <td>False</td>\n",
              "      <td>False</td>\n",
              "      <td>False</td>\n",
              "      <td>False</td>\n",
              "      <td>True</td>\n",
              "      <td>False</td>\n",
              "      <td>False</td>\n",
              "      <td>False</td>\n",
              "      <td>False</td>\n",
              "    </tr>\n",
              "    <tr>\n",
              "      <th>idx.conf.cons</th>\n",
              "      <td>False</td>\n",
              "      <td>False</td>\n",
              "      <td>False</td>\n",
              "      <td>False</td>\n",
              "      <td>False</td>\n",
              "      <td>True</td>\n",
              "      <td>False</td>\n",
              "      <td>False</td>\n",
              "      <td>False</td>\n",
              "    </tr>\n",
              "    <tr>\n",
              "      <th>euribor3m</th>\n",
              "      <td>False</td>\n",
              "      <td>False</td>\n",
              "      <td>False</td>\n",
              "      <td>True</td>\n",
              "      <td>False</td>\n",
              "      <td>False</td>\n",
              "      <td>True</td>\n",
              "      <td>True</td>\n",
              "      <td>False</td>\n",
              "    </tr>\n",
              "    <tr>\n",
              "      <th>nr.employed</th>\n",
              "      <td>False</td>\n",
              "      <td>False</td>\n",
              "      <td>False</td>\n",
              "      <td>True</td>\n",
              "      <td>False</td>\n",
              "      <td>False</td>\n",
              "      <td>True</td>\n",
              "      <td>True</td>\n",
              "      <td>False</td>\n",
              "    </tr>\n",
              "    <tr>\n",
              "      <th>TARGET</th>\n",
              "      <td>False</td>\n",
              "      <td>False</td>\n",
              "      <td>False</td>\n",
              "      <td>False</td>\n",
              "      <td>False</td>\n",
              "      <td>False</td>\n",
              "      <td>False</td>\n",
              "      <td>False</td>\n",
              "      <td>True</td>\n",
              "    </tr>\n",
              "  </tbody>\n",
              "</table>\n",
              "</div>\n",
              "      <button class=\"colab-df-convert\" onclick=\"convertToInteractive('df-2dd75a57-79eb-494a-a664-156b2e046912')\"\n",
              "              title=\"Convert this dataframe to an interactive table.\"\n",
              "              style=\"display:none;\">\n",
              "        \n",
              "  <svg xmlns=\"http://www.w3.org/2000/svg\" height=\"24px\"viewBox=\"0 0 24 24\"\n",
              "       width=\"24px\">\n",
              "    <path d=\"M0 0h24v24H0V0z\" fill=\"none\"/>\n",
              "    <path d=\"M18.56 5.44l.94 2.06.94-2.06 2.06-.94-2.06-.94-.94-2.06-.94 2.06-2.06.94zm-11 1L8.5 8.5l.94-2.06 2.06-.94-2.06-.94L8.5 2.5l-.94 2.06-2.06.94zm10 10l.94 2.06.94-2.06 2.06-.94-2.06-.94-.94-2.06-.94 2.06-2.06.94z\"/><path d=\"M17.41 7.96l-1.37-1.37c-.4-.4-.92-.59-1.43-.59-.52 0-1.04.2-1.43.59L10.3 9.45l-7.72 7.72c-.78.78-.78 2.05 0 2.83L4 21.41c.39.39.9.59 1.41.59.51 0 1.02-.2 1.41-.59l7.78-7.78 2.81-2.81c.8-.78.8-2.07 0-2.86zM5.41 20L4 18.59l7.72-7.72 1.47 1.35L5.41 20z\"/>\n",
              "  </svg>\n",
              "      </button>\n",
              "      \n",
              "  <style>\n",
              "    .colab-df-container {\n",
              "      display:flex;\n",
              "      flex-wrap:wrap;\n",
              "      gap: 12px;\n",
              "    }\n",
              "\n",
              "    .colab-df-convert {\n",
              "      background-color: #E8F0FE;\n",
              "      border: none;\n",
              "      border-radius: 50%;\n",
              "      cursor: pointer;\n",
              "      display: none;\n",
              "      fill: #1967D2;\n",
              "      height: 32px;\n",
              "      padding: 0 0 0 0;\n",
              "      width: 32px;\n",
              "    }\n",
              "\n",
              "    .colab-df-convert:hover {\n",
              "      background-color: #E2EBFA;\n",
              "      box-shadow: 0px 1px 2px rgba(60, 64, 67, 0.3), 0px 1px 3px 1px rgba(60, 64, 67, 0.15);\n",
              "      fill: #174EA6;\n",
              "    }\n",
              "\n",
              "    [theme=dark] .colab-df-convert {\n",
              "      background-color: #3B4455;\n",
              "      fill: #D2E3FC;\n",
              "    }\n",
              "\n",
              "    [theme=dark] .colab-df-convert:hover {\n",
              "      background-color: #434B5C;\n",
              "      box-shadow: 0px 1px 3px 1px rgba(0, 0, 0, 0.15);\n",
              "      filter: drop-shadow(0px 1px 2px rgba(0, 0, 0, 0.3));\n",
              "      fill: #FFFFFF;\n",
              "    }\n",
              "  </style>\n",
              "\n",
              "      <script>\n",
              "        const buttonEl =\n",
              "          document.querySelector('#df-2dd75a57-79eb-494a-a664-156b2e046912 button.colab-df-convert');\n",
              "        buttonEl.style.display =\n",
              "          google.colab.kernel.accessAllowed ? 'block' : 'none';\n",
              "\n",
              "        async function convertToInteractive(key) {\n",
              "          const element = document.querySelector('#df-2dd75a57-79eb-494a-a664-156b2e046912');\n",
              "          const dataTable =\n",
              "            await google.colab.kernel.invokeFunction('convertToInteractive',\n",
              "                                                     [key], {});\n",
              "          if (!dataTable) return;\n",
              "\n",
              "          const docLinkHtml = 'Like what you see? Visit the ' +\n",
              "            '<a target=\"_blank\" href=https://colab.research.google.com/notebooks/data_table.ipynb>data table notebook</a>'\n",
              "            + ' to learn more about interactive tables.';\n",
              "          element.innerHTML = '';\n",
              "          dataTable['output_type'] = 'display_data';\n",
              "          await google.colab.output.renderOutput(dataTable, element);\n",
              "          const docLink = document.createElement('div');\n",
              "          docLink.innerHTML = docLinkHtml;\n",
              "          element.appendChild(docLink);\n",
              "        }\n",
              "      </script>\n",
              "    </div>\n",
              "  </div>\n",
              "  "
            ]
          },
          "metadata": {},
          "execution_count": 21
        }
      ]
    },
    {
      "cell_type": "code",
      "source": [
        "from sklearn.metrics import accuracy_score\n",
        "from sklearn.metrics import roc_auc_score\n",
        "import numpy as np\n",
        "import pandas as pd \n",
        "import os\n",
        "from sklearn.tree import DecisionTreeClassifier\n",
        "from sklearn.tree import plot_tree\n",
        "from sklearn.model_selection import train_test_split\n",
        "from sklearn.model_selection import cross_val_score\n",
        "from sklearn.metrics import confusion_matrix\n",
        "from sklearn.metrics import plot_confusion_matrix\n",
        "from sklearn.model_selection import train_test_split\n",
        "from sklearn.model_selection import RandomizedSearchCV\n",
        "from sklearn.neighbors import KNeighborsClassifier\n",
        "from sklearn.preprocessing import StandardScaler\n",
        "from sklearn.ensemble import RandomForestClassifier\n",
        "import seaborn as sns\n",
        "import matplotlib.pyplot as plt \n",
        "from sklearn import metrics\n",
        "from sklearn.metrics import accuracy_score, f1_score, precision_score, recall_score, classification_report, confusion_matrix,r2_score\n",
        "from sklearn import model_selection\n",
        "from sklearn.ensemble import BaggingClassifier\n",
        "import warnings\n",
        "from imblearn.over_sampling import SMOTE\n",
        "warnings.filterwarnings('ignore')\n",
        "import tensorflow as tf\n",
        "from tensorflow import keras \n",
        "from tensorflow import keras\n",
        "from tensorflow.keras.models import Sequential\n",
        "from tensorflow.keras.layers import Dense\n",
        "from tensorflow.keras.optimizers import Adam \n",
        "from sklearn.metrics import accuracy_score\n",
        "from sklearn.metrics import confusion_matrix"
      ],
      "metadata": {
        "id": "293HsfzIOaks"
      },
      "execution_count": null,
      "outputs": []
    },
    {
      "cell_type": "code",
      "source": [
        "corr = df_numericas.corr()\n",
        "corr_greater_than_75 = corr[corr>=.75]\n",
        "corr_greater_than_75\n",
        "plt.figure(figsize=(12,8))\n",
        "sns.heatmap(corr_greater_than_75, cmap=\"Reds\", annot = True);"
      ],
      "metadata": {
        "id": "iRBqzej-V7I8",
        "colab": {
          "base_uri": "https://localhost:8080/",
          "height": 565
        },
        "outputId": "8c238c93-9b1b-4705-92e6-54f89c479574"
      },
      "execution_count": null,
      "outputs": [
        {
          "output_type": "display_data",
          "data": {
            "text/plain": [
              "<Figure size 864x576 with 2 Axes>"
            ],
            "image/png": "[encoded data removed]"
          },
          "metadata": {
            "needs_background": "light"
          }
        }
      ]
    },
    {
      "cell_type": "markdown",
      "source": [
        "# Trabajamos con las categoricas"
      ],
      "metadata": {
        "id": "VMRjQIeTPLHc"
      }
    },
    {
      "cell_type": "code",
      "source": [
        "df_cat = df.select_dtypes('object')\n",
        "df_cat.head()"
      ],
      "metadata": {
        "id": "yc2oqasmV7L0",
        "colab": {
          "base_uri": "https://localhost:8080/",
          "height": 206
        },
        "outputId": "650c69a2-99b7-49f6-b589-6b219f069b53"
      },
      "execution_count": null,
      "outputs": [
        {
          "output_type": "execute_result",
          "data": {
            "text/plain": [
              "          Trabajo Estado Civil   educacion      default hipoteca préstamo  \\\n",
              "0          Mucama       Casado    primaria           no       no       no   \n",
              "1       Servicios       Casado  secundaria  Desconocido       no       no   \n",
              "2       Servicios       Casado  secundaria           no       si       no   \n",
              "3  Administración       Casado    primaria           no       no       no   \n",
              "4       Servicios       Casado  secundaria           no       no       si   \n",
              "\n",
              "   contacto mes contacto día contacto      psalida  \n",
              "0  Teléfono          may          lun  inexistente  \n",
              "1  Teléfono          may          lun  inexistente  \n",
              "2  Teléfono          may          lun  inexistente  \n",
              "3  Teléfono          may          lun  inexistente  \n",
              "4  Teléfono          may          lun  inexistente  "
            ],
            "text/html": [
              "\n",
              "  <div id=\"df-01288051-8baa-4bf8-9ed8-78e62c9ed467\">\n",
              "    <div class=\"colab-df-container\">\n",
              "      <div>\n",
              "<style scoped>\n",
              "    .dataframe tbody tr th:only-of-type {\n",
              "        vertical-align: middle;\n",
              "    }\n",
              "\n",
              "    .dataframe tbody tr th {\n",
              "        vertical-align: top;\n",
              "    }\n",
              "\n",
              "    .dataframe thead th {\n",
              "        text-align: right;\n",
              "    }\n",
              "</style>\n",
              "<table border=\"1\" class=\"dataframe\">\n",
              "  <thead>\n",
              "    <tr style=\"text-align: right;\">\n",
              "      <th></th>\n",
              "      <th>Trabajo</th>\n",
              "      <th>Estado Civil</th>\n",
              "      <th>educacion</th>\n",
              "      <th>default</th>\n",
              "      <th>hipoteca</th>\n",
              "      <th>préstamo</th>\n",
              "      <th>contacto</th>\n",
              "      <th>mes contacto</th>\n",
              "      <th>día contacto</th>\n",
              "      <th>psalida</th>\n",
              "    </tr>\n",
              "  </thead>\n",
              "  <tbody>\n",
              "    <tr>\n",
              "      <th>0</th>\n",
              "      <td>Mucama</td>\n",
              "      <td>Casado</td>\n",
              "      <td>primaria</td>\n",
              "      <td>no</td>\n",
              "      <td>no</td>\n",
              "      <td>no</td>\n",
              "      <td>Teléfono</td>\n",
              "      <td>may</td>\n",
              "      <td>lun</td>\n",
              "      <td>inexistente</td>\n",
              "    </tr>\n",
              "    <tr>\n",
              "      <th>1</th>\n",
              "      <td>Servicios</td>\n",
              "      <td>Casado</td>\n",
              "      <td>secundaria</td>\n",
              "      <td>Desconocido</td>\n",
              "      <td>no</td>\n",
              "      <td>no</td>\n",
              "      <td>Teléfono</td>\n",
              "      <td>may</td>\n",
              "      <td>lun</td>\n",
              "      <td>inexistente</td>\n",
              "    </tr>\n",
              "    <tr>\n",
              "      <th>2</th>\n",
              "      <td>Servicios</td>\n",
              "      <td>Casado</td>\n",
              "      <td>secundaria</td>\n",
              "      <td>no</td>\n",
              "      <td>si</td>\n",
              "      <td>no</td>\n",
              "      <td>Teléfono</td>\n",
              "      <td>may</td>\n",
              "      <td>lun</td>\n",
              "      <td>inexistente</td>\n",
              "    </tr>\n",
              "    <tr>\n",
              "      <th>3</th>\n",
              "      <td>Administración</td>\n",
              "      <td>Casado</td>\n",
              "      <td>primaria</td>\n",
              "      <td>no</td>\n",
              "      <td>no</td>\n",
              "      <td>no</td>\n",
              "      <td>Teléfono</td>\n",
              "      <td>may</td>\n",
              "      <td>lun</td>\n",
              "      <td>inexistente</td>\n",
              "    </tr>\n",
              "    <tr>\n",
              "      <th>4</th>\n",
              "      <td>Servicios</td>\n",
              "      <td>Casado</td>\n",
              "      <td>secundaria</td>\n",
              "      <td>no</td>\n",
              "      <td>no</td>\n",
              "      <td>si</td>\n",
              "      <td>Teléfono</td>\n",
              "      <td>may</td>\n",
              "      <td>lun</td>\n",
              "      <td>inexistente</td>\n",
              "    </tr>\n",
              "  </tbody>\n",
              "</table>\n",
              "</div>\n",
              "      <button class=\"colab-df-convert\" onclick=\"convertToInteractive('df-01288051-8baa-4bf8-9ed8-78e62c9ed467')\"\n",
              "              title=\"Convert this dataframe to an interactive table.\"\n",
              "              style=\"display:none;\">\n",
              "        \n",
              "  <svg xmlns=\"http://www.w3.org/2000/svg\" height=\"24px\"viewBox=\"0 0 24 24\"\n",
              "       width=\"24px\">\n",
              "    <path d=\"M0 0h24v24H0V0z\" fill=\"none\"/>\n",
              "    <path d=\"M18.56 5.44l.94 2.06.94-2.06 2.06-.94-2.06-.94-.94-2.06-.94 2.06-2.06.94zm-11 1L8.5 8.5l.94-2.06 2.06-.94-2.06-.94L8.5 2.5l-.94 2.06-2.06.94zm10 10l.94 2.06.94-2.06 2.06-.94-2.06-.94-.94-2.06-.94 2.06-2.06.94z\"/><path d=\"M17.41 7.96l-1.37-1.37c-.4-.4-.92-.59-1.43-.59-.52 0-1.04.2-1.43.59L10.3 9.45l-7.72 7.72c-.78.78-.78 2.05 0 2.83L4 21.41c.39.39.9.59 1.41.59.51 0 1.02-.2 1.41-.59l7.78-7.78 2.81-2.81c.8-.78.8-2.07 0-2.86zM5.41 20L4 18.59l7.72-7.72 1.47 1.35L5.41 20z\"/>\n",
              "  </svg>\n",
              "      </button>\n",
              "      \n",
              "  <style>\n",
              "    .colab-df-container {\n",
              "      display:flex;\n",
              "      flex-wrap:wrap;\n",
              "      gap: 12px;\n",
              "    }\n",
              "\n",
              "    .colab-df-convert {\n",
              "      background-color: #E8F0FE;\n",
              "      border: none;\n",
              "      border-radius: 50%;\n",
              "      cursor: pointer;\n",
              "      display: none;\n",
              "      fill: #1967D2;\n",
              "      height: 32px;\n",
              "      padding: 0 0 0 0;\n",
              "      width: 32px;\n",
              "    }\n",
              "\n",
              "    .colab-df-convert:hover {\n",
              "      background-color: #E2EBFA;\n",
              "      box-shadow: 0px 1px 2px rgba(60, 64, 67, 0.3), 0px 1px 3px 1px rgba(60, 64, 67, 0.15);\n",
              "      fill: #174EA6;\n",
              "    }\n",
              "\n",
              "    [theme=dark] .colab-df-convert {\n",
              "      background-color: #3B4455;\n",
              "      fill: #D2E3FC;\n",
              "    }\n",
              "\n",
              "    [theme=dark] .colab-df-convert:hover {\n",
              "      background-color: #434B5C;\n",
              "      box-shadow: 0px 1px 3px 1px rgba(0, 0, 0, 0.15);\n",
              "      filter: drop-shadow(0px 1px 2px rgba(0, 0, 0, 0.3));\n",
              "      fill: #FFFFFF;\n",
              "    }\n",
              "  </style>\n",
              "\n",
              "      <script>\n",
              "        const buttonEl =\n",
              "          document.querySelector('#df-01288051-8baa-4bf8-9ed8-78e62c9ed467 button.colab-df-convert');\n",
              "        buttonEl.style.display =\n",
              "          google.colab.kernel.accessAllowed ? 'block' : 'none';\n",
              "\n",
              "        async function convertToInteractive(key) {\n",
              "          const element = document.querySelector('#df-01288051-8baa-4bf8-9ed8-78e62c9ed467');\n",
              "          const dataTable =\n",
              "            await google.colab.kernel.invokeFunction('convertToInteractive',\n",
              "                                                     [key], {});\n",
              "          if (!dataTable) return;\n",
              "\n",
              "          const docLinkHtml = 'Like what you see? Visit the ' +\n",
              "            '<a target=\"_blank\" href=https://colab.research.google.com/notebooks/data_table.ipynb>data table notebook</a>'\n",
              "            + ' to learn more about interactive tables.';\n",
              "          element.innerHTML = '';\n",
              "          dataTable['output_type'] = 'display_data';\n",
              "          await google.colab.output.renderOutput(dataTable, element);\n",
              "          const docLink = document.createElement('div');\n",
              "          docLink.innerHTML = docLinkHtml;\n",
              "          element.appendChild(docLink);\n",
              "        }\n",
              "      </script>\n",
              "    </div>\n",
              "  </div>\n",
              "  "
            ]
          },
          "metadata": {},
          "execution_count": 24
        }
      ]
    },
    {
      "cell_type": "code",
      "source": [
        "# Revisemos valores nulos\n",
        "df_cat.isnull().sum()"
      ],
      "metadata": {
        "id": "UIlU07WxjgBk",
        "colab": {
          "base_uri": "https://localhost:8080/"
        },
        "outputId": "53c9d24d-ced1-4217-cd99-997ee50d3c53"
      },
      "execution_count": null,
      "outputs": [
        {
          "output_type": "execute_result",
          "data": {
            "text/plain": [
              "Trabajo         0\n",
              "Estado Civil    0\n",
              "educacion       0\n",
              "default         0\n",
              "hipoteca        0\n",
              "préstamo        0\n",
              "contacto        0\n",
              "mes contacto    0\n",
              "día contacto    0\n",
              "psalida         0\n",
              "dtype: int64"
            ]
          },
          "metadata": {},
          "execution_count": 25
        }
      ]
    },
    {
      "cell_type": "code",
      "source": [
        "# Analicemos la variable Trabajo\n",
        "df_cat['Trabajo'].value_counts()"
      ],
      "metadata": {
        "id": "Y6_ot24SjgE1",
        "colab": {
          "base_uri": "https://localhost:8080/"
        },
        "outputId": "14d16e39-1e3d-40b3-d70e-869df91021eb"
      },
      "execution_count": null,
      "outputs": [
        {
          "output_type": "execute_result",
          "data": {
            "text/plain": [
              "Administración    10419\n",
              "Obrero             9252\n",
              "Técnico            6739\n",
              "Servicios          3967\n",
              "Gerente            2924\n",
              "Retirado           1718\n",
              "Empresario         1456\n",
              "Auto-empleado      1421\n",
              "Mucama             1060\n",
              "Desempleado        1014\n",
              "Estudiante          875\n",
              "Desconocido         330\n",
              "Name: Trabajo, dtype: int64"
            ]
          },
          "metadata": {},
          "execution_count": 26
        }
      ]
    },
    {
      "cell_type": "code",
      "source": [
        "df_cat['Trabajo'] = df_cat['Trabajo'].apply(lambda x: -1 if x=='Desconocido' or x=='Desempleado' else (15 if x=='Empresario' else (8 if x == 'Obrero' else ( 6 if x=='Técnico' or x=='Servicios' or  x=='Administración' or x=='Gerente' else (4 if x== 'Auto-empleado' or x=='Estudiante' else (2 if x=='Mucama' or x=='Retirado' else None) )))))"
      ],
      "metadata": {
        "id": "-XwVx8raN2B8"
      },
      "execution_count": null,
      "outputs": []
    },
    {
      "cell_type": "code",
      "source": [
        "# Analicemos la variable Trabajo ahora\n",
        "df_cat['Trabajo'].value_counts()"
      ],
      "metadata": {
        "colab": {
          "base_uri": "https://localhost:8080/"
        },
        "id": "Aa4_XQ8vN2Ez",
        "outputId": "1fae09af-d6c1-4e8f-cda0-51ca549c198a"
      },
      "execution_count": null,
      "outputs": [
        {
          "output_type": "execute_result",
          "data": {
            "text/plain": [
              " 6     24049\n",
              " 8      9252\n",
              " 2      2778\n",
              " 4      2296\n",
              " 15     1456\n",
              "-1      1344\n",
              "Name: Trabajo, dtype: int64"
            ]
          },
          "metadata": {},
          "execution_count": 28
        }
      ]
    },
    {
      "cell_type": "code",
      "source": [
        "# Analicemos la variable Estado Civil\n",
        "df_cat['Estado Civil'].value_counts()"
      ],
      "metadata": {
        "colab": {
          "base_uri": "https://localhost:8080/"
        },
        "id": "DB_ebNjTN2IJ",
        "outputId": "f76ad3b1-94bb-4c7a-c825-8d3e7f1ac5d8"
      },
      "execution_count": null,
      "outputs": [
        {
          "output_type": "execute_result",
          "data": {
            "text/plain": [
              "Casado         24920\n",
              "Soltero        11564\n",
              "Divorciado      4611\n",
              "Desconocido       80\n",
              "Name: Estado Civil, dtype: int64"
            ]
          },
          "metadata": {},
          "execution_count": 29
        }
      ]
    },
    {
      "cell_type": "code",
      "source": [
        "# Revisamos cómo queda la variable en porcentajes\n",
        "df_cat['Estado Civil'].value_counts()/df_cat.shape[0]"
      ],
      "metadata": {
        "colab": {
          "base_uri": "https://localhost:8080/"
        },
        "id": "b4dybPA1N2LT",
        "outputId": "36d702c3-beda-4514-8367-2c2e1ca8c73a"
      },
      "execution_count": null,
      "outputs": [
        {
          "output_type": "execute_result",
          "data": {
            "text/plain": [
              "Casado         0.605222\n",
              "Soltero        0.280850\n",
              "Divorciado     0.111985\n",
              "Desconocido    0.001943\n",
              "Name: Estado Civil, dtype: float64"
            ]
          },
          "metadata": {},
          "execution_count": 30
        }
      ]
    },
    {
      "cell_type": "code",
      "source": [
        "# Analicemos la variable Educacion\n",
        "df_cat['educacion'].value_counts()"
      ],
      "metadata": {
        "colab": {
          "base_uri": "https://localhost:8080/"
        },
        "id": "WuOqG5ihN2Nz",
        "outputId": "cbe88f19-cffb-42bd-b16c-5b2c92537af1"
      },
      "execution_count": null,
      "outputs": [
        {
          "output_type": "execute_result",
          "data": {
            "text/plain": [
              "graduado          12164\n",
              "secundaria         9512\n",
              "primaria           6466\n",
              "secundaria.inc     6045\n",
              "técnico            5240\n",
              "desconocido        1730\n",
              "analfabeto           18\n",
              "Name: educacion, dtype: int64"
            ]
          },
          "metadata": {},
          "execution_count": 31
        }
      ]
    },
    {
      "cell_type": "code",
      "source": [
        "df_cat['educacion'] = df_cat['educacion'].apply(lambda x: -1 if x=='desconocido' or x=='analfabeto' else (15 if x=='graduado' else (8 if x == 'técnico' else ( 6 if x=='secundaria' or x=='primaria' or  x=='secundaria.inc'  else None))))"
      ],
      "metadata": {
        "id": "B_9sXNy8N2Rh"
      },
      "execution_count": null,
      "outputs": []
    },
    {
      "cell_type": "code",
      "source": [
        "# Analicemos la variable Educacion\n",
        "df_cat['educacion'].value_counts()"
      ],
      "metadata": {
        "colab": {
          "base_uri": "https://localhost:8080/"
        },
        "id": "rbjPj9EUN2Uh",
        "outputId": "420eecc1-9c4c-4b6e-faf4-6a2fde4b830b"
      },
      "execution_count": null,
      "outputs": [
        {
          "output_type": "execute_result",
          "data": {
            "text/plain": [
              " 6     22023\n",
              " 15    12164\n",
              " 8      5240\n",
              "-1      1748\n",
              "Name: educacion, dtype: int64"
            ]
          },
          "metadata": {},
          "execution_count": 33
        }
      ]
    },
    {
      "cell_type": "code",
      "source": [
        "# Analicemos la variable Default\n",
        "df_cat['default'].value_counts()"
      ],
      "metadata": {
        "colab": {
          "base_uri": "https://localhost:8080/"
        },
        "id": "44BVdhlLN2bA",
        "outputId": "9f1488d6-de60-41e3-8293-665e04a0bc57"
      },
      "execution_count": null,
      "outputs": [
        {
          "output_type": "execute_result",
          "data": {
            "text/plain": [
              "no             32576\n",
              "Desconocido     8596\n",
              "si                 3\n",
              "Name: default, dtype: int64"
            ]
          },
          "metadata": {},
          "execution_count": 34
        }
      ]
    },
    {
      "cell_type": "code",
      "source": [
        "df_cat['default']=df_cat['default'].apply(lambda x: 0 if x=='no' else (1 if x=='si' else -1))"
      ],
      "metadata": {
        "id": "pX54Jb1CN2eC"
      },
      "execution_count": null,
      "outputs": []
    },
    {
      "cell_type": "code",
      "source": [
        "# Analicemos la variable Default\n",
        "df_cat['default'].value_counts()"
      ],
      "metadata": {
        "colab": {
          "base_uri": "https://localhost:8080/"
        },
        "id": "iW9m_ca5N2hT",
        "outputId": "1d0393de-9bbf-4920-88bc-2a1c076b5a62"
      },
      "execution_count": null,
      "outputs": [
        {
          "output_type": "execute_result",
          "data": {
            "text/plain": [
              " 0    32576\n",
              "-1     8596\n",
              " 1        3\n",
              "Name: default, dtype: int64"
            ]
          },
          "metadata": {},
          "execution_count": 36
        }
      ]
    },
    {
      "cell_type": "code",
      "source": [
        "# Analicemos la variable Hipoteca\n",
        "df_cat['hipoteca'].value_counts()"
      ],
      "metadata": {
        "colab": {
          "base_uri": "https://localhost:8080/"
        },
        "id": "3KxoTcpComuY",
        "outputId": "ca44bd6d-9d5d-40ef-8e34-3365d622fe0d"
      },
      "execution_count": null,
      "outputs": [
        {
          "output_type": "execute_result",
          "data": {
            "text/plain": [
              "si         21570\n",
              "no         18615\n",
              "unknown      990\n",
              "Name: hipoteca, dtype: int64"
            ]
          },
          "metadata": {},
          "execution_count": 37
        }
      ]
    },
    {
      "cell_type": "code",
      "source": [
        "df_cat['hipoteca']=df_cat['hipoteca'].apply(lambda x : 0 if x=='no' else (1 if x=='si' else -1))"
      ],
      "metadata": {
        "id": "H_rtGDyEomyP"
      },
      "execution_count": null,
      "outputs": []
    },
    {
      "cell_type": "code",
      "source": [
        "# Analicemos la variable Hipoteca\n",
        "df_cat['hipoteca'].value_counts()"
      ],
      "metadata": {
        "colab": {
          "base_uri": "https://localhost:8080/"
        },
        "id": "VBRVHCYgom09",
        "outputId": "3aae85a9-5a80-42c5-dd49-3309acbdd219"
      },
      "execution_count": null,
      "outputs": [
        {
          "output_type": "execute_result",
          "data": {
            "text/plain": [
              " 1    21570\n",
              " 0    18615\n",
              "-1      990\n",
              "Name: hipoteca, dtype: int64"
            ]
          },
          "metadata": {},
          "execution_count": 39
        }
      ]
    },
    {
      "cell_type": "code",
      "source": [
        "# Analicemos la variable Prestamo\n",
        "df_cat['préstamo'].value_counts()"
      ],
      "metadata": {
        "colab": {
          "base_uri": "https://localhost:8080/"
        },
        "id": "pWnk43vnom3P",
        "outputId": "9399a199-c914-49d8-9dee-8a095328ac5d"
      },
      "execution_count": null,
      "outputs": [
        {
          "output_type": "execute_result",
          "data": {
            "text/plain": [
              "no         33937\n",
              "si          6248\n",
              "unknown      990\n",
              "Name: préstamo, dtype: int64"
            ]
          },
          "metadata": {},
          "execution_count": 40
        }
      ]
    },
    {
      "cell_type": "code",
      "source": [
        "df_cat['préstamo'] = df_cat['préstamo'].apply(lambda x: 0 if x=='no' else (1 if x=='si' else -1))"
      ],
      "metadata": {
        "id": "mh4S4ebDom7n"
      },
      "execution_count": null,
      "outputs": []
    },
    {
      "cell_type": "code",
      "source": [
        "# Analicemos la variable Prestamo\n",
        "df_cat['préstamo'].value_counts()"
      ],
      "metadata": {
        "colab": {
          "base_uri": "https://localhost:8080/"
        },
        "id": "TQh1yPcVom8x",
        "outputId": "54f10abe-c895-4cf5-ccf7-4df5798f7650"
      },
      "execution_count": null,
      "outputs": [
        {
          "output_type": "execute_result",
          "data": {
            "text/plain": [
              " 0    33937\n",
              " 1     6248\n",
              "-1      990\n",
              "Name: préstamo, dtype: int64"
            ]
          },
          "metadata": {},
          "execution_count": 42
        }
      ]
    },
    {
      "cell_type": "code",
      "source": [
        "# Analicemos la variable Contaco\n",
        "df_cat['contacto'].value_counts()"
      ],
      "metadata": {
        "colab": {
          "base_uri": "https://localhost:8080/"
        },
        "id": "Xqa_WV3KonAn",
        "outputId": "33b22e99-3ea0-4c7a-d8f6-f85b14d9d88c"
      },
      "execution_count": null,
      "outputs": [
        {
          "output_type": "execute_result",
          "data": {
            "text/plain": [
              "celular     26134\n",
              "Teléfono    15041\n",
              "Name: contacto, dtype: int64"
            ]
          },
          "metadata": {},
          "execution_count": 43
        }
      ]
    },
    {
      "cell_type": "code",
      "source": [
        "# Analicemos la variable mes Contaco\n",
        "df_cat['mes contacto'].value_counts()"
      ],
      "metadata": {
        "colab": {
          "base_uri": "https://localhost:8080/"
        },
        "id": "GUnRFQNeonDI",
        "outputId": "6e7c7f34-c7c3-4316-b472-a3a91c62041d"
      },
      "execution_count": null,
      "outputs": [
        {
          "output_type": "execute_result",
          "data": {
            "text/plain": [
              "may    13766\n",
              "jul     7169\n",
              "ago     6176\n",
              "jun     5318\n",
              "nov     4100\n",
              "abr     2631\n",
              "oct      717\n",
              "sep      570\n",
              "mar      546\n",
              "dic      182\n",
              "Name: mes contacto, dtype: int64"
            ]
          },
          "metadata": {},
          "execution_count": 44
        }
      ]
    },
    {
      "cell_type": "code",
      "source": [
        "# Analicemos la variable dia Contaco\n",
        "df_cat['día contacto'].value_counts()"
      ],
      "metadata": {
        "colab": {
          "base_uri": "https://localhost:8080/"
        },
        "id": "t8ad0J5eonFh",
        "outputId": "57dfe484-8554-4d04-8b56-2f2b3b98eb57"
      },
      "execution_count": null,
      "outputs": [
        {
          "output_type": "execute_result",
          "data": {
            "text/plain": [
              "jue    8618\n",
              "lun    8512\n",
              "mie    8133\n",
              "mar    8086\n",
              "vie    7826\n",
              "Name: día contacto, dtype: int64"
            ]
          },
          "metadata": {},
          "execution_count": 45
        }
      ]
    },
    {
      "cell_type": "code",
      "source": [
        "# Analicemos la variable dia Contaco\n",
        "df_cat['psalida'].value_counts()"
      ],
      "metadata": {
        "colab": {
          "base_uri": "https://localhost:8080/"
        },
        "id": "OzEKXPgJonIJ",
        "outputId": "f0a9d31b-c0cf-4407-fb8f-93a12161b604"
      },
      "execution_count": null,
      "outputs": [
        {
          "output_type": "execute_result",
          "data": {
            "text/plain": [
              "inexistente    35550\n",
              "fracaso         4252\n",
              "exito           1373\n",
              "Name: psalida, dtype: int64"
            ]
          },
          "metadata": {},
          "execution_count": 46
        }
      ]
    },
    {
      "cell_type": "code",
      "source": [
        "df_cat['psalida'] = df_cat['psalida'].apply(lambda x: 0 if x=='fracaso' else (1 if x=='exito' else -1))"
      ],
      "metadata": {
        "id": "1FH3E3S9onKk"
      },
      "execution_count": null,
      "outputs": []
    },
    {
      "cell_type": "code",
      "source": [
        "# Analicemos la variable dia Contaco\n",
        "df_cat['psalida'].value_counts()"
      ],
      "metadata": {
        "colab": {
          "base_uri": "https://localhost:8080/"
        },
        "id": "UVjHHiJ9onOh",
        "outputId": "9cb9e6a5-119b-4f9c-ec0b-8e6e974dc2a8"
      },
      "execution_count": null,
      "outputs": [
        {
          "output_type": "execute_result",
          "data": {
            "text/plain": [
              "-1    35550\n",
              " 0     4252\n",
              " 1     1373\n",
              "Name: psalida, dtype: int64"
            ]
          },
          "metadata": {},
          "execution_count": 48
        }
      ]
    },
    {
      "cell_type": "code",
      "source": [
        "df_cat.head()"
      ],
      "metadata": {
        "colab": {
          "base_uri": "https://localhost:8080/",
          "height": 206
        },
        "id": "qBiEI6MTw_6a",
        "outputId": "c2f1b3ae-d9b1-4fd5-a2ed-a9a454ae4526"
      },
      "execution_count": null,
      "outputs": [
        {
          "output_type": "execute_result",
          "data": {
            "text/plain": [
              "   Trabajo Estado Civil  educacion  default  hipoteca  préstamo  contacto  \\\n",
              "0        2       Casado          6        0         0         0  Teléfono   \n",
              "1        6       Casado          6       -1         0         0  Teléfono   \n",
              "2        6       Casado          6        0         1         0  Teléfono   \n",
              "3        6       Casado          6        0         0         0  Teléfono   \n",
              "4        6       Casado          6        0         0         1  Teléfono   \n",
              "\n",
              "  mes contacto día contacto  psalida  \n",
              "0          may          lun       -1  \n",
              "1          may          lun       -1  \n",
              "2          may          lun       -1  \n",
              "3          may          lun       -1  \n",
              "4          may          lun       -1  "
            ],
            "text/html": [
              "\n",
              "  <div id=\"df-5ea903bf-9a2e-4592-85fb-2551c73f0463\">\n",
              "    <div class=\"colab-df-container\">\n",
              "      <div>\n",
              "<style scoped>\n",
              "    .dataframe tbody tr th:only-of-type {\n",
              "        vertical-align: middle;\n",
              "    }\n",
              "\n",
              "    .dataframe tbody tr th {\n",
              "        vertical-align: top;\n",
              "    }\n",
              "\n",
              "    .dataframe thead th {\n",
              "        text-align: right;\n",
              "    }\n",
              "</style>\n",
              "<table border=\"1\" class=\"dataframe\">\n",
              "  <thead>\n",
              "    <tr style=\"text-align: right;\">\n",
              "      <th></th>\n",
              "      <th>Trabajo</th>\n",
              "      <th>Estado Civil</th>\n",
              "      <th>educacion</th>\n",
              "      <th>default</th>\n",
              "      <th>hipoteca</th>\n",
              "      <th>préstamo</th>\n",
              "      <th>contacto</th>\n",
              "      <th>mes contacto</th>\n",
              "      <th>día contacto</th>\n",
              "      <th>psalida</th>\n",
              "    </tr>\n",
              "  </thead>\n",
              "  <tbody>\n",
              "    <tr>\n",
              "      <th>0</th>\n",
              "      <td>2</td>\n",
              "      <td>Casado</td>\n",
              "      <td>6</td>\n",
              "      <td>0</td>\n",
              "      <td>0</td>\n",
              "      <td>0</td>\n",
              "      <td>Teléfono</td>\n",
              "      <td>may</td>\n",
              "      <td>lun</td>\n",
              "      <td>-1</td>\n",
              "    </tr>\n",
              "    <tr>\n",
              "      <th>1</th>\n",
              "      <td>6</td>\n",
              "      <td>Casado</td>\n",
              "      <td>6</td>\n",
              "      <td>-1</td>\n",
              "      <td>0</td>\n",
              "      <td>0</td>\n",
              "      <td>Teléfono</td>\n",
              "      <td>may</td>\n",
              "      <td>lun</td>\n",
              "      <td>-1</td>\n",
              "    </tr>\n",
              "    <tr>\n",
              "      <th>2</th>\n",
              "      <td>6</td>\n",
              "      <td>Casado</td>\n",
              "      <td>6</td>\n",
              "      <td>0</td>\n",
              "      <td>1</td>\n",
              "      <td>0</td>\n",
              "      <td>Teléfono</td>\n",
              "      <td>may</td>\n",
              "      <td>lun</td>\n",
              "      <td>-1</td>\n",
              "    </tr>\n",
              "    <tr>\n",
              "      <th>3</th>\n",
              "      <td>6</td>\n",
              "      <td>Casado</td>\n",
              "      <td>6</td>\n",
              "      <td>0</td>\n",
              "      <td>0</td>\n",
              "      <td>0</td>\n",
              "      <td>Teléfono</td>\n",
              "      <td>may</td>\n",
              "      <td>lun</td>\n",
              "      <td>-1</td>\n",
              "    </tr>\n",
              "    <tr>\n",
              "      <th>4</th>\n",
              "      <td>6</td>\n",
              "      <td>Casado</td>\n",
              "      <td>6</td>\n",
              "      <td>0</td>\n",
              "      <td>0</td>\n",
              "      <td>1</td>\n",
              "      <td>Teléfono</td>\n",
              "      <td>may</td>\n",
              "      <td>lun</td>\n",
              "      <td>-1</td>\n",
              "    </tr>\n",
              "  </tbody>\n",
              "</table>\n",
              "</div>\n",
              "      <button class=\"colab-df-convert\" onclick=\"convertToInteractive('df-5ea903bf-9a2e-4592-85fb-2551c73f0463')\"\n",
              "              title=\"Convert this dataframe to an interactive table.\"\n",
              "              style=\"display:none;\">\n",
              "        \n",
              "  <svg xmlns=\"http://www.w3.org/2000/svg\" height=\"24px\"viewBox=\"0 0 24 24\"\n",
              "       width=\"24px\">\n",
              "    <path d=\"M0 0h24v24H0V0z\" fill=\"none\"/>\n",
              "    <path d=\"M18.56 5.44l.94 2.06.94-2.06 2.06-.94-2.06-.94-.94-2.06-.94 2.06-2.06.94zm-11 1L8.5 8.5l.94-2.06 2.06-.94-2.06-.94L8.5 2.5l-.94 2.06-2.06.94zm10 10l.94 2.06.94-2.06 2.06-.94-2.06-.94-.94-2.06-.94 2.06-2.06.94z\"/><path d=\"M17.41 7.96l-1.37-1.37c-.4-.4-.92-.59-1.43-.59-.52 0-1.04.2-1.43.59L10.3 9.45l-7.72 7.72c-.78.78-.78 2.05 0 2.83L4 21.41c.39.39.9.59 1.41.59.51 0 1.02-.2 1.41-.59l7.78-7.78 2.81-2.81c.8-.78.8-2.07 0-2.86zM5.41 20L4 18.59l7.72-7.72 1.47 1.35L5.41 20z\"/>\n",
              "  </svg>\n",
              "      </button>\n",
              "      \n",
              "  <style>\n",
              "    .colab-df-container {\n",
              "      display:flex;\n",
              "      flex-wrap:wrap;\n",
              "      gap: 12px;\n",
              "    }\n",
              "\n",
              "    .colab-df-convert {\n",
              "      background-color: #E8F0FE;\n",
              "      border: none;\n",
              "      border-radius: 50%;\n",
              "      cursor: pointer;\n",
              "      display: none;\n",
              "      fill: #1967D2;\n",
              "      height: 32px;\n",
              "      padding: 0 0 0 0;\n",
              "      width: 32px;\n",
              "    }\n",
              "\n",
              "    .colab-df-convert:hover {\n",
              "      background-color: #E2EBFA;\n",
              "      box-shadow: 0px 1px 2px rgba(60, 64, 67, 0.3), 0px 1px 3px 1px rgba(60, 64, 67, 0.15);\n",
              "      fill: #174EA6;\n",
              "    }\n",
              "\n",
              "    [theme=dark] .colab-df-convert {\n",
              "      background-color: #3B4455;\n",
              "      fill: #D2E3FC;\n",
              "    }\n",
              "\n",
              "    [theme=dark] .colab-df-convert:hover {\n",
              "      background-color: #434B5C;\n",
              "      box-shadow: 0px 1px 3px 1px rgba(0, 0, 0, 0.15);\n",
              "      filter: drop-shadow(0px 1px 2px rgba(0, 0, 0, 0.3));\n",
              "      fill: #FFFFFF;\n",
              "    }\n",
              "  </style>\n",
              "\n",
              "      <script>\n",
              "        const buttonEl =\n",
              "          document.querySelector('#df-5ea903bf-9a2e-4592-85fb-2551c73f0463 button.colab-df-convert');\n",
              "        buttonEl.style.display =\n",
              "          google.colab.kernel.accessAllowed ? 'block' : 'none';\n",
              "\n",
              "        async function convertToInteractive(key) {\n",
              "          const element = document.querySelector('#df-5ea903bf-9a2e-4592-85fb-2551c73f0463');\n",
              "          const dataTable =\n",
              "            await google.colab.kernel.invokeFunction('convertToInteractive',\n",
              "                                                     [key], {});\n",
              "          if (!dataTable) return;\n",
              "\n",
              "          const docLinkHtml = 'Like what you see? Visit the ' +\n",
              "            '<a target=\"_blank\" href=https://colab.research.google.com/notebooks/data_table.ipynb>data table notebook</a>'\n",
              "            + ' to learn more about interactive tables.';\n",
              "          element.innerHTML = '';\n",
              "          dataTable['output_type'] = 'display_data';\n",
              "          await google.colab.output.renderOutput(dataTable, element);\n",
              "          const docLink = document.createElement('div');\n",
              "          docLink.innerHTML = docLinkHtml;\n",
              "          element.appendChild(docLink);\n",
              "        }\n",
              "      </script>\n",
              "    </div>\n",
              "  </div>\n",
              "  "
            ]
          },
          "metadata": {},
          "execution_count": 49
        }
      ]
    },
    {
      "cell_type": "markdown",
      "source": [
        "## Por conveniencia eliminamos los datos temporales como dia, mes y el contacto que se hizo con el usuario( sea por celular o telefono)"
      ],
      "metadata": {
        "id": "eDx32thvwg9b"
      }
    },
    {
      "cell_type": "code",
      "source": [
        "df_cat.drop(['contacto', 'mes contacto', 'día contacto'], axis=1, inplace = True)"
      ],
      "metadata": {
        "id": "kMBw4qPlonQ6"
      },
      "execution_count": null,
      "outputs": []
    },
    {
      "cell_type": "code",
      "source": [
        "df_cat.head()"
      ],
      "metadata": {
        "colab": {
          "base_uri": "https://localhost:8080/",
          "height": 206
        },
        "id": "QaoJN6E3onTd",
        "outputId": "ae605bb1-a5a9-4c7c-b574-c3c5966b6fd0"
      },
      "execution_count": null,
      "outputs": [
        {
          "output_type": "execute_result",
          "data": {
            "text/plain": [
              "   Trabajo Estado Civil  educacion  default  hipoteca  préstamo  psalida\n",
              "0        2       Casado          6        0         0         0       -1\n",
              "1        6       Casado          6       -1         0         0       -1\n",
              "2        6       Casado          6        0         1         0       -1\n",
              "3        6       Casado          6        0         0         0       -1\n",
              "4        6       Casado          6        0         0         1       -1"
            ],
            "text/html": [
              "\n",
              "  <div id=\"df-b33f8ba6-0100-4ed2-a0d0-e1a8213ba54c\">\n",
              "    <div class=\"colab-df-container\">\n",
              "      <div>\n",
              "<style scoped>\n",
              "    .dataframe tbody tr th:only-of-type {\n",
              "        vertical-align: middle;\n",
              "    }\n",
              "\n",
              "    .dataframe tbody tr th {\n",
              "        vertical-align: top;\n",
              "    }\n",
              "\n",
              "    .dataframe thead th {\n",
              "        text-align: right;\n",
              "    }\n",
              "</style>\n",
              "<table border=\"1\" class=\"dataframe\">\n",
              "  <thead>\n",
              "    <tr style=\"text-align: right;\">\n",
              "      <th></th>\n",
              "      <th>Trabajo</th>\n",
              "      <th>Estado Civil</th>\n",
              "      <th>educacion</th>\n",
              "      <th>default</th>\n",
              "      <th>hipoteca</th>\n",
              "      <th>préstamo</th>\n",
              "      <th>psalida</th>\n",
              "    </tr>\n",
              "  </thead>\n",
              "  <tbody>\n",
              "    <tr>\n",
              "      <th>0</th>\n",
              "      <td>2</td>\n",
              "      <td>Casado</td>\n",
              "      <td>6</td>\n",
              "      <td>0</td>\n",
              "      <td>0</td>\n",
              "      <td>0</td>\n",
              "      <td>-1</td>\n",
              "    </tr>\n",
              "    <tr>\n",
              "      <th>1</th>\n",
              "      <td>6</td>\n",
              "      <td>Casado</td>\n",
              "      <td>6</td>\n",
              "      <td>-1</td>\n",
              "      <td>0</td>\n",
              "      <td>0</td>\n",
              "      <td>-1</td>\n",
              "    </tr>\n",
              "    <tr>\n",
              "      <th>2</th>\n",
              "      <td>6</td>\n",
              "      <td>Casado</td>\n",
              "      <td>6</td>\n",
              "      <td>0</td>\n",
              "      <td>1</td>\n",
              "      <td>0</td>\n",
              "      <td>-1</td>\n",
              "    </tr>\n",
              "    <tr>\n",
              "      <th>3</th>\n",
              "      <td>6</td>\n",
              "      <td>Casado</td>\n",
              "      <td>6</td>\n",
              "      <td>0</td>\n",
              "      <td>0</td>\n",
              "      <td>0</td>\n",
              "      <td>-1</td>\n",
              "    </tr>\n",
              "    <tr>\n",
              "      <th>4</th>\n",
              "      <td>6</td>\n",
              "      <td>Casado</td>\n",
              "      <td>6</td>\n",
              "      <td>0</td>\n",
              "      <td>0</td>\n",
              "      <td>1</td>\n",
              "      <td>-1</td>\n",
              "    </tr>\n",
              "  </tbody>\n",
              "</table>\n",
              "</div>\n",
              "      <button class=\"colab-df-convert\" onclick=\"convertToInteractive('df-b33f8ba6-0100-4ed2-a0d0-e1a8213ba54c')\"\n",
              "              title=\"Convert this dataframe to an interactive table.\"\n",
              "              style=\"display:none;\">\n",
              "        \n",
              "  <svg xmlns=\"http://www.w3.org/2000/svg\" height=\"24px\"viewBox=\"0 0 24 24\"\n",
              "       width=\"24px\">\n",
              "    <path d=\"M0 0h24v24H0V0z\" fill=\"none\"/>\n",
              "    <path d=\"M18.56 5.44l.94 2.06.94-2.06 2.06-.94-2.06-.94-.94-2.06-.94 2.06-2.06.94zm-11 1L8.5 8.5l.94-2.06 2.06-.94-2.06-.94L8.5 2.5l-.94 2.06-2.06.94zm10 10l.94 2.06.94-2.06 2.06-.94-2.06-.94-.94-2.06-.94 2.06-2.06.94z\"/><path d=\"M17.41 7.96l-1.37-1.37c-.4-.4-.92-.59-1.43-.59-.52 0-1.04.2-1.43.59L10.3 9.45l-7.72 7.72c-.78.78-.78 2.05 0 2.83L4 21.41c.39.39.9.59 1.41.59.51 0 1.02-.2 1.41-.59l7.78-7.78 2.81-2.81c.8-.78.8-2.07 0-2.86zM5.41 20L4 18.59l7.72-7.72 1.47 1.35L5.41 20z\"/>\n",
              "  </svg>\n",
              "      </button>\n",
              "      \n",
              "  <style>\n",
              "    .colab-df-container {\n",
              "      display:flex;\n",
              "      flex-wrap:wrap;\n",
              "      gap: 12px;\n",
              "    }\n",
              "\n",
              "    .colab-df-convert {\n",
              "      background-color: #E8F0FE;\n",
              "      border: none;\n",
              "      border-radius: 50%;\n",
              "      cursor: pointer;\n",
              "      display: none;\n",
              "      fill: #1967D2;\n",
              "      height: 32px;\n",
              "      padding: 0 0 0 0;\n",
              "      width: 32px;\n",
              "    }\n",
              "\n",
              "    .colab-df-convert:hover {\n",
              "      background-color: #E2EBFA;\n",
              "      box-shadow: 0px 1px 2px rgba(60, 64, 67, 0.3), 0px 1px 3px 1px rgba(60, 64, 67, 0.15);\n",
              "      fill: #174EA6;\n",
              "    }\n",
              "\n",
              "    [theme=dark] .colab-df-convert {\n",
              "      background-color: #3B4455;\n",
              "      fill: #D2E3FC;\n",
              "    }\n",
              "\n",
              "    [theme=dark] .colab-df-convert:hover {\n",
              "      background-color: #434B5C;\n",
              "      box-shadow: 0px 1px 3px 1px rgba(0, 0, 0, 0.15);\n",
              "      filter: drop-shadow(0px 1px 2px rgba(0, 0, 0, 0.3));\n",
              "      fill: #FFFFFF;\n",
              "    }\n",
              "  </style>\n",
              "\n",
              "      <script>\n",
              "        const buttonEl =\n",
              "          document.querySelector('#df-b33f8ba6-0100-4ed2-a0d0-e1a8213ba54c button.colab-df-convert');\n",
              "        buttonEl.style.display =\n",
              "          google.colab.kernel.accessAllowed ? 'block' : 'none';\n",
              "\n",
              "        async function convertToInteractive(key) {\n",
              "          const element = document.querySelector('#df-b33f8ba6-0100-4ed2-a0d0-e1a8213ba54c');\n",
              "          const dataTable =\n",
              "            await google.colab.kernel.invokeFunction('convertToInteractive',\n",
              "                                                     [key], {});\n",
              "          if (!dataTable) return;\n",
              "\n",
              "          const docLinkHtml = 'Like what you see? Visit the ' +\n",
              "            '<a target=\"_blank\" href=https://colab.research.google.com/notebooks/data_table.ipynb>data table notebook</a>'\n",
              "            + ' to learn more about interactive tables.';\n",
              "          element.innerHTML = '';\n",
              "          dataTable['output_type'] = 'display_data';\n",
              "          await google.colab.output.renderOutput(dataTable, element);\n",
              "          const docLink = document.createElement('div');\n",
              "          docLink.innerHTML = docLinkHtml;\n",
              "          element.appendChild(docLink);\n",
              "        }\n",
              "      </script>\n",
              "    </div>\n",
              "  </div>\n",
              "  "
            ]
          },
          "metadata": {},
          "execution_count": 51
        }
      ]
    },
    {
      "cell_type": "markdown",
      "source": [
        "### Dumizando las variables categoricas"
      ],
      "metadata": {
        "id": "wQaSJdF6xmG7"
      }
    },
    {
      "cell_type": "code",
      "source": [
        "# Notamos que todas las variables son de pocos valores.\n",
        "# Por ello, podemos binarizarlas usando dummies (One-hot encoding)\n",
        "# Adicionalmente, podemos usar el truco de eliminar uno de los valores, pues está implícito\n",
        "df_cat = pd.get_dummies(df_cat, drop_first = True)\n",
        "df_cat.head()"
      ],
      "metadata": {
        "colab": {
          "base_uri": "https://localhost:8080/",
          "height": 206
        },
        "id": "4vuqlkpfonVy",
        "outputId": "19772553-d07b-4a9b-c311-cc407b226d50"
      },
      "execution_count": null,
      "outputs": [
        {
          "output_type": "execute_result",
          "data": {
            "text/plain": [
              "   Trabajo  educacion  default  hipoteca  préstamo  psalida  \\\n",
              "0        2          6        0         0         0       -1   \n",
              "1        6          6       -1         0         0       -1   \n",
              "2        6          6        0         1         0       -1   \n",
              "3        6          6        0         0         0       -1   \n",
              "4        6          6        0         0         1       -1   \n",
              "\n",
              "   Estado Civil_Desconocido  Estado Civil_Divorciado  Estado Civil_Soltero  \n",
              "0                         0                        0                     0  \n",
              "1                         0                        0                     0  \n",
              "2                         0                        0                     0  \n",
              "3                         0                        0                     0  \n",
              "4                         0                        0                     0  "
            ],
            "text/html": [
              "\n",
              "  <div id=\"df-d97257c6-d840-497f-adaf-5e1afe957051\">\n",
              "    <div class=\"colab-df-container\">\n",
              "      <div>\n",
              "<style scoped>\n",
              "    .dataframe tbody tr th:only-of-type {\n",
              "        vertical-align: middle;\n",
              "    }\n",
              "\n",
              "    .dataframe tbody tr th {\n",
              "        vertical-align: top;\n",
              "    }\n",
              "\n",
              "    .dataframe thead th {\n",
              "        text-align: right;\n",
              "    }\n",
              "</style>\n",
              "<table border=\"1\" class=\"dataframe\">\n",
              "  <thead>\n",
              "    <tr style=\"text-align: right;\">\n",
              "      <th></th>\n",
              "      <th>Trabajo</th>\n",
              "      <th>educacion</th>\n",
              "      <th>default</th>\n",
              "      <th>hipoteca</th>\n",
              "      <th>préstamo</th>\n",
              "      <th>psalida</th>\n",
              "      <th>Estado Civil_Desconocido</th>\n",
              "      <th>Estado Civil_Divorciado</th>\n",
              "      <th>Estado Civil_Soltero</th>\n",
              "    </tr>\n",
              "  </thead>\n",
              "  <tbody>\n",
              "    <tr>\n",
              "      <th>0</th>\n",
              "      <td>2</td>\n",
              "      <td>6</td>\n",
              "      <td>0</td>\n",
              "      <td>0</td>\n",
              "      <td>0</td>\n",
              "      <td>-1</td>\n",
              "      <td>0</td>\n",
              "      <td>0</td>\n",
              "      <td>0</td>\n",
              "    </tr>\n",
              "    <tr>\n",
              "      <th>1</th>\n",
              "      <td>6</td>\n",
              "      <td>6</td>\n",
              "      <td>-1</td>\n",
              "      <td>0</td>\n",
              "      <td>0</td>\n",
              "      <td>-1</td>\n",
              "      <td>0</td>\n",
              "      <td>0</td>\n",
              "      <td>0</td>\n",
              "    </tr>\n",
              "    <tr>\n",
              "      <th>2</th>\n",
              "      <td>6</td>\n",
              "      <td>6</td>\n",
              "      <td>0</td>\n",
              "      <td>1</td>\n",
              "      <td>0</td>\n",
              "      <td>-1</td>\n",
              "      <td>0</td>\n",
              "      <td>0</td>\n",
              "      <td>0</td>\n",
              "    </tr>\n",
              "    <tr>\n",
              "      <th>3</th>\n",
              "      <td>6</td>\n",
              "      <td>6</td>\n",
              "      <td>0</td>\n",
              "      <td>0</td>\n",
              "      <td>0</td>\n",
              "      <td>-1</td>\n",
              "      <td>0</td>\n",
              "      <td>0</td>\n",
              "      <td>0</td>\n",
              "    </tr>\n",
              "    <tr>\n",
              "      <th>4</th>\n",
              "      <td>6</td>\n",
              "      <td>6</td>\n",
              "      <td>0</td>\n",
              "      <td>0</td>\n",
              "      <td>1</td>\n",
              "      <td>-1</td>\n",
              "      <td>0</td>\n",
              "      <td>0</td>\n",
              "      <td>0</td>\n",
              "    </tr>\n",
              "  </tbody>\n",
              "</table>\n",
              "</div>\n",
              "      <button class=\"colab-df-convert\" onclick=\"convertToInteractive('df-d97257c6-d840-497f-adaf-5e1afe957051')\"\n",
              "              title=\"Convert this dataframe to an interactive table.\"\n",
              "              style=\"display:none;\">\n",
              "        \n",
              "  <svg xmlns=\"http://www.w3.org/2000/svg\" height=\"24px\"viewBox=\"0 0 24 24\"\n",
              "       width=\"24px\">\n",
              "    <path d=\"M0 0h24v24H0V0z\" fill=\"none\"/>\n",
              "    <path d=\"M18.56 5.44l.94 2.06.94-2.06 2.06-.94-2.06-.94-.94-2.06-.94 2.06-2.06.94zm-11 1L8.5 8.5l.94-2.06 2.06-.94-2.06-.94L8.5 2.5l-.94 2.06-2.06.94zm10 10l.94 2.06.94-2.06 2.06-.94-2.06-.94-.94-2.06-.94 2.06-2.06.94z\"/><path d=\"M17.41 7.96l-1.37-1.37c-.4-.4-.92-.59-1.43-.59-.52 0-1.04.2-1.43.59L10.3 9.45l-7.72 7.72c-.78.78-.78 2.05 0 2.83L4 21.41c.39.39.9.59 1.41.59.51 0 1.02-.2 1.41-.59l7.78-7.78 2.81-2.81c.8-.78.8-2.07 0-2.86zM5.41 20L4 18.59l7.72-7.72 1.47 1.35L5.41 20z\"/>\n",
              "  </svg>\n",
              "      </button>\n",
              "      \n",
              "  <style>\n",
              "    .colab-df-container {\n",
              "      display:flex;\n",
              "      flex-wrap:wrap;\n",
              "      gap: 12px;\n",
              "    }\n",
              "\n",
              "    .colab-df-convert {\n",
              "      background-color: #E8F0FE;\n",
              "      border: none;\n",
              "      border-radius: 50%;\n",
              "      cursor: pointer;\n",
              "      display: none;\n",
              "      fill: #1967D2;\n",
              "      height: 32px;\n",
              "      padding: 0 0 0 0;\n",
              "      width: 32px;\n",
              "    }\n",
              "\n",
              "    .colab-df-convert:hover {\n",
              "      background-color: #E2EBFA;\n",
              "      box-shadow: 0px 1px 2px rgba(60, 64, 67, 0.3), 0px 1px 3px 1px rgba(60, 64, 67, 0.15);\n",
              "      fill: #174EA6;\n",
              "    }\n",
              "\n",
              "    [theme=dark] .colab-df-convert {\n",
              "      background-color: #3B4455;\n",
              "      fill: #D2E3FC;\n",
              "    }\n",
              "\n",
              "    [theme=dark] .colab-df-convert:hover {\n",
              "      background-color: #434B5C;\n",
              "      box-shadow: 0px 1px 3px 1px rgba(0, 0, 0, 0.15);\n",
              "      filter: drop-shadow(0px 1px 2px rgba(0, 0, 0, 0.3));\n",
              "      fill: #FFFFFF;\n",
              "    }\n",
              "  </style>\n",
              "\n",
              "      <script>\n",
              "        const buttonEl =\n",
              "          document.querySelector('#df-d97257c6-d840-497f-adaf-5e1afe957051 button.colab-df-convert');\n",
              "        buttonEl.style.display =\n",
              "          google.colab.kernel.accessAllowed ? 'block' : 'none';\n",
              "\n",
              "        async function convertToInteractive(key) {\n",
              "          const element = document.querySelector('#df-d97257c6-d840-497f-adaf-5e1afe957051');\n",
              "          const dataTable =\n",
              "            await google.colab.kernel.invokeFunction('convertToInteractive',\n",
              "                                                     [key], {});\n",
              "          if (!dataTable) return;\n",
              "\n",
              "          const docLinkHtml = 'Like what you see? Visit the ' +\n",
              "            '<a target=\"_blank\" href=https://colab.research.google.com/notebooks/data_table.ipynb>data table notebook</a>'\n",
              "            + ' to learn more about interactive tables.';\n",
              "          element.innerHTML = '';\n",
              "          dataTable['output_type'] = 'display_data';\n",
              "          await google.colab.output.renderOutput(dataTable, element);\n",
              "          const docLink = document.createElement('div');\n",
              "          docLink.innerHTML = docLinkHtml;\n",
              "          element.appendChild(docLink);\n",
              "        }\n",
              "      </script>\n",
              "    </div>\n",
              "  </div>\n",
              "  "
            ]
          },
          "metadata": {},
          "execution_count": 52
        }
      ]
    },
    {
      "cell_type": "markdown",
      "source": [
        "## Unimos los dataframes\n"
      ],
      "metadata": {
        "id": "w5ncDf2s0OYd"
      }
    },
    {
      "cell_type": "code",
      "source": [
        "df_final = df_numericas.merge(df_cat, how = 'left', left_index = True, right_index = True)\n",
        "df_final.head()"
      ],
      "metadata": {
        "colab": {
          "base_uri": "https://localhost:8080/",
          "height": 268
        },
        "id": "iyf7uxaKxVUT",
        "outputId": "3f40a935-4f45-44b2-f260-e3765f6ea013"
      },
      "execution_count": null,
      "outputs": [
        {
          "output_type": "execute_result",
          "data": {
            "text/plain": [
              "       Edad  campaña  contactos previos  emp.var.ratio  idx.precio.cons  \\\n",
              "0  0.481481      0.0                0.0         0.9375         0.698753   \n",
              "1  0.493827      0.0                0.0         0.9375         0.698753   \n",
              "2  0.246914      0.0                0.0         0.9375         0.698753   \n",
              "3  0.283951      0.0                0.0         0.9375         0.698753   \n",
              "4  0.481481      0.0                0.0         0.9375         0.698753   \n",
              "\n",
              "   idx.conf.cons  euribor3m  nr.employed  TARGET  Trabajo  educacion  default  \\\n",
              "0        0.60251   0.957379     0.859735       0        2          6        0   \n",
              "1        0.60251   0.957379     0.859735       0        6          6       -1   \n",
              "2        0.60251   0.957379     0.859735       0        6          6        0   \n",
              "3        0.60251   0.957379     0.859735       0        6          6        0   \n",
              "4        0.60251   0.957379     0.859735       0        6          6        0   \n",
              "\n",
              "   hipoteca  préstamo  psalida  Estado Civil_Desconocido  \\\n",
              "0         0         0       -1                         0   \n",
              "1         0         0       -1                         0   \n",
              "2         1         0       -1                         0   \n",
              "3         0         0       -1                         0   \n",
              "4         0         1       -1                         0   \n",
              "\n",
              "   Estado Civil_Divorciado  Estado Civil_Soltero  \n",
              "0                        0                     0  \n",
              "1                        0                     0  \n",
              "2                        0                     0  \n",
              "3                        0                     0  \n",
              "4                        0                     0  "
            ],
            "text/html": [
              "\n",
              "  <div id=\"df-b97cd437-74e8-4899-a45c-4a26665926ae\">\n",
              "    <div class=\"colab-df-container\">\n",
              "      <div>\n",
              "<style scoped>\n",
              "    .dataframe tbody tr th:only-of-type {\n",
              "        vertical-align: middle;\n",
              "    }\n",
              "\n",
              "    .dataframe tbody tr th {\n",
              "        vertical-align: top;\n",
              "    }\n",
              "\n",
              "    .dataframe thead th {\n",
              "        text-align: right;\n",
              "    }\n",
              "</style>\n",
              "<table border=\"1\" class=\"dataframe\">\n",
              "  <thead>\n",
              "    <tr style=\"text-align: right;\">\n",
              "      <th></th>\n",
              "      <th>Edad</th>\n",
              "      <th>campaña</th>\n",
              "      <th>contactos previos</th>\n",
              "      <th>emp.var.ratio</th>\n",
              "      <th>idx.precio.cons</th>\n",
              "      <th>idx.conf.cons</th>\n",
              "      <th>euribor3m</th>\n",
              "      <th>nr.employed</th>\n",
              "      <th>TARGET</th>\n",
              "      <th>Trabajo</th>\n",
              "      <th>educacion</th>\n",
              "      <th>default</th>\n",
              "      <th>hipoteca</th>\n",
              "      <th>préstamo</th>\n",
              "      <th>psalida</th>\n",
              "      <th>Estado Civil_Desconocido</th>\n",
              "      <th>Estado Civil_Divorciado</th>\n",
              "      <th>Estado Civil_Soltero</th>\n",
              "    </tr>\n",
              "  </thead>\n",
              "  <tbody>\n",
              "    <tr>\n",
              "      <th>0</th>\n",
              "      <td>0.481481</td>\n",
              "      <td>0.0</td>\n",
              "      <td>0.0</td>\n",
              "      <td>0.9375</td>\n",
              "      <td>0.698753</td>\n",
              "      <td>0.60251</td>\n",
              "      <td>0.957379</td>\n",
              "      <td>0.859735</td>\n",
              "      <td>0</td>\n",
              "      <td>2</td>\n",
              "      <td>6</td>\n",
              "      <td>0</td>\n",
              "      <td>0</td>\n",
              "      <td>0</td>\n",
              "      <td>-1</td>\n",
              "      <td>0</td>\n",
              "      <td>0</td>\n",
              "      <td>0</td>\n",
              "    </tr>\n",
              "    <tr>\n",
              "      <th>1</th>\n",
              "      <td>0.493827</td>\n",
              "      <td>0.0</td>\n",
              "      <td>0.0</td>\n",
              "      <td>0.9375</td>\n",
              "      <td>0.698753</td>\n",
              "      <td>0.60251</td>\n",
              "      <td>0.957379</td>\n",
              "      <td>0.859735</td>\n",
              "      <td>0</td>\n",
              "      <td>6</td>\n",
              "      <td>6</td>\n",
              "      <td>-1</td>\n",
              "      <td>0</td>\n",
              "      <td>0</td>\n",
              "      <td>-1</td>\n",
              "      <td>0</td>\n",
              "      <td>0</td>\n",
              "      <td>0</td>\n",
              "    </tr>\n",
              "    <tr>\n",
              "      <th>2</th>\n",
              "      <td>0.246914</td>\n",
              "      <td>0.0</td>\n",
              "      <td>0.0</td>\n",
              "      <td>0.9375</td>\n",
              "      <td>0.698753</td>\n",
              "      <td>0.60251</td>\n",
              "      <td>0.957379</td>\n",
              "      <td>0.859735</td>\n",
              "      <td>0</td>\n",
              "      <td>6</td>\n",
              "      <td>6</td>\n",
              "      <td>0</td>\n",
              "      <td>1</td>\n",
              "      <td>0</td>\n",
              "      <td>-1</td>\n",
              "      <td>0</td>\n",
              "      <td>0</td>\n",
              "      <td>0</td>\n",
              "    </tr>\n",
              "    <tr>\n",
              "      <th>3</th>\n",
              "      <td>0.283951</td>\n",
              "      <td>0.0</td>\n",
              "      <td>0.0</td>\n",
              "      <td>0.9375</td>\n",
              "      <td>0.698753</td>\n",
              "      <td>0.60251</td>\n",
              "      <td>0.957379</td>\n",
              "      <td>0.859735</td>\n",
              "      <td>0</td>\n",
              "      <td>6</td>\n",
              "      <td>6</td>\n",
              "      <td>0</td>\n",
              "      <td>0</td>\n",
              "      <td>0</td>\n",
              "      <td>-1</td>\n",
              "      <td>0</td>\n",
              "      <td>0</td>\n",
              "      <td>0</td>\n",
              "    </tr>\n",
              "    <tr>\n",
              "      <th>4</th>\n",
              "      <td>0.481481</td>\n",
              "      <td>0.0</td>\n",
              "      <td>0.0</td>\n",
              "      <td>0.9375</td>\n",
              "      <td>0.698753</td>\n",
              "      <td>0.60251</td>\n",
              "      <td>0.957379</td>\n",
              "      <td>0.859735</td>\n",
              "      <td>0</td>\n",
              "      <td>6</td>\n",
              "      <td>6</td>\n",
              "      <td>0</td>\n",
              "      <td>0</td>\n",
              "      <td>1</td>\n",
              "      <td>-1</td>\n",
              "      <td>0</td>\n",
              "      <td>0</td>\n",
              "      <td>0</td>\n",
              "    </tr>\n",
              "  </tbody>\n",
              "</table>\n",
              "</div>\n",
              "      <button class=\"colab-df-convert\" onclick=\"convertToInteractive('df-b97cd437-74e8-4899-a45c-4a26665926ae')\"\n",
              "              title=\"Convert this dataframe to an interactive table.\"\n",
              "              style=\"display:none;\">\n",
              "        \n",
              "  <svg xmlns=\"http://www.w3.org/2000/svg\" height=\"24px\"viewBox=\"0 0 24 24\"\n",
              "       width=\"24px\">\n",
              "    <path d=\"M0 0h24v24H0V0z\" fill=\"none\"/>\n",
              "    <path d=\"M18.56 5.44l.94 2.06.94-2.06 2.06-.94-2.06-.94-.94-2.06-.94 2.06-2.06.94zm-11 1L8.5 8.5l.94-2.06 2.06-.94-2.06-.94L8.5 2.5l-.94 2.06-2.06.94zm10 10l.94 2.06.94-2.06 2.06-.94-2.06-.94-.94-2.06-.94 2.06-2.06.94z\"/><path d=\"M17.41 7.96l-1.37-1.37c-.4-.4-.92-.59-1.43-.59-.52 0-1.04.2-1.43.59L10.3 9.45l-7.72 7.72c-.78.78-.78 2.05 0 2.83L4 21.41c.39.39.9.59 1.41.59.51 0 1.02-.2 1.41-.59l7.78-7.78 2.81-2.81c.8-.78.8-2.07 0-2.86zM5.41 20L4 18.59l7.72-7.72 1.47 1.35L5.41 20z\"/>\n",
              "  </svg>\n",
              "      </button>\n",
              "      \n",
              "  <style>\n",
              "    .colab-df-container {\n",
              "      display:flex;\n",
              "      flex-wrap:wrap;\n",
              "      gap: 12px;\n",
              "    }\n",
              "\n",
              "    .colab-df-convert {\n",
              "      background-color: #E8F0FE;\n",
              "      border: none;\n",
              "      border-radius: 50%;\n",
              "      cursor: pointer;\n",
              "      display: none;\n",
              "      fill: #1967D2;\n",
              "      height: 32px;\n",
              "      padding: 0 0 0 0;\n",
              "      width: 32px;\n",
              "    }\n",
              "\n",
              "    .colab-df-convert:hover {\n",
              "      background-color: #E2EBFA;\n",
              "      box-shadow: 0px 1px 2px rgba(60, 64, 67, 0.3), 0px 1px 3px 1px rgba(60, 64, 67, 0.15);\n",
              "      fill: #174EA6;\n",
              "    }\n",
              "\n",
              "    [theme=dark] .colab-df-convert {\n",
              "      background-color: #3B4455;\n",
              "      fill: #D2E3FC;\n",
              "    }\n",
              "\n",
              "    [theme=dark] .colab-df-convert:hover {\n",
              "      background-color: #434B5C;\n",
              "      box-shadow: 0px 1px 3px 1px rgba(0, 0, 0, 0.15);\n",
              "      filter: drop-shadow(0px 1px 2px rgba(0, 0, 0, 0.3));\n",
              "      fill: #FFFFFF;\n",
              "    }\n",
              "  </style>\n",
              "\n",
              "      <script>\n",
              "        const buttonEl =\n",
              "          document.querySelector('#df-b97cd437-74e8-4899-a45c-4a26665926ae button.colab-df-convert');\n",
              "        buttonEl.style.display =\n",
              "          google.colab.kernel.accessAllowed ? 'block' : 'none';\n",
              "\n",
              "        async function convertToInteractive(key) {\n",
              "          const element = document.querySelector('#df-b97cd437-74e8-4899-a45c-4a26665926ae');\n",
              "          const dataTable =\n",
              "            await google.colab.kernel.invokeFunction('convertToInteractive',\n",
              "                                                     [key], {});\n",
              "          if (!dataTable) return;\n",
              "\n",
              "          const docLinkHtml = 'Like what you see? Visit the ' +\n",
              "            '<a target=\"_blank\" href=https://colab.research.google.com/notebooks/data_table.ipynb>data table notebook</a>'\n",
              "            + ' to learn more about interactive tables.';\n",
              "          element.innerHTML = '';\n",
              "          dataTable['output_type'] = 'display_data';\n",
              "          await google.colab.output.renderOutput(dataTable, element);\n",
              "          const docLink = document.createElement('div');\n",
              "          docLink.innerHTML = docLinkHtml;\n",
              "          element.appendChild(docLink);\n",
              "        }\n",
              "      </script>\n",
              "    </div>\n",
              "  </div>\n",
              "  "
            ]
          },
          "metadata": {},
          "execution_count": 53
        }
      ]
    },
    {
      "cell_type": "code",
      "source": [
        "from sklearn.model_selection import train_test_split\n",
        "\n",
        "X = df_final.reset_index().drop(columns = ['TARGET'])\n",
        "y = df_final.reset_index()['TARGET']\n",
        "\n",
        "# Nota: random_state = numero permite que ante diferentes ejecuciones se obtenga el mismo resultado (reproducibilidad)\n",
        "X_trainval, X_test, y_trainval, y_test = train_test_split(X, y, test_size = 0.2, random_state = 30)"
      ],
      "metadata": {
        "id": "PpYUHOUvxVXT"
      },
      "execution_count": null,
      "outputs": []
    },
    {
      "cell_type": "code",
      "source": [
        "from collections import Counter\n",
        "counter = Counter(y)\n",
        "print(counter)"
      ],
      "metadata": {
        "colab": {
          "base_uri": "https://localhost:8080/"
        },
        "id": "N1ynwSqRYqnG",
        "outputId": "6d1447da-1762-4c47-eb4e-ff80bf75a477"
      },
      "execution_count": null,
      "outputs": [
        {
          "output_type": "stream",
          "name": "stdout",
          "text": [
            "Counter({0: 36536, 1: 4639})\n"
          ]
        }
      ]
    },
    {
      "cell_type": "code",
      "source": [
        "# transform the dataset\n",
        "oversample = SMOTE()\n",
        "X2, y2 = oversample.fit_resample(X, y)"
      ],
      "metadata": {
        "id": "wV67JIYpZFmY"
      },
      "execution_count": null,
      "outputs": []
    },
    {
      "cell_type": "code",
      "source": [
        "# summarize the new class distribution\n",
        "counter = Counter(y2)\n",
        "print(counter)"
      ],
      "metadata": {
        "colab": {
          "base_uri": "https://localhost:8080/"
        },
        "id": "oYEcK8kqZF5M",
        "outputId": "5f758f1b-edcf-47ae-b35b-6cc7cdbdad58"
      },
      "execution_count": null,
      "outputs": [
        {
          "output_type": "stream",
          "name": "stdout",
          "text": [
            "Counter({0: 36536, 1: 36536})\n"
          ]
        }
      ]
    },
    {
      "cell_type": "code",
      "source": [
        "X2.shape"
      ],
      "metadata": {
        "colab": {
          "base_uri": "https://localhost:8080/"
        },
        "id": "0e1JcLO2ZGB4",
        "outputId": "2864b2ce-f6fe-4823-dca3-0f93c180b86e"
      },
      "execution_count": null,
      "outputs": [
        {
          "output_type": "execute_result",
          "data": {
            "text/plain": [
              "(73072, 18)"
            ]
          },
          "metadata": {},
          "execution_count": 110
        }
      ]
    },
    {
      "cell_type": "code",
      "source": [
        "X_train, X_val, y_train, y_val = train_test_split(X_trainval, y_trainval, test_size = 0.2, random_state = 30)"
      ],
      "metadata": {
        "id": "gc1Iqk7fxVaL"
      },
      "execution_count": null,
      "outputs": []
    },
    {
      "cell_type": "code",
      "source": [
        "from sklearn.preprocessing import MinMaxScaler\n",
        "\n",
        "scaler = MinMaxScaler()\n",
        "scaler.fit(X_train)\n",
        "\n",
        "# Notar que el scaler se fitea solo sobre el set de entrenamiento\n",
        "X_train_sc = pd.DataFrame(scaler.transform(X_train), columns = X_train.columns)\n",
        "X_val_sc = pd.DataFrame(scaler.transform(X_val), columns = X_val.columns)"
      ],
      "metadata": {
        "id": "1ZVxwmQfxVdI"
      },
      "execution_count": null,
      "outputs": []
    },
    {
      "cell_type": "code",
      "source": [
        "from sklearn.linear_model import LogisticRegression\n",
        "from sklearn.tree import DecisionTreeClassifier\n",
        "from sklearn.naive_bayes import GaussianNB\n",
        "\n",
        "# Instanciamos los clasificadores\n",
        "lr = LogisticRegression()\n",
        "dt = DecisionTreeClassifier()\n",
        "nb = GaussianNB()\n",
        "\n",
        "# Entrenamos los clasificadores con la data de entrenamiento\n",
        "lr.fit(X_train_sc, y_train)\n",
        "dt.fit(X_train_sc, y_train)\n",
        "nb.fit(X_train_sc, y_train)"
      ],
      "metadata": {
        "colab": {
          "base_uri": "https://localhost:8080/"
        },
        "id": "NhHKiRE8xVf2",
        "outputId": "3bcfcae6-f64b-49fc-dc27-a7e0b28201c4"
      },
      "execution_count": null,
      "outputs": [
        {
          "output_type": "execute_result",
          "data": {
            "text/plain": [
              "GaussianNB()"
            ]
          },
          "metadata": {},
          "execution_count": 57
        }
      ]
    },
    {
      "cell_type": "code",
      "source": [
        "from sklearn.metrics import roc_auc_score\n",
        "\n",
        "print(f'AUC - Naive Bayes {roc_auc_score(y_val, nb.predict_proba(X_val_sc)[:,1]):.4f}')\n",
        "print(f'AUC - Decision Tree: {roc_auc_score(y_val, dt.predict_proba(X_val_sc)[:,1]):.4f}')\n",
        "print(f'AUC - Logistic Regression: {roc_auc_score(y_val, lr.predict_proba(X_val_sc)[:,1]):.4f}')"
      ],
      "metadata": {
        "colab": {
          "base_uri": "https://localhost:8080/"
        },
        "id": "SWYqlygGxVio",
        "outputId": "682b4c04-3445-4d96-e4dd-6d7cf08a91be"
      },
      "execution_count": null,
      "outputs": [
        {
          "output_type": "stream",
          "name": "stdout",
          "text": [
            "AUC - Naive Bayes 0.7777\n",
            "AUC - Decision Tree: 0.6253\n",
            "AUC - Logistic Regression: 0.7795\n"
          ]
        }
      ]
    },
    {
      "cell_type": "code",
      "source": [
        "from sklearn.metrics import accuracy_score\n",
        "\n",
        "print(f'Accuracy - Naive Bayes {accuracy_score(y_val, nb.predict(X_val_sc)):.4f}')\n",
        "print(f'Accuracy - Decision Tree: {accuracy_score(y_val, dt.predict(X_val_sc)):.4f}')\n",
        "print(f'Accuracy - Logistic Regression: {accuracy_score(y_val, lr.predict(X_val_sc)):.4f}')"
      ],
      "metadata": {
        "colab": {
          "base_uri": "https://localhost:8080/"
        },
        "id": "chpxaCT3xVlL",
        "outputId": "d3fae998-1b01-4483-c1ee-fc88742e1419"
      },
      "execution_count": null,
      "outputs": [
        {
          "output_type": "stream",
          "name": "stdout",
          "text": [
            "Accuracy - Naive Bayes 0.8012\n",
            "Accuracy - Decision Tree: 0.8427\n",
            "Accuracy - Logistic Regression: 0.9009\n"
          ]
        }
      ]
    },
    {
      "cell_type": "code",
      "source": [
        "def print_confusion_matrix(confusion_matrix, accuracy):\n",
        "  import seaborn as sn\n",
        "  plt.figure(figsize=(10,7))\n",
        "  sn.heatmap(confusion_matrix, annot=True, fmt='d', cmap='Blues')\n",
        "  plt.xlabel('Predicted')\n",
        "  plt.ylabel('True')\n",
        "  plt.title('Confusion matrix. Acc={}'.format(accuracy))\n",
        "  plt.show()  "
      ],
      "metadata": {
        "id": "ZOMaqEp2onYY"
      },
      "execution_count": null,
      "outputs": []
    },
    {
      "cell_type": "code",
      "source": [
        "from sklearn.metrics import confusion_matrix\n",
        "print_confusion_matrix(confusion_matrix(y_val,lr.predict(X_val_sc)), accuracy_score(y_val,lr.predict(X_val_sc)))"
      ],
      "metadata": {
        "colab": {
          "base_uri": "https://localhost:8080/",
          "height": 458
        },
        "id": "veMJMGg03h_e",
        "outputId": "acff6639-9914-41cb-f876-0abb7cc2342b"
      },
      "execution_count": null,
      "outputs": [
        {
          "output_type": "display_data",
          "data": {
            "text/plain": [
              "<Figure size 720x504 with 2 Axes>"
            ],
            "image/png": "[encoded data removed]"
          },
          "metadata": {
            "needs_background": "light"
          }
        }
      ]
    },
    {
      "cell_type": "code",
      "source": [
        "print_confusion_matrix(confusion_matrix(y_val,dt.predict(X_val_sc)), accuracy_score(y_val,dt.predict(X_val_sc)))"
      ],
      "metadata": {
        "colab": {
          "base_uri": "https://localhost:8080/",
          "height": 458
        },
        "id": "fH2MRjLb3iDO",
        "outputId": "9365e79f-9648-4370-a19c-b4c8288f72d5"
      },
      "execution_count": null,
      "outputs": [
        {
          "output_type": "display_data",
          "data": {
            "text/plain": [
              "<Figure size 720x504 with 2 Axes>"
            ],
            "image/png": "[encoded data removed]"
          },
          "metadata": {
            "needs_background": "light"
          }
        }
      ]
    },
    {
      "cell_type": "markdown",
      "source": [
        "# Optimizando hiperparametros"
      ],
      "metadata": {
        "id": "-kOjXYdy4MmX"
      }
    },
    {
      "cell_type": "code",
      "source": [
        "from sklearn.model_selection import GridSearchCV\n",
        "from sklearn.pipeline import Pipeline\n",
        "\n",
        "# Grid Search CV usa el método de búsqueda en grilla en un esquema de validación cruzada para encontrar\n",
        "# los mejores valores de los hiperparámetros\n",
        "\n",
        "# Definimos una lista con los valores que se va a probar del hiperparametro\n",
        "class_weight_lst = [None, 'balanced']\n",
        "C_lst = [10, 1, 0.1, 0.01]\n",
        "\n",
        "\n",
        "# Un pipeline permite definir cada accion que se va a llevar a cabo en cada fold \n",
        "# y así no tener que especificarlos como se hizo anteriormente\n",
        "# Para ello, se definen pasos, que se representan como duplas\n",
        "# En general, de los N pasos, los primeros N-1 son transformadores (como escaladores) que deben tener el metodo fit_transform\n",
        "# El ultimo paso es un clasificador al que se hará un fit/predict\n",
        "pipe = Pipeline([('scaler', MinMaxScaler()),      # Paso 1: escalar.\n",
        "                 ('clf', LogisticRegression(solver = 'liblinear'))])  # Paso 2: clasificar\n",
        "\n",
        "# Definimos la grilla de parametros\n",
        "param_grid = {\n",
        "    # El nombre del parametro sigue el patron: <nombre_paso_pipeline>__<nombre_parametros_documentacion>\n",
        "    'clf__class_weight': class_weight_lst,\n",
        "    'clf__C': C_lst\n",
        "}\n",
        "\n",
        "# Definimos la busqueda y la ejecutamos\n",
        "grid_clf = GridSearchCV(pipe, param_grid = param_grid,scoring = 'roc_auc')\n",
        "grid_clf.fit(X_trainval, y_trainval)"
      ],
      "metadata": {
        "colab": {
          "base_uri": "https://localhost:8080/"
        },
        "id": "WsehRlmn3iGg",
        "outputId": "1d83b929-26ba-4df6-e13c-467d426088a5"
      },
      "execution_count": null,
      "outputs": [
        {
          "output_type": "execute_result",
          "data": {
            "text/plain": [
              "GridSearchCV(estimator=Pipeline(steps=[('scaler', MinMaxScaler()),\n",
              "                                       ('clf',\n",
              "                                        LogisticRegression(solver='liblinear'))]),\n",
              "             param_grid={'clf__C': [10, 1, 0.1, 0.01],\n",
              "                         'clf__class_weight': [None, 'balanced']},\n",
              "             scoring='roc_auc')"
            ]
          },
          "metadata": {},
          "execution_count": 63
        }
      ]
    },
    {
      "cell_type": "code",
      "source": [
        "# Podemos encontrar los mejores parámetos con best_params_\n",
        "grid_clf.best_params_"
      ],
      "metadata": {
        "colab": {
          "base_uri": "https://localhost:8080/"
        },
        "id": "hJYnTEdG3iH0",
        "outputId": "5e44220f-75fc-4237-809f-bfbb75bd6214"
      },
      "execution_count": null,
      "outputs": [
        {
          "output_type": "execute_result",
          "data": {
            "text/plain": [
              "{'clf__C': 10, 'clf__class_weight': 'balanced'}"
            ]
          },
          "metadata": {},
          "execution_count": 64
        }
      ]
    },
    {
      "cell_type": "code",
      "source": [
        "# Podemos encontrar el mejor score obtenido con estos parametros\n",
        "grid_clf.best_score_"
      ],
      "metadata": {
        "colab": {
          "base_uri": "https://localhost:8080/"
        },
        "id": "kxr3SeNA3iLU",
        "outputId": "079a81a7-e82c-4732-a26b-685012966989"
      },
      "execution_count": null,
      "outputs": [
        {
          "output_type": "execute_result",
          "data": {
            "text/plain": [
              "0.7703206760001537"
            ]
          },
          "metadata": {},
          "execution_count": 65
        }
      ]
    },
    {
      "cell_type": "markdown",
      "source": [
        "# Curvas de aprendizaje"
      ],
      "metadata": {
        "id": "sswHznI26B9X"
      }
    },
    {
      "cell_type": "code",
      "source": [
        "# Código obtenido de la documentación de sklearn\n",
        "# https://scikit-learn.org/stable/auto_examples/model_selection/plot_learning_curve.html\n",
        "\n",
        "import numpy as np\n",
        "import matplotlib.pyplot as plt\n",
        "from sklearn.model_selection import learning_curve\n",
        "from sklearn.model_selection import ShuffleSplit\n",
        "\n",
        "def plot_learning_curve(estimator, title, X, y, axes=None, ylim=None, cv=None,\n",
        "                        n_jobs=None, train_sizes=np.linspace(.1, 1.0, 5)):\n",
        "    \"\"\"\n",
        "    Generate 3 plots: the test and training learning curve, the training\n",
        "    samples vs fit times curve, the fit times vs score curve.\n",
        "\n",
        "    Parameters\n",
        "    ----------\n",
        "    estimator : estimator instance\n",
        "        An estimator instance implementing `fit` and `predict` methods which\n",
        "        will be cloned for each validation.\n",
        "\n",
        "    title : str\n",
        "        Title for the chart.\n",
        "\n",
        "    X : array-like of shape (n_samples, n_features)\n",
        "        Training vector, where ``n_samples`` is the number of samples and\n",
        "        ``n_features`` is the number of features.\n",
        "\n",
        "    y : array-like of shape (n_samples) or (n_samples, n_features)\n",
        "        Target relative to ``X`` for classification or regression;\n",
        "        None for unsupervised learning.\n",
        "\n",
        "    axes : array-like of shape (3,), default=None\n",
        "        Axes to use for plotting the curves.\n",
        "\n",
        "    ylim : tuple of shape (2,), default=None\n",
        "        Defines minimum and maximum y-values plotted, e.g. (ymin, ymax).\n",
        "\n",
        "    cv : int, cross-validation generator or an iterable, default=None\n",
        "        Determines the cross-validation splitting strategy.\n",
        "        Possible inputs for cv are:\n",
        "\n",
        "          - None, to use the default 5-fold cross-validation,\n",
        "          - integer, to specify the number of folds.\n",
        "          - :term:`CV splitter`,\n",
        "          - An iterable yielding (train, test) splits as arrays of indices.\n",
        "\n",
        "        For integer/None inputs, if ``y`` is binary or multiclass,\n",
        "        :class:`StratifiedKFold` used. If the estimator is not a classifier\n",
        "        or if ``y`` is neither binary nor multiclass, :class:`KFold` is used.\n",
        "\n",
        "        Refer :ref:`User Guide <cross_validation>` for the various\n",
        "        cross-validators that can be used here.\n",
        "\n",
        "    n_jobs : int or None, default=None\n",
        "        Number of jobs to run in parallel.\n",
        "        ``None`` means 1 unless in a :obj:`joblib.parallel_backend` context.\n",
        "        ``-1`` means using all processors. See :term:`Glossary <n_jobs>`\n",
        "        for more details.\n",
        "\n",
        "    train_sizes : array-like of shape (n_ticks,)\n",
        "        Relative or absolute numbers of training examples that will be used to\n",
        "        generate the learning curve. If the ``dtype`` is float, it is regarded\n",
        "        as a fraction of the maximum size of the training set (that is\n",
        "        determined by the selected validation method), i.e. it has to be within\n",
        "        (0, 1]. Otherwise it is interpreted as absolute sizes of the training\n",
        "        sets. Note that for classification the number of samples usually have\n",
        "        to be big enough to contain at least one sample from each class.\n",
        "        (default: np.linspace(0.1, 1.0, 5))\n",
        "    \"\"\"\n",
        "    if axes is None:\n",
        "        _, axes = plt.subplots(1, 3, figsize=(20, 5))\n",
        "\n",
        "    axes[0].set_title(title)\n",
        "    if ylim is not None:\n",
        "        axes[0].set_ylim(*ylim)\n",
        "    axes[0].set_xlabel(\"Training examples\")\n",
        "    axes[0].set_ylabel(\"Score\")\n",
        "\n",
        "    train_sizes, train_scores, test_scores, fit_times, _ = \\\n",
        "        learning_curve(estimator, X, y, cv=cv, n_jobs=n_jobs,\n",
        "                       train_sizes=train_sizes,\n",
        "                       return_times=True,\n",
        "                       scoring = 'roc_auc')\n",
        "    train_scores_mean = np.mean(train_scores, axis=1)\n",
        "    train_scores_std = np.std(train_scores, axis=1)\n",
        "    test_scores_mean = np.mean(test_scores, axis=1)\n",
        "    test_scores_std = np.std(test_scores, axis=1)\n",
        "    fit_times_mean = np.mean(fit_times, axis=1)\n",
        "    fit_times_std = np.std(fit_times, axis=1)\n",
        "\n",
        "    # Plot learning curve\n",
        "    axes[0].grid()\n",
        "    axes[0].fill_between(train_sizes, train_scores_mean - train_scores_std,\n",
        "                         train_scores_mean + train_scores_std, alpha=0.1,\n",
        "                         color=\"r\")\n",
        "    axes[0].fill_between(train_sizes, test_scores_mean - test_scores_std,\n",
        "                         test_scores_mean + test_scores_std, alpha=0.1,\n",
        "                         color=\"g\")\n",
        "    axes[0].plot(train_sizes, train_scores_mean, 'o-', color=\"r\",\n",
        "                 label=\"Training score\")\n",
        "    axes[0].plot(train_sizes, test_scores_mean, 'o-', color=\"g\",\n",
        "                 label=\"Cross-validation score\")\n",
        "    axes[0].legend(loc=\"best\")\n",
        "\n",
        "    # Plot n_samples vs fit_times\n",
        "    axes[1].grid()\n",
        "    axes[1].plot(train_sizes, fit_times_mean, 'o-')\n",
        "    axes[1].fill_between(train_sizes, fit_times_mean - fit_times_std,\n",
        "                         fit_times_mean + fit_times_std, alpha=0.1)\n",
        "    axes[1].set_xlabel(\"Training examples\")\n",
        "    axes[1].set_ylabel(\"fit_times\")\n",
        "    axes[1].set_title(\"Scalability of the model\")\n",
        "\n",
        "    # Plot fit_time vs score\n",
        "    axes[2].grid()\n",
        "    axes[2].plot(fit_times_mean, test_scores_mean, 'o-')\n",
        "    axes[2].fill_between(fit_times_mean, test_scores_mean - test_scores_std,\n",
        "                         test_scores_mean + test_scores_std, alpha=0.1)\n",
        "    axes[2].set_xlabel(\"fit_times\")\n",
        "    axes[2].set_ylabel(\"Score\")\n",
        "    axes[2].set_title(\"Performance of the model\")\n",
        "\n",
        "    return plt"
      ],
      "metadata": {
        "id": "iMfZaCiX41sx"
      },
      "execution_count": null,
      "outputs": []
    },
    {
      "cell_type": "code",
      "source": [
        "estimator = Pipeline([('scaler', MinMaxScaler()),\n",
        "                      ('clf', LogisticRegression(solver = 'liblinear', C=10, class_weight='balanced'))])\n",
        "plot_learning_curve(estimator, 'Logistic Regression', X_trainval, y_trainval, cv=5, n_jobs=2)\n",
        "plt.show()"
      ],
      "metadata": {
        "colab": {
          "base_uri": "https://localhost:8080/",
          "height": 351
        },
        "id": "dE5G89l-41wk",
        "outputId": "2768fde8-4169-4fbb-f605-75d519fb237d"
      },
      "execution_count": null,
      "outputs": [
        {
          "output_type": "display_data",
          "data": {
            "text/plain": [
              "<Figure size 1440x360 with 3 Axes>"
            ],
            "image/png": "[encoded data removed]"
          },
          "metadata": {
            "needs_background": "light"
          }
        }
      ]
    },
    {
      "cell_type": "markdown",
      "source": [
        "## Se entrena con todo el set de entrenamiento"
      ],
      "metadata": {
        "id": "cOFc8TPA8znY"
      }
    },
    {
      "cell_type": "code",
      "source": [
        "# Entrenamos el scaler con toda la data de entrenamiento\n",
        "scaler = MinMaxScaler()\n",
        "scaler.fit(X_trainval)\n",
        "X_trainval_sc = scaler.transform(X_trainval)\n",
        "X_test_sc = scaler.transform(X_test)\n",
        "\n",
        "# Entrenamos el clasificador con toda la data de entrenamiento\n",
        "clf_final = LogisticRegression(solver = 'liblinear', C=10, class_weight = 'balanced')\n",
        "clf_final.fit(X_trainval_sc, y_trainval)\n",
        "\n",
        "y_pred = clf_final.predict(X_test_sc)\n",
        "y_pred_proba = clf_final.predict_proba(X_test_sc)[:,1]\n",
        "\n",
        "print(f'AUC: {roc_auc_score(y_test, y_pred_proba)}')"
      ],
      "metadata": {
        "colab": {
          "base_uri": "https://localhost:8080/"
        },
        "id": "Rv4IOVdi410U",
        "outputId": "eea859d7-865a-4e13-b72e-aa31660448e1"
      },
      "execution_count": null,
      "outputs": [
        {
          "output_type": "stream",
          "name": "stdout",
          "text": [
            "AUC: 0.7719888001126664\n"
          ]
        }
      ]
    },
    {
      "cell_type": "markdown",
      "source": [
        "# Importancia de las variables"
      ],
      "metadata": {
        "id": "rELDUsgM9HT4"
      }
    },
    {
      "cell_type": "code",
      "source": [
        "plt.figure(figsize=(5,5))\n",
        "# Para metodos lineales, como Regresion Logistica, usamos clf.coef_.\n",
        "# Otros metodos -como arboles- tienen el atributo feature_importances_\n",
        "df_importancias = pd.DataFrame.from_dict({x:abs(y) for x,y in zip(X_trainval.columns,clf_final.coef_[0])}, orient='index', columns=['Importancia'])\n",
        "df_importancias = df_importancias.sort_values(by='Importancia', ascending=True)\n",
        "df_importancias.Importancia.plot(kind='barh')\n",
        "plt.title('Importancia de variables para el clasificador')"
      ],
      "metadata": {
        "colab": {
          "base_uri": "https://localhost:8080/",
          "height": 353
        },
        "id": "ezEyyFM6415n",
        "outputId": "18943a77-fd1d-4b35-d53a-16cfd1a79a72"
      },
      "execution_count": null,
      "outputs": [
        {
          "output_type": "execute_result",
          "data": {
            "text/plain": [
              "Text(0.5, 1.0, 'Importancia de variables para el clasificador')"
            ]
          },
          "metadata": {},
          "execution_count": 69
        },
        {
          "output_type": "display_data",
          "data": {
            "text/plain": [
              "<Figure size 360x360 with 1 Axes>"
            ],
            "image/png": "[encoded data removed]"
          },
          "metadata": {
            "needs_background": "light"
          }
        }
      ]
    },
    {
      "cell_type": "markdown",
      "source": [
        "# Random forest"
      ],
      "metadata": {
        "id": "B0GyaAoW-dVa"
      }
    },
    {
      "cell_type": "markdown",
      "source": [
        "*Con parametros por defecto*"
      ],
      "metadata": {
        "id": "IeybGXKh-hjJ"
      }
    },
    {
      "cell_type": "code",
      "source": [
        "from sklearn.ensemble import RandomForestClassifier\n",
        "from sklearn.metrics import accuracy_score\n",
        "\n",
        "rf = RandomForestClassifier(oob_score = True)\n",
        "rf.fit(X_train, y_train)\n",
        "\n",
        "y_pred_train = rf.predict(X_train_sc)\n",
        "print(\"Exactitud en entrenamiento (a mano):\", np.sum(y_pred_train == y_train) / len(y_train))\n",
        "\n",
        "y_pred_val = rf.predict(X_val_sc)\n",
        "print(\"Exactitud en validación (a mano):\", np.sum(y_pred_val == y_val) / len(y_val))\n",
        "\n",
        "print('Exactitud del modelo inicial en entrenamiento:', rf.score(X_train_sc, y_train))\n",
        "print('Exactitud del modelo inicial en entrenamiento (Out of Bag):', rf.oob_score_)\n",
        "print('Exactitud del modelo inicial en validación:', rf.score(X_val_sc, y_val))"
      ],
      "metadata": {
        "colab": {
          "base_uri": "https://localhost:8080/"
        },
        "id": "RkPinreo-bZy",
        "outputId": "c87aabc4-61ed-4f0d-cc67-abeb90adf49f"
      },
      "execution_count": null,
      "outputs": [
        {
          "output_type": "stream",
          "name": "stdout",
          "text": [
            "Exactitud en entrenamiento (a mano): 0.8936703096539163\n",
            "Exactitud en validación (a mano): 0.8922282938676381\n",
            "Exactitud del modelo inicial en entrenamiento: 0.8936703096539163\n",
            "Exactitud del modelo inicial en entrenamiento (Out of Bag): 0.8917349726775956\n",
            "Exactitud del modelo inicial en validación: 0.8922282938676381\n"
          ]
        }
      ]
    },
    {
      "cell_type": "code",
      "source": [
        "from pprint import pprint\n",
        "\n",
        "n_estimators = [int(x) for x in np.linspace(start = 200, stop = 2000, num = 10)]\n",
        "max_features = ['auto', 8, 10, 12, None]  # 'auto' equivale a 'sqrt'; None equivale a todas las 15\n",
        "max_depth = [int(x) for x in np.linspace(10, 110, num = 11)] + [None]\n",
        "min_samples_leaf = [1, 2, 4]\n",
        "\n",
        "random_grid = {'n_estimators': n_estimators,\n",
        "               'max_features': max_features,\n",
        "               'max_depth': max_depth,\n",
        "               'min_samples_leaf': min_samples_leaf}\n",
        "\n",
        "print('Los valores a probar en la búsqueda aleatoria son:')\n",
        "pprint(random_grid)\n",
        "\n",
        "print()\n",
        "print('Si se probara todas las combinaciones se requeriría entrenar', \n",
        "      len(random_grid['n_estimators']) *\n",
        "      len(random_grid['max_features']) *\n",
        "      len(random_grid['max_depth']) *\n",
        "      len(random_grid['min_samples_leaf']),\n",
        "      'modelos'\n",
        "      )"
      ],
      "metadata": {
        "colab": {
          "base_uri": "https://localhost:8080/"
        },
        "id": "1sewsKl2-bgL",
        "outputId": "4561c58a-9084-49f3-b3f6-74b3a2b8f8a7"
      },
      "execution_count": null,
      "outputs": [
        {
          "output_type": "stream",
          "name": "stdout",
          "text": [
            "Los valores a probar en la búsqueda aleatoria son:\n",
            "{'max_depth': [10, 20, 30, 40, 50, 60, 70, 80, 90, 100, 110, None],\n",
            " 'max_features': ['auto', 8, 10, 12, None],\n",
            " 'min_samples_leaf': [1, 2, 4],\n",
            " 'n_estimators': [200, 400, 600, 800, 1000, 1200, 1400, 1600, 1800, 2000]}\n",
            "\n",
            "Si se probara todas las combinaciones se requeriría entrenar 1800 modelos\n"
          ]
        }
      ]
    },
    {
      "cell_type": "code",
      "source": [
        "from sklearn.model_selection import RandomizedSearchCV\n",
        "\n",
        "rf = RandomForestClassifier(oob_score=True)\n",
        "rf_random = RandomizedSearchCV(estimator = rf, \n",
        "                               param_distributions = random_grid, \n",
        "                               n_iter = 2, \n",
        "                               cv = 3,          # Validación cruzada 3-fold\n",
        "                               verbose=1, \n",
        "                               random_state=0, \n",
        "                               n_jobs = -1      # Paralelizar en todos los cores disponibles\n",
        "                               )\n",
        "rf_random.fit(X_train_sc, y_train)"
      ],
      "metadata": {
        "colab": {
          "base_uri": "https://localhost:8080/"
        },
        "id": "MKq6TzRf-bhL",
        "outputId": "065ed8e7-5cbc-41cf-bec6-ed9bae6e4ae1"
      },
      "execution_count": null,
      "outputs": [
        {
          "output_type": "stream",
          "name": "stdout",
          "text": [
            "Fitting 3 folds for each of 2 candidates, totalling 6 fits\n"
          ]
        },
        {
          "output_type": "execute_result",
          "data": {
            "text/plain": [
              "RandomizedSearchCV(cv=3, estimator=RandomForestClassifier(oob_score=True),\n",
              "                   n_iter=2, n_jobs=-1,\n",
              "                   param_distributions={'max_depth': [10, 20, 30, 40, 50, 60,\n",
              "                                                      70, 80, 90, 100, 110,\n",
              "                                                      None],\n",
              "                                        'max_features': ['auto', 8, 10, 12,\n",
              "                                                         None],\n",
              "                                        'min_samples_leaf': [1, 2, 4],\n",
              "                                        'n_estimators': [200, 400, 600, 800,\n",
              "                                                         1000, 1200, 1400, 1600,\n",
              "                                                         1800, 2000]},\n",
              "                   random_state=0, verbose=1)"
            ]
          },
          "metadata": {},
          "execution_count": 72
        }
      ]
    },
    {
      "cell_type": "code",
      "source": [
        "rf_random_best = rf_random.best_estimator_\n",
        "\n",
        "print('Los hiperparámetros del mejor modelo son:')\n",
        "pprint(rf_random.best_params_)\n",
        "print()\n",
        "\n",
        "print('Exactitud luego de búsqueda aleatoria en entrenamiento:', rf_random_best.score(X_train_sc, y_train))\n",
        "print('Exactitud luego de búsqueda aleatoria en entrenamiento (Out of Bag):', rf_random_best.oob_score_)\n",
        "print('Exactitud luego de búsqueda aleatoria en validación:', rf_random_best.score(X_val_sc, y_val))"
      ],
      "metadata": {
        "colab": {
          "base_uri": "https://localhost:8080/"
        },
        "id": "ytMasaOb-biS",
        "outputId": "1f80d336-341e-426d-a878-429f24ea44f2"
      },
      "execution_count": null,
      "outputs": [
        {
          "output_type": "stream",
          "name": "stdout",
          "text": [
            "Los hiperparámetros del mejor modelo son:\n",
            "{'max_depth': 50,\n",
            " 'max_features': 10,\n",
            " 'min_samples_leaf': 4,\n",
            " 'n_estimators': 1000}\n",
            "\n",
            "Exactitud luego de búsqueda aleatoria en entrenamiento: 0.9375758955676988\n",
            "Exactitud luego de búsqueda aleatoria en entrenamiento (Out of Bag): 0.8973512446873103\n",
            "Exactitud luego de búsqueda aleatoria en validación: 0.8986035215543412\n"
          ]
        }
      ]
    },
    {
      "cell_type": "code",
      "source": [
        "max_features = [9, 10, 11]\n",
        "max_depth = [57, 60, 63]\n",
        "min_samples_leaf = [4]\n",
        "n_estimators = [1200]\n",
        "\n",
        "segundo_grid = {'n_estimators': n_estimators,\n",
        "               'max_features': max_features,\n",
        "               'max_depth': max_depth,\n",
        "               'min_samples_leaf': min_samples_leaf}\n",
        "\n",
        "print('Los valores a probar en la búsqueda por grilla son:')\n",
        "pprint(segundo_grid)"
      ],
      "metadata": {
        "colab": {
          "base_uri": "https://localhost:8080/"
        },
        "id": "1mSNxl1N-bk7",
        "outputId": "3c14dc40-9de0-4977-873e-5dab62ff79d9"
      },
      "execution_count": null,
      "outputs": [
        {
          "output_type": "stream",
          "name": "stdout",
          "text": [
            "Los valores a probar en la búsqueda por grilla son:\n",
            "{'max_depth': [57, 60, 63],\n",
            " 'max_features': [9, 10, 11],\n",
            " 'min_samples_leaf': [4],\n",
            " 'n_estimators': [1200]}\n"
          ]
        }
      ]
    },
    {
      "cell_type": "code",
      "source": [
        "from sklearn.model_selection import GridSearchCV\n",
        "\n",
        "rf = RandomForestClassifier(oob_score = True)\n",
        "rf_grid = GridSearchCV(estimator = rf, \n",
        "                        param_grid = segundo_grid, \n",
        "                        cv = 3,          # Validación cruzada 3-fold\n",
        "                        verbose=2, \n",
        "                        n_jobs = -1      # Paralelizar en todos los cores disponibles\n",
        "                        )\n",
        "rf_grid.fit(X_train_sc, y_train)"
      ],
      "metadata": {
        "colab": {
          "base_uri": "https://localhost:8080/"
        },
        "id": "Og8ob9Cf-brL",
        "outputId": "65f0e419-bcfb-4580-ce8a-f37d365fcda2"
      },
      "execution_count": null,
      "outputs": [
        {
          "output_type": "stream",
          "name": "stdout",
          "text": [
            "Fitting 3 folds for each of 9 candidates, totalling 27 fits\n"
          ]
        },
        {
          "output_type": "execute_result",
          "data": {
            "text/plain": [
              "GridSearchCV(cv=3, estimator=RandomForestClassifier(oob_score=True), n_jobs=-1,\n",
              "             param_grid={'max_depth': [57, 60, 63], 'max_features': [9, 10, 11],\n",
              "                         'min_samples_leaf': [4], 'n_estimators': [1200]},\n",
              "             verbose=2)"
            ]
          },
          "metadata": {},
          "execution_count": 75
        }
      ]
    },
    {
      "cell_type": "code",
      "source": [
        "rf_grid_best = rf_grid.best_estimator_\n",
        "\n",
        "print('Los hiperparámetros del mejor modelo son:')\n",
        "pprint(rf_grid.best_params_)\n",
        "print()\n",
        "\n",
        "print('Exactitud luego de búsqueda en grilla en entrenamiento:', rf_grid_best.score(X_train_sc, y_train))\n",
        "print('Exactitud luego de búsqueda en grilla en entrenamiento (Out of Bag):', rf_grid_best.oob_score_)\n",
        "print('Exactitud luego de búsqueda en grilla en validación:', rf_grid_best.score(X_val_sc, y_val))"
      ],
      "metadata": {
        "id": "u-aUK0dy-bsU",
        "colab": {
          "base_uri": "https://localhost:8080/"
        },
        "outputId": "d2f7bed1-45dd-4d8d-9732-65aa81a80501"
      },
      "execution_count": null,
      "outputs": [
        {
          "output_type": "stream",
          "name": "stdout",
          "text": [
            "Los hiperparámetros del mejor modelo son:\n",
            "{'max_depth': 57,\n",
            " 'max_features': 9,\n",
            " 'min_samples_leaf': 4,\n",
            " 'n_estimators': 1200}\n",
            "\n",
            "Exactitud luego de búsqueda en grilla en entrenamiento: 0.9365513054037644\n",
            "Exactitud luego de búsqueda en grilla en entrenamiento (Out of Bag): 0.8967440801457195\n",
            "Exactitud luego de búsqueda en grilla en validación: 0.8982999392835458\n"
          ]
        }
      ]
    },
    {
      "cell_type": "markdown",
      "source": [
        "# 1. Modelos de clasificacion ( modelos base)"
      ],
      "metadata": {
        "id": "UKVS91wuVcHE"
      }
    },
    {
      "cell_type": "code",
      "source": [
        "from sklearn.metrics import recall_score, precision_score, f1_score, roc_auc_score, plot_roc_curve, plot_confusion_matrix, plot_precision_recall_curve\n",
        "\n",
        "resultados = {}\n",
        "\n",
        "def update_resultados(descripcion, model, resultados, X_train, X_test, y_train, y_test):\n",
        "  y_train_pred = model.predict(X_train)\n",
        "  y_train_pred_proba = model.predict_proba(X_train)[:,1]\n",
        "\n",
        "  y_test_pred = model.predict(X_test)\n",
        "  y_test_pred_proba = model.predict_proba(X_test)[:,1]\n",
        "\n",
        "  resultados.update( { descripcion: {\n",
        "      ('Entrenamiento', 'Exactitud'): model.score(X_train, y_train),\n",
        "      ('Entrenamiento', 'Precisión'): precision_score(y_train, y_train_pred, zero_division=0),\n",
        "      ('Entrenamiento', 'Exhaustividad'): recall_score(y_train, y_train_pred),\n",
        "      ('Entrenamiento', 'F1'): f1_score(y_train, y_train_pred),\n",
        "      ('Entrenamiento', 'AUC'): roc_auc_score(y_train, y_train_pred_proba),\n",
        "      ('Pruebas', 'Exactitud'): model.score(X_test, y_test),\n",
        "      ('Pruebas', 'Precisión'): precision_score(y_test, y_test_pred, zero_division=0),\n",
        "      ('Pruebas', 'Exhaustividad'): recall_score(y_test, y_test_pred),\n",
        "      ('Pruebas', 'F1'): f1_score(y_test, y_test_pred),\n",
        "      ('Pruebas', 'AUC'): roc_auc_score(y_test, y_test_pred_proba)\n",
        "    } } )\n",
        "  display(pd.DataFrame.from_dict(resultados, orient='index'))\n",
        "\n",
        "  fig, axes = plt.subplots(1, 3, figsize=(18, 5))\n",
        "  fig.suptitle(f'{descripcion} (Conjunto de Pruebas)')\n",
        "  plot_confusion_matrix(model, X_test, y_test, ax=axes[0], values_format='d')\n",
        "  plot_roc_curve(model, X_test, y_test, ax=axes[1], name=descripcion)\n",
        "  plot_precision_recall_curve(model, X_test, y_test, ax=axes[2], name=descripcion)\n",
        "  return"
      ],
      "metadata": {
        "id": "E32OX2wdLyKe"
      },
      "execution_count": null,
      "outputs": []
    },
    {
      "cell_type": "markdown",
      "source": [
        "## 1.1 Logistic Regression"
      ],
      "metadata": {
        "id": "ew9r0VfMVjXE"
      }
    },
    {
      "cell_type": "code",
      "source": [
        "# Ajustar el modelo de Regresión Logística en el Conjunto de Entrenamiento\n",
        "from sklearn.linear_model import LogisticRegression\n",
        "classifier = LogisticRegression(random_state = 0)\n",
        "classifier.fit(X_train_sc, y_train)\n",
        "\n",
        "# Predicción de los resultados con el Conjunto de Testing\n",
        "y_pred  = classifier.predict(X_val_sc)\n",
        "\n",
        "# Elaborar una matriz de confusión\n",
        "from sklearn.metrics import confusion_matrix\n",
        "cm = confusion_matrix(y_val, y_pred)\n",
        "cm"
      ],
      "metadata": {
        "id": "70ankg7r419O",
        "colab": {
          "base_uri": "https://localhost:8080/"
        },
        "outputId": "02bbbddd-9ab5-49a9-d950-d29d78d968e2"
      },
      "execution_count": null,
      "outputs": [
        {
          "output_type": "execute_result",
          "data": {
            "text/plain": [
              "array([[5793,   71],\n",
              "       [ 582,  142]])"
            ]
          },
          "metadata": {},
          "execution_count": 78
        }
      ]
    },
    {
      "cell_type": "code",
      "source": [
        "from sklearn.metrics import roc_auc_score\n",
        "from sklearn.metrics import accuracy_score\n",
        "from sklearn.metrics import f1_score\n",
        "from sklearn.metrics import precision_score\n",
        "from sklearn.metrics import recall_score\n",
        "\n",
        "print(f'AUC - Logistic Regression: {roc_auc_score(y_val, classifier.predict_proba(X_val_sc)[:,1]):.4f}')\n",
        "print(f'Accuracy - Logistic Regression: {accuracy_score(y_val, classifier.predict(X_val_sc)):.4f}')\n",
        "print(f'F1-Score Logistic Regression: {f1_score(y_val,classifier.predict(X_val_sc)):.4f}')\n",
        "print(f'Precision Logistic Regression:{precision_score(y_val,classifier.predict(X_val_sc)):.4f}')\n",
        "print(f'Recall Logistic Regression: {recall_score(y_val,classifier.predict(X_val_sc)):.4f}')\n"
      ],
      "metadata": {
        "id": "bhVWknA7VrCw",
        "colab": {
          "base_uri": "https://localhost:8080/"
        },
        "outputId": "67466ec0-06e1-41fe-b6fa-48693147dc4a"
      },
      "execution_count": null,
      "outputs": [
        {
          "output_type": "stream",
          "name": "stdout",
          "text": [
            "AUC - Logistic Regression: 0.7795\n",
            "Accuracy - Logistic Regression: 0.9009\n",
            "F1-Score Logistic Regression: 0.3031\n",
            "Precision Logistic Regression:0.6667\n",
            "Recall Logistic Regression: 0.1961\n"
          ]
        }
      ]
    },
    {
      "cell_type": "code",
      "source": [
        "update_resultados('Logistic Regression', classifier, resultados, X_train_sc, X_val_sc, y_train, y_val)"
      ],
      "metadata": {
        "colab": {
          "base_uri": "https://localhost:8080/",
          "height": 465
        },
        "id": "fK7xFhDXMAC-",
        "outputId": "ca41dd5e-4b34-4aac-c67a-f07fbbf00d4a"
      },
      "execution_count": null,
      "outputs": [
        {
          "output_type": "display_data",
          "data": {
            "text/plain": [
              "                    Entrenamiento                                              \\\n",
              "                        Exactitud Precisión Exhaustividad        F1       AUC   \n",
              "Logistic Regression       0.89534  0.610374       0.17205  0.268435  0.764549   \n",
              "\n",
              "                      Pruebas                                              \n",
              "                    Exactitud Precisión Exhaustividad        F1       AUC  \n",
              "Logistic Regression   0.90088  0.666667      0.196133  0.303095  0.779531  "
            ],
            "text/html": [
              "\n",
              "  <div id=\"df-b53c44a7-bdd8-475d-a121-6f3f112cd465\">\n",
              "    <div class=\"colab-df-container\">\n",
              "      <div>\n",
              "<style scoped>\n",
              "    .dataframe tbody tr th:only-of-type {\n",
              "        vertical-align: middle;\n",
              "    }\n",
              "\n",
              "    .dataframe tbody tr th {\n",
              "        vertical-align: top;\n",
              "    }\n",
              "\n",
              "    .dataframe thead tr th {\n",
              "        text-align: left;\n",
              "    }\n",
              "</style>\n",
              "<table border=\"1\" class=\"dataframe\">\n",
              "  <thead>\n",
              "    <tr>\n",
              "      <th></th>\n",
              "      <th colspan=\"5\" halign=\"left\">Entrenamiento</th>\n",
              "      <th colspan=\"5\" halign=\"left\">Pruebas</th>\n",
              "    </tr>\n",
              "    <tr>\n",
              "      <th></th>\n",
              "      <th>Exactitud</th>\n",
              "      <th>Precisión</th>\n",
              "      <th>Exhaustividad</th>\n",
              "      <th>F1</th>\n",
              "      <th>AUC</th>\n",
              "      <th>Exactitud</th>\n",
              "      <th>Precisión</th>\n",
              "      <th>Exhaustividad</th>\n",
              "      <th>F1</th>\n",
              "      <th>AUC</th>\n",
              "    </tr>\n",
              "  </thead>\n",
              "  <tbody>\n",
              "    <tr>\n",
              "      <th>Logistic Regression</th>\n",
              "      <td>0.89534</td>\n",
              "      <td>0.610374</td>\n",
              "      <td>0.17205</td>\n",
              "      <td>0.268435</td>\n",
              "      <td>0.764549</td>\n",
              "      <td>0.90088</td>\n",
              "      <td>0.666667</td>\n",
              "      <td>0.196133</td>\n",
              "      <td>0.303095</td>\n",
              "      <td>0.779531</td>\n",
              "    </tr>\n",
              "  </tbody>\n",
              "</table>\n",
              "</div>\n",
              "      <button class=\"colab-df-convert\" onclick=\"convertToInteractive('df-b53c44a7-bdd8-475d-a121-6f3f112cd465')\"\n",
              "              title=\"Convert this dataframe to an interactive table.\"\n",
              "              style=\"display:none;\">\n",
              "        \n",
              "  <svg xmlns=\"http://www.w3.org/2000/svg\" height=\"24px\"viewBox=\"0 0 24 24\"\n",
              "       width=\"24px\">\n",
              "    <path d=\"M0 0h24v24H0V0z\" fill=\"none\"/>\n",
              "    <path d=\"M18.56 5.44l.94 2.06.94-2.06 2.06-.94-2.06-.94-.94-2.06-.94 2.06-2.06.94zm-11 1L8.5 8.5l.94-2.06 2.06-.94-2.06-.94L8.5 2.5l-.94 2.06-2.06.94zm10 10l.94 2.06.94-2.06 2.06-.94-2.06-.94-.94-2.06-.94 2.06-2.06.94z\"/><path d=\"M17.41 7.96l-1.37-1.37c-.4-.4-.92-.59-1.43-.59-.52 0-1.04.2-1.43.59L10.3 9.45l-7.72 7.72c-.78.78-.78 2.05 0 2.83L4 21.41c.39.39.9.59 1.41.59.51 0 1.02-.2 1.41-.59l7.78-7.78 2.81-2.81c.8-.78.8-2.07 0-2.86zM5.41 20L4 18.59l7.72-7.72 1.47 1.35L5.41 20z\"/>\n",
              "  </svg>\n",
              "      </button>\n",
              "      \n",
              "  <style>\n",
              "    .colab-df-container {\n",
              "      display:flex;\n",
              "      flex-wrap:wrap;\n",
              "      gap: 12px;\n",
              "    }\n",
              "\n",
              "    .colab-df-convert {\n",
              "      background-color: #E8F0FE;\n",
              "      border: none;\n",
              "      border-radius: 50%;\n",
              "      cursor: pointer;\n",
              "      display: none;\n",
              "      fill: #1967D2;\n",
              "      height: 32px;\n",
              "      padding: 0 0 0 0;\n",
              "      width: 32px;\n",
              "    }\n",
              "\n",
              "    .colab-df-convert:hover {\n",
              "      background-color: #E2EBFA;\n",
              "      box-shadow: 0px 1px 2px rgba(60, 64, 67, 0.3), 0px 1px 3px 1px rgba(60, 64, 67, 0.15);\n",
              "      fill: #174EA6;\n",
              "    }\n",
              "\n",
              "    [theme=dark] .colab-df-convert {\n",
              "      background-color: #3B4455;\n",
              "      fill: #D2E3FC;\n",
              "    }\n",
              "\n",
              "    [theme=dark] .colab-df-convert:hover {\n",
              "      background-color: #434B5C;\n",
              "      box-shadow: 0px 1px 3px 1px rgba(0, 0, 0, 0.15);\n",
              "      filter: drop-shadow(0px 1px 2px rgba(0, 0, 0, 0.3));\n",
              "      fill: #FFFFFF;\n",
              "    }\n",
              "  </style>\n",
              "\n",
              "      <script>\n",
              "        const buttonEl =\n",
              "          document.querySelector('#df-b53c44a7-bdd8-475d-a121-6f3f112cd465 button.colab-df-convert');\n",
              "        buttonEl.style.display =\n",
              "          google.colab.kernel.accessAllowed ? 'block' : 'none';\n",
              "\n",
              "        async function convertToInteractive(key) {\n",
              "          const element = document.querySelector('#df-b53c44a7-bdd8-475d-a121-6f3f112cd465');\n",
              "          const dataTable =\n",
              "            await google.colab.kernel.invokeFunction('convertToInteractive',\n",
              "                                                     [key], {});\n",
              "          if (!dataTable) return;\n",
              "\n",
              "          const docLinkHtml = 'Like what you see? Visit the ' +\n",
              "            '<a target=\"_blank\" href=https://colab.research.google.com/notebooks/data_table.ipynb>data table notebook</a>'\n",
              "            + ' to learn more about interactive tables.';\n",
              "          element.innerHTML = '';\n",
              "          dataTable['output_type'] = 'display_data';\n",
              "          await google.colab.output.renderOutput(dataTable, element);\n",
              "          const docLink = document.createElement('div');\n",
              "          docLink.innerHTML = docLinkHtml;\n",
              "          element.appendChild(docLink);\n",
              "        }\n",
              "      </script>\n",
              "    </div>\n",
              "  </div>\n",
              "  "
            ]
          },
          "metadata": {}
        },
        {
          "output_type": "display_data",
          "data": {
            "text/plain": [
              "<Figure size 1296x360 with 4 Axes>"
            ],
            "image/png": "[encoded data removed]"
          },
          "metadata": {
            "needs_background": "light"
          }
        }
      ]
    },
    {
      "cell_type": "markdown",
      "source": [
        "### GridSearch Logistic Regression"
      ],
      "metadata": {
        "id": "_L0Jo7HNCMoU"
      }
    },
    {
      "cell_type": "code",
      "source": [
        "# Grid search cross validation\n",
        "import numpy as np\n",
        "from sklearn.model_selection import GridSearchCV\n",
        "from sklearn.linear_model import LogisticRegression\n",
        "grid={\"C\":np.logspace(-4,4,100), \"penalty\":[\"l1\",\"l2\",'None'],\"class_weight\":['balanced','None']}# l1 lasso l2 ridge\n",
        "logreg=LogisticRegression()\n",
        "logreg_cv=GridSearchCV(logreg,grid,cv=10)\n",
        "logreg_cv.fit(X_train_sc, y_train)\n",
        "\n",
        "print(\"tuned hpyerparameters :(best parameters) \",logreg_cv.best_params_)\n",
        "print(\"accuracy :\",logreg_cv.best_score_)"
      ],
      "metadata": {
        "id": "Qd5AcM8bCMF0",
        "colab": {
          "base_uri": "https://localhost:8080/"
        },
        "outputId": "e1e51c92-126d-4943-fcbe-96d2cba218c2"
      },
      "execution_count": null,
      "outputs": [
        {
          "output_type": "stream",
          "name": "stdout",
          "text": [
            "tuned hpyerparameters :(best parameters)  {'C': 0.026560877829466867, 'class_weight': 'None', 'penalty': 'l2'}\n",
            "accuracy : 0.8971993532838265\n"
          ]
        }
      ]
    },
    {
      "cell_type": "markdown",
      "source": [
        "## 1.2 K-Nearest Neighbors (K-NN)"
      ],
      "metadata": {
        "id": "WuB_s7JutqD1"
      }
    },
    {
      "cell_type": "code",
      "source": [
        "# Ajustar el clasificador en el Conjunto de Entrenamiento\n",
        "from sklearn.neighbors import KNeighborsClassifier\n",
        "classifier = KNeighborsClassifier(n_neighbors = 5, metric = \"minkowski\", p = 2)\n",
        "classifier.fit(X_train_sc, y_train)\n",
        "\n",
        "# Predicción de los resultados con el Conjunto de Testing\n",
        "y_pred  = classifier.predict(X_val_sc)\n",
        "\n",
        "# Elaborar una matriz de confusión\n",
        "from sklearn.metrics import confusion_matrix\n",
        "cm = confusion_matrix(y_val, y_pred)\n",
        "cm\n"
      ],
      "metadata": {
        "id": "-Npq7WQNVrF6",
        "colab": {
          "base_uri": "https://localhost:8080/"
        },
        "outputId": "e8150074-f4f1-4ac7-96e3-6629b3b6db6c"
      },
      "execution_count": null,
      "outputs": [
        {
          "output_type": "execute_result",
          "data": {
            "text/plain": [
              "array([[5684,  180],\n",
              "       [ 547,  177]])"
            ]
          },
          "metadata": {},
          "execution_count": 82
        }
      ]
    },
    {
      "cell_type": "code",
      "source": [
        "print(f'AUC - K-Nearest Neighbors: {roc_auc_score(y_val, classifier.predict_proba(X_val_sc)[:,1]):.4f}')\n",
        "print(f'Accuracy - K-Nearest Neighbors: {accuracy_score(y_val, classifier.predict(X_val_sc)):.4f}')\n",
        "print(f'F1-Score K-Nearest Neighbors: {f1_score(y_val,classifier.predict(X_val_sc)):.4f}')\n",
        "print(f'Precision K-Nearest Neighbors:{precision_score(y_val,classifier.predict(X_val_sc)):.4f}')\n",
        "print(f'Recall K-Nearest Neighbors: {recall_score(y_val,classifier.predict(X_val_sc)):.4f}')"
      ],
      "metadata": {
        "id": "H9eaVt0XVrIz",
        "colab": {
          "base_uri": "https://localhost:8080/"
        },
        "outputId": "6ce9e394-8f2d-4a5b-e71e-8637822a2a75"
      },
      "execution_count": null,
      "outputs": [
        {
          "output_type": "stream",
          "name": "stdout",
          "text": [
            "AUC - K-Nearest Neighbors: 0.7199\n",
            "Accuracy - K-Nearest Neighbors: 0.8896\n",
            "F1-Score K-Nearest Neighbors: 0.3275\n",
            "Precision K-Nearest Neighbors:0.4958\n",
            "Recall K-Nearest Neighbors: 0.2445\n"
          ]
        }
      ]
    },
    {
      "cell_type": "code",
      "source": [
        "update_resultados('K-Nearest Neighbors', classifier, resultados, X_train_sc, X_val_sc, y_train, y_val)"
      ],
      "metadata": {
        "colab": {
          "base_uri": "https://localhost:8080/",
          "height": 496
        },
        "id": "5kEjXT5HNDAA",
        "outputId": "d14dcb78-5ea2-4299-a284-8f19826e6804"
      },
      "execution_count": null,
      "outputs": [
        {
          "output_type": "display_data",
          "data": {
            "text/plain": [
              "                    Entrenamiento                                              \\\n",
              "                        Exactitud Precisión Exhaustividad        F1       AUC   \n",
              "Logistic Regression      0.895340  0.610374      0.172050  0.268435  0.764549   \n",
              "K-Nearest Neighbors      0.913441  0.719124      0.368242  0.487070  0.925317   \n",
              "\n",
              "                      Pruebas                                              \n",
              "                    Exactitud Precisión Exhaustividad        F1       AUC  \n",
              "Logistic Regression  0.900880  0.666667      0.196133  0.303095  0.779531  \n",
              "K-Nearest Neighbors  0.889648  0.495798      0.244475  0.327475  0.719875  "
            ],
            "text/html": [
              "\n",
              "  <div id=\"df-2a7ee180-c778-4e37-9cd8-4fad63cfb8b1\">\n",
              "    <div class=\"colab-df-container\">\n",
              "      <div>\n",
              "<style scoped>\n",
              "    .dataframe tbody tr th:only-of-type {\n",
              "        vertical-align: middle;\n",
              "    }\n",
              "\n",
              "    .dataframe tbody tr th {\n",
              "        vertical-align: top;\n",
              "    }\n",
              "\n",
              "    .dataframe thead tr th {\n",
              "        text-align: left;\n",
              "    }\n",
              "</style>\n",
              "<table border=\"1\" class=\"dataframe\">\n",
              "  <thead>\n",
              "    <tr>\n",
              "      <th></th>\n",
              "      <th colspan=\"5\" halign=\"left\">Entrenamiento</th>\n",
              "      <th colspan=\"5\" halign=\"left\">Pruebas</th>\n",
              "    </tr>\n",
              "    <tr>\n",
              "      <th></th>\n",
              "      <th>Exactitud</th>\n",
              "      <th>Precisión</th>\n",
              "      <th>Exhaustividad</th>\n",
              "      <th>F1</th>\n",
              "      <th>AUC</th>\n",
              "      <th>Exactitud</th>\n",
              "      <th>Precisión</th>\n",
              "      <th>Exhaustividad</th>\n",
              "      <th>F1</th>\n",
              "      <th>AUC</th>\n",
              "    </tr>\n",
              "  </thead>\n",
              "  <tbody>\n",
              "    <tr>\n",
              "      <th>Logistic Regression</th>\n",
              "      <td>0.895340</td>\n",
              "      <td>0.610374</td>\n",
              "      <td>0.172050</td>\n",
              "      <td>0.268435</td>\n",
              "      <td>0.764549</td>\n",
              "      <td>0.900880</td>\n",
              "      <td>0.666667</td>\n",
              "      <td>0.196133</td>\n",
              "      <td>0.303095</td>\n",
              "      <td>0.779531</td>\n",
              "    </tr>\n",
              "    <tr>\n",
              "      <th>K-Nearest Neighbors</th>\n",
              "      <td>0.913441</td>\n",
              "      <td>0.719124</td>\n",
              "      <td>0.368242</td>\n",
              "      <td>0.487070</td>\n",
              "      <td>0.925317</td>\n",
              "      <td>0.889648</td>\n",
              "      <td>0.495798</td>\n",
              "      <td>0.244475</td>\n",
              "      <td>0.327475</td>\n",
              "      <td>0.719875</td>\n",
              "    </tr>\n",
              "  </tbody>\n",
              "</table>\n",
              "</div>\n",
              "      <button class=\"colab-df-convert\" onclick=\"convertToInteractive('df-2a7ee180-c778-4e37-9cd8-4fad63cfb8b1')\"\n",
              "              title=\"Convert this dataframe to an interactive table.\"\n",
              "              style=\"display:none;\">\n",
              "        \n",
              "  <svg xmlns=\"http://www.w3.org/2000/svg\" height=\"24px\"viewBox=\"0 0 24 24\"\n",
              "       width=\"24px\">\n",
              "    <path d=\"M0 0h24v24H0V0z\" fill=\"none\"/>\n",
              "    <path d=\"M18.56 5.44l.94 2.06.94-2.06 2.06-.94-2.06-.94-.94-2.06-.94 2.06-2.06.94zm-11 1L8.5 8.5l.94-2.06 2.06-.94-2.06-.94L8.5 2.5l-.94 2.06-2.06.94zm10 10l.94 2.06.94-2.06 2.06-.94-2.06-.94-.94-2.06-.94 2.06-2.06.94z\"/><path d=\"M17.41 7.96l-1.37-1.37c-.4-.4-.92-.59-1.43-.59-.52 0-1.04.2-1.43.59L10.3 9.45l-7.72 7.72c-.78.78-.78 2.05 0 2.83L4 21.41c.39.39.9.59 1.41.59.51 0 1.02-.2 1.41-.59l7.78-7.78 2.81-2.81c.8-.78.8-2.07 0-2.86zM5.41 20L4 18.59l7.72-7.72 1.47 1.35L5.41 20z\"/>\n",
              "  </svg>\n",
              "      </button>\n",
              "      \n",
              "  <style>\n",
              "    .colab-df-container {\n",
              "      display:flex;\n",
              "      flex-wrap:wrap;\n",
              "      gap: 12px;\n",
              "    }\n",
              "\n",
              "    .colab-df-convert {\n",
              "      background-color: #E8F0FE;\n",
              "      border: none;\n",
              "      border-radius: 50%;\n",
              "      cursor: pointer;\n",
              "      display: none;\n",
              "      fill: #1967D2;\n",
              "      height: 32px;\n",
              "      padding: 0 0 0 0;\n",
              "      width: 32px;\n",
              "    }\n",
              "\n",
              "    .colab-df-convert:hover {\n",
              "      background-color: #E2EBFA;\n",
              "      box-shadow: 0px 1px 2px rgba(60, 64, 67, 0.3), 0px 1px 3px 1px rgba(60, 64, 67, 0.15);\n",
              "      fill: #174EA6;\n",
              "    }\n",
              "\n",
              "    [theme=dark] .colab-df-convert {\n",
              "      background-color: #3B4455;\n",
              "      fill: #D2E3FC;\n",
              "    }\n",
              "\n",
              "    [theme=dark] .colab-df-convert:hover {\n",
              "      background-color: #434B5C;\n",
              "      box-shadow: 0px 1px 3px 1px rgba(0, 0, 0, 0.15);\n",
              "      filter: drop-shadow(0px 1px 2px rgba(0, 0, 0, 0.3));\n",
              "      fill: #FFFFFF;\n",
              "    }\n",
              "  </style>\n",
              "\n",
              "      <script>\n",
              "        const buttonEl =\n",
              "          document.querySelector('#df-2a7ee180-c778-4e37-9cd8-4fad63cfb8b1 button.colab-df-convert');\n",
              "        buttonEl.style.display =\n",
              "          google.colab.kernel.accessAllowed ? 'block' : 'none';\n",
              "\n",
              "        async function convertToInteractive(key) {\n",
              "          const element = document.querySelector('#df-2a7ee180-c778-4e37-9cd8-4fad63cfb8b1');\n",
              "          const dataTable =\n",
              "            await google.colab.kernel.invokeFunction('convertToInteractive',\n",
              "                                                     [key], {});\n",
              "          if (!dataTable) return;\n",
              "\n",
              "          const docLinkHtml = 'Like what you see? Visit the ' +\n",
              "            '<a target=\"_blank\" href=https://colab.research.google.com/notebooks/data_table.ipynb>data table notebook</a>'\n",
              "            + ' to learn more about interactive tables.';\n",
              "          element.innerHTML = '';\n",
              "          dataTable['output_type'] = 'display_data';\n",
              "          await google.colab.output.renderOutput(dataTable, element);\n",
              "          const docLink = document.createElement('div');\n",
              "          docLink.innerHTML = docLinkHtml;\n",
              "          element.appendChild(docLink);\n",
              "        }\n",
              "      </script>\n",
              "    </div>\n",
              "  </div>\n",
              "  "
            ]
          },
          "metadata": {}
        },
        {
          "output_type": "display_data",
          "data": {
            "text/plain": [
              "<Figure size 1296x360 with 4 Axes>"
            ],
            "image/png": "[encoded data removed]"
          },
          "metadata": {
            "needs_background": "light"
          }
        }
      ]
    },
    {
      "cell_type": "markdown",
      "source": [
        "## 1.3 Support Vector Machine (SVM)"
      ],
      "metadata": {
        "id": "YtHdtDVpuvll"
      }
    },
    {
      "cell_type": "code",
      "source": [
        "# Ajustar el SVM en el Conjunto de Entrenamiento\n",
        "from sklearn.svm import SVC\n",
        "classifier = SVC(kernel = \"linear\", random_state = 0)\n",
        "classifier.fit(X_train_sc, y_train)\n",
        "\n",
        "\n",
        "# Predicción de los resultados con el Conjunto de Testing\n",
        "y_pred  = classifier.predict(X_val_sc)\n",
        "\n",
        "# Elaborar una matriz de confusión\n",
        "from sklearn.metrics import confusion_matrix\n",
        "cm = confusion_matrix(y_val, y_pred)\n",
        "cm"
      ],
      "metadata": {
        "id": "hDjyCCNfVrLt",
        "colab": {
          "base_uri": "https://localhost:8080/"
        },
        "outputId": "898ea948-448a-4348-809d-e5751d04c6dd"
      },
      "execution_count": null,
      "outputs": [
        {
          "output_type": "execute_result",
          "data": {
            "text/plain": [
              "array([[5864,    0],\n",
              "       [ 724,    0]])"
            ]
          },
          "metadata": {},
          "execution_count": 85
        }
      ]
    },
    {
      "cell_type": "code",
      "source": [
        "print(f'AUC - Support Vector Machine: {roc_auc_score(y_val, classifier.predict(X_val_sc)):.4f}')\n",
        "print(f'Accuracy - Support Vector Machine: {accuracy_score(y_val, classifier.predict(X_val_sc)):.4f}')\n",
        "print(f'F1-Score Support Vector Machine: {f1_score(y_val,classifier.predict(X_val_sc)):.4f}')\n",
        "print(f'Precision Support Vector Machine:{precision_score(y_val,classifier.predict(X_val_sc)):.4f}')\n",
        "print(f'Recall Support Vector Machine: {recall_score(y_val,classifier.predict(X_val_sc)):.4f}')"
      ],
      "metadata": {
        "id": "mdLuxevhVrOl",
        "colab": {
          "base_uri": "https://localhost:8080/"
        },
        "outputId": "d4c57c28-6043-4c31-d058-0bea4e8819a7"
      },
      "execution_count": null,
      "outputs": [
        {
          "output_type": "stream",
          "name": "stdout",
          "text": [
            "AUC - Support Vector Machine: 0.5000\n",
            "Accuracy - Support Vector Machine: 0.8901\n",
            "F1-Score Support Vector Machine: 0.0000\n",
            "Precision Support Vector Machine:0.0000\n",
            "Recall Support Vector Machine: 0.0000\n"
          ]
        }
      ]
    },
    {
      "cell_type": "markdown",
      "source": [
        "## 1.4 Naive Bayes"
      ],
      "metadata": {
        "id": "wCJ6SXJ-xGX7"
      }
    },
    {
      "cell_type": "code",
      "source": [
        "# Ajustar el clasificador en el Conjunto de Entrenamiento\n",
        "from sklearn.naive_bayes import GaussianNB\n",
        "classifier = GaussianNB()\n",
        "classifier.fit(X_train_sc, y_train)\n",
        "\n",
        "# Predicción de los resultados con el Conjunto de Testing\n",
        "y_pred  = classifier.predict(X_val_sc)\n",
        "\n",
        "# Elaborar una matriz de confusión\n",
        "from sklearn.metrics import confusion_matrix\n",
        "cm = confusion_matrix(y_val, y_pred)\n",
        "cm"
      ],
      "metadata": {
        "id": "u0pAHKDFVrUC",
        "colab": {
          "base_uri": "https://localhost:8080/"
        },
        "outputId": "d4474957-37ef-4fff-e4b9-2f67c8e44d84"
      },
      "execution_count": null,
      "outputs": [
        {
          "output_type": "execute_result",
          "data": {
            "text/plain": [
              "array([[4829, 1035],\n",
              "       [ 275,  449]])"
            ]
          },
          "metadata": {},
          "execution_count": 87
        }
      ]
    },
    {
      "cell_type": "code",
      "source": [
        "print(f'AUC - Naive Bayes: {roc_auc_score(y_val, classifier.predict(X_val_sc)):.4f}')\n",
        "print(f'Accuracy - Naive Bayes: {accuracy_score(y_val, classifier.predict(X_val_sc)):.4f}')\n",
        "print(f'F1-Score Naive Bayes: {f1_score(y_val,classifier.predict(X_val_sc)):.4f}')\n",
        "print(f'Precision Naive Bayes:{precision_score(y_val,classifier.predict(X_val_sc)):.4f}')\n",
        "print(f'Recall Naive Bayes: {recall_score(y_val,classifier.predict(X_val_sc)):.4f}')"
      ],
      "metadata": {
        "id": "hQbA4IICVrZI",
        "colab": {
          "base_uri": "https://localhost:8080/"
        },
        "outputId": "16d865b6-6bed-456d-a583-7b0983deae00"
      },
      "execution_count": null,
      "outputs": [
        {
          "output_type": "stream",
          "name": "stdout",
          "text": [
            "AUC - Naive Bayes: 0.7218\n",
            "Accuracy - Naive Bayes: 0.8012\n",
            "F1-Score Naive Bayes: 0.4067\n",
            "Precision Naive Bayes:0.3026\n",
            "Recall Naive Bayes: 0.6202\n"
          ]
        }
      ]
    },
    {
      "cell_type": "code",
      "source": [
        "update_resultados('Naive Bayes', classifier, resultados, X_train_sc, X_val_sc, y_train, y_val)"
      ],
      "metadata": {
        "colab": {
          "base_uri": "https://localhost:8080/",
          "height": 528
        },
        "id": "HhZB9-dZQdgi",
        "outputId": "ec093a75-8ab8-4784-a017-05716ded7047"
      },
      "execution_count": null,
      "outputs": [
        {
          "output_type": "display_data",
          "data": {
            "text/plain": [
              "                    Entrenamiento                                              \\\n",
              "                        Exactitud Precisión Exhaustividad        F1       AUC   \n",
              "Logistic Regression      0.895340  0.610374      0.172050  0.268435  0.764549   \n",
              "K-Nearest Neighbors      0.913441  0.719124      0.368242  0.487070  0.925317   \n",
              "Naive Bayes              0.802102  0.304033      0.599796  0.403523  0.758766   \n",
              "\n",
              "                      Pruebas                                              \n",
              "                    Exactitud Precisión Exhaustividad        F1       AUC  \n",
              "Logistic Regression  0.900880  0.666667      0.196133  0.303095  0.779531  \n",
              "K-Nearest Neighbors  0.889648  0.495798      0.244475  0.327475  0.719875  \n",
              "Naive Bayes          0.801154  0.302561      0.620166  0.406703  0.777707  "
            ],
            "text/html": [
              "\n",
              "  <div id=\"df-fce05b71-aa68-4c06-81a6-b1c9c7776508\">\n",
              "    <div class=\"colab-df-container\">\n",
              "      <div>\n",
              "<style scoped>\n",
              "    .dataframe tbody tr th:only-of-type {\n",
              "        vertical-align: middle;\n",
              "    }\n",
              "\n",
              "    .dataframe tbody tr th {\n",
              "        vertical-align: top;\n",
              "    }\n",
              "\n",
              "    .dataframe thead tr th {\n",
              "        text-align: left;\n",
              "    }\n",
              "</style>\n",
              "<table border=\"1\" class=\"dataframe\">\n",
              "  <thead>\n",
              "    <tr>\n",
              "      <th></th>\n",
              "      <th colspan=\"5\" halign=\"left\">Entrenamiento</th>\n",
              "      <th colspan=\"5\" halign=\"left\">Pruebas</th>\n",
              "    </tr>\n",
              "    <tr>\n",
              "      <th></th>\n",
              "      <th>Exactitud</th>\n",
              "      <th>Precisión</th>\n",
              "      <th>Exhaustividad</th>\n",
              "      <th>F1</th>\n",
              "      <th>AUC</th>\n",
              "      <th>Exactitud</th>\n",
              "      <th>Precisión</th>\n",
              "      <th>Exhaustividad</th>\n",
              "      <th>F1</th>\n",
              "      <th>AUC</th>\n",
              "    </tr>\n",
              "  </thead>\n",
              "  <tbody>\n",
              "    <tr>\n",
              "      <th>Logistic Regression</th>\n",
              "      <td>0.895340</td>\n",
              "      <td>0.610374</td>\n",
              "      <td>0.172050</td>\n",
              "      <td>0.268435</td>\n",
              "      <td>0.764549</td>\n",
              "      <td>0.900880</td>\n",
              "      <td>0.666667</td>\n",
              "      <td>0.196133</td>\n",
              "      <td>0.303095</td>\n",
              "      <td>0.779531</td>\n",
              "    </tr>\n",
              "    <tr>\n",
              "      <th>K-Nearest Neighbors</th>\n",
              "      <td>0.913441</td>\n",
              "      <td>0.719124</td>\n",
              "      <td>0.368242</td>\n",
              "      <td>0.487070</td>\n",
              "      <td>0.925317</td>\n",
              "      <td>0.889648</td>\n",
              "      <td>0.495798</td>\n",
              "      <td>0.244475</td>\n",
              "      <td>0.327475</td>\n",
              "      <td>0.719875</td>\n",
              "    </tr>\n",
              "    <tr>\n",
              "      <th>Naive Bayes</th>\n",
              "      <td>0.802102</td>\n",
              "      <td>0.304033</td>\n",
              "      <td>0.599796</td>\n",
              "      <td>0.403523</td>\n",
              "      <td>0.758766</td>\n",
              "      <td>0.801154</td>\n",
              "      <td>0.302561</td>\n",
              "      <td>0.620166</td>\n",
              "      <td>0.406703</td>\n",
              "      <td>0.777707</td>\n",
              "    </tr>\n",
              "  </tbody>\n",
              "</table>\n",
              "</div>\n",
              "      <button class=\"colab-df-convert\" onclick=\"convertToInteractive('df-fce05b71-aa68-4c06-81a6-b1c9c7776508')\"\n",
              "              title=\"Convert this dataframe to an interactive table.\"\n",
              "              style=\"display:none;\">\n",
              "        \n",
              "  <svg xmlns=\"http://www.w3.org/2000/svg\" height=\"24px\"viewBox=\"0 0 24 24\"\n",
              "       width=\"24px\">\n",
              "    <path d=\"M0 0h24v24H0V0z\" fill=\"none\"/>\n",
              "    <path d=\"M18.56 5.44l.94 2.06.94-2.06 2.06-.94-2.06-.94-.94-2.06-.94 2.06-2.06.94zm-11 1L8.5 8.5l.94-2.06 2.06-.94-2.06-.94L8.5 2.5l-.94 2.06-2.06.94zm10 10l.94 2.06.94-2.06 2.06-.94-2.06-.94-.94-2.06-.94 2.06-2.06.94z\"/><path d=\"M17.41 7.96l-1.37-1.37c-.4-.4-.92-.59-1.43-.59-.52 0-1.04.2-1.43.59L10.3 9.45l-7.72 7.72c-.78.78-.78 2.05 0 2.83L4 21.41c.39.39.9.59 1.41.59.51 0 1.02-.2 1.41-.59l7.78-7.78 2.81-2.81c.8-.78.8-2.07 0-2.86zM5.41 20L4 18.59l7.72-7.72 1.47 1.35L5.41 20z\"/>\n",
              "  </svg>\n",
              "      </button>\n",
              "      \n",
              "  <style>\n",
              "    .colab-df-container {\n",
              "      display:flex;\n",
              "      flex-wrap:wrap;\n",
              "      gap: 12px;\n",
              "    }\n",
              "\n",
              "    .colab-df-convert {\n",
              "      background-color: #E8F0FE;\n",
              "      border: none;\n",
              "      border-radius: 50%;\n",
              "      cursor: pointer;\n",
              "      display: none;\n",
              "      fill: #1967D2;\n",
              "      height: 32px;\n",
              "      padding: 0 0 0 0;\n",
              "      width: 32px;\n",
              "    }\n",
              "\n",
              "    .colab-df-convert:hover {\n",
              "      background-color: #E2EBFA;\n",
              "      box-shadow: 0px 1px 2px rgba(60, 64, 67, 0.3), 0px 1px 3px 1px rgba(60, 64, 67, 0.15);\n",
              "      fill: #174EA6;\n",
              "    }\n",
              "\n",
              "    [theme=dark] .colab-df-convert {\n",
              "      background-color: #3B4455;\n",
              "      fill: #D2E3FC;\n",
              "    }\n",
              "\n",
              "    [theme=dark] .colab-df-convert:hover {\n",
              "      background-color: #434B5C;\n",
              "      box-shadow: 0px 1px 3px 1px rgba(0, 0, 0, 0.15);\n",
              "      filter: drop-shadow(0px 1px 2px rgba(0, 0, 0, 0.3));\n",
              "      fill: #FFFFFF;\n",
              "    }\n",
              "  </style>\n",
              "\n",
              "      <script>\n",
              "        const buttonEl =\n",
              "          document.querySelector('#df-fce05b71-aa68-4c06-81a6-b1c9c7776508 button.colab-df-convert');\n",
              "        buttonEl.style.display =\n",
              "          google.colab.kernel.accessAllowed ? 'block' : 'none';\n",
              "\n",
              "        async function convertToInteractive(key) {\n",
              "          const element = document.querySelector('#df-fce05b71-aa68-4c06-81a6-b1c9c7776508');\n",
              "          const dataTable =\n",
              "            await google.colab.kernel.invokeFunction('convertToInteractive',\n",
              "                                                     [key], {});\n",
              "          if (!dataTable) return;\n",
              "\n",
              "          const docLinkHtml = 'Like what you see? Visit the ' +\n",
              "            '<a target=\"_blank\" href=https://colab.research.google.com/notebooks/data_table.ipynb>data table notebook</a>'\n",
              "            + ' to learn more about interactive tables.';\n",
              "          element.innerHTML = '';\n",
              "          dataTable['output_type'] = 'display_data';\n",
              "          await google.colab.output.renderOutput(dataTable, element);\n",
              "          const docLink = document.createElement('div');\n",
              "          docLink.innerHTML = docLinkHtml;\n",
              "          element.appendChild(docLink);\n",
              "        }\n",
              "      </script>\n",
              "    </div>\n",
              "  </div>\n",
              "  "
            ]
          },
          "metadata": {}
        },
        {
          "output_type": "display_data",
          "data": {
            "text/plain": [
              "<Figure size 1296x360 with 4 Axes>"
            ],
            "image/png": "[encoded data removed]"
          },
          "metadata": {
            "needs_background": "light"
          }
        }
      ]
    },
    {
      "cell_type": "markdown",
      "source": [
        "## 1.5  Decision Tree Classification"
      ],
      "metadata": {
        "id": "rkguROaRyRbJ"
      }
    },
    {
      "cell_type": "code",
      "source": [
        "# Ajustar el clasificador de Árbol de Decisión en el Conjunto de Entrenamiento\n",
        "from sklearn.tree import DecisionTreeClassifier\n",
        "classifier = DecisionTreeClassifier(criterion = \"entropy\", random_state = 0)\n",
        "classifier.fit(X_train_sc, y_train)\n",
        "\n",
        "# Predicción de los resultados con el Conjunto de Testing\n",
        "y_pred  = classifier.predict(X_val_sc)\n",
        "\n",
        "# Elaborar una matriz de confusión\n",
        "from sklearn.metrics import confusion_matrix\n",
        "cm = confusion_matrix(y_val, y_pred)\n",
        "print(f'AUC - Decision Tree Classification: {roc_auc_score(y_val, classifier.predict(X_val_sc)):.4f}')\n",
        "print(f'Accuracy - Decision Tree Classification: {accuracy_score(y_val, classifier.predict(X_val_sc)):.4f}')\n",
        "print(f'F1-Score Decision Tree Classifications: {f1_score(y_val,classifier.predict(X_val_sc)):.4f}')\n",
        "print(f'Precision Decision Tree Classification:{precision_score(y_val,classifier.predict(X_val_sc)):.4f}')\n",
        "print(f'Recall Decision Tree Classification: {recall_score(y_val,classifier.predict(X_val_sc)):.4f}')"
      ],
      "metadata": {
        "id": "j9qK5mMkVrbA",
        "colab": {
          "base_uri": "https://localhost:8080/"
        },
        "outputId": "6bcdbbc3-8451-4596-d06b-f86c119c6c6a"
      },
      "execution_count": null,
      "outputs": [
        {
          "output_type": "stream",
          "name": "stdout",
          "text": [
            "AUC - Decision Tree Classification: 0.6158\n",
            "Accuracy - Decision Tree Classification: 0.8441\n",
            "F1-Score Decision Tree Classifications: 0.3130\n",
            "Precision Decision Tree Classification:0.3035\n",
            "Recall Decision Tree Classification: 0.3232\n"
          ]
        }
      ]
    },
    {
      "cell_type": "code",
      "source": [
        "update_resultados('Decision Tree Classification', classifier, resultados, X_train_sc, X_val_sc, y_train, y_val)"
      ],
      "metadata": {
        "colab": {
          "base_uri": "https://localhost:8080/",
          "height": 559
        },
        "id": "HGDeL_3bQnvX",
        "outputId": "0eb19446-07f2-4888-abc6-8a6358b9b4a7"
      },
      "execution_count": null,
      "outputs": [
        {
          "output_type": "display_data",
          "data": {
            "text/plain": [
              "                             Entrenamiento                                    \\\n",
              "                                 Exactitud Precisión Exhaustividad        F1   \n",
              "Logistic Regression               0.895340  0.610374      0.172050  0.268435   \n",
              "K-Nearest Neighbors               0.913441  0.719124      0.368242  0.487070   \n",
              "Naive Bayes                       0.802102  0.304033      0.599796  0.403523   \n",
              "Decision Tree Classification      1.000000  1.000000      1.000000  1.000000   \n",
              "\n",
              "                                         Pruebas                          \\\n",
              "                                   AUC Exactitud Precisión Exhaustividad   \n",
              "Logistic Regression           0.764549  0.900880  0.666667      0.196133   \n",
              "K-Nearest Neighbors           0.925317  0.889648  0.495798      0.244475   \n",
              "Naive Bayes                   0.758766  0.801154  0.302561      0.620166   \n",
              "Decision Tree Classification  1.000000  0.844111  0.303502      0.323204   \n",
              "\n",
              "                                                  \n",
              "                                    F1       AUC  \n",
              "Logistic Regression           0.303095  0.779531  \n",
              "K-Nearest Neighbors           0.327475  0.719875  \n",
              "Naive Bayes                   0.406703  0.777707  \n",
              "Decision Tree Classification  0.313043  0.615814  "
            ],
            "text/html": [
              "\n",
              "  <div id=\"df-9c2a7c02-20f5-4065-a314-46fb8db53c76\">\n",
              "    <div class=\"colab-df-container\">\n",
              "      <div>\n",
              "<style scoped>\n",
              "    .dataframe tbody tr th:only-of-type {\n",
              "        vertical-align: middle;\n",
              "    }\n",
              "\n",
              "    .dataframe tbody tr th {\n",
              "        vertical-align: top;\n",
              "    }\n",
              "\n",
              "    .dataframe thead tr th {\n",
              "        text-align: left;\n",
              "    }\n",
              "</style>\n",
              "<table border=\"1\" class=\"dataframe\">\n",
              "  <thead>\n",
              "    <tr>\n",
              "      <th></th>\n",
              "      <th colspan=\"5\" halign=\"left\">Entrenamiento</th>\n",
              "      <th colspan=\"5\" halign=\"left\">Pruebas</th>\n",
              "    </tr>\n",
              "    <tr>\n",
              "      <th></th>\n",
              "      <th>Exactitud</th>\n",
              "      <th>Precisión</th>\n",
              "      <th>Exhaustividad</th>\n",
              "      <th>F1</th>\n",
              "      <th>AUC</th>\n",
              "      <th>Exactitud</th>\n",
              "      <th>Precisión</th>\n",
              "      <th>Exhaustividad</th>\n",
              "      <th>F1</th>\n",
              "      <th>AUC</th>\n",
              "    </tr>\n",
              "  </thead>\n",
              "  <tbody>\n",
              "    <tr>\n",
              "      <th>Logistic Regression</th>\n",
              "      <td>0.895340</td>\n",
              "      <td>0.610374</td>\n",
              "      <td>0.172050</td>\n",
              "      <td>0.268435</td>\n",
              "      <td>0.764549</td>\n",
              "      <td>0.900880</td>\n",
              "      <td>0.666667</td>\n",
              "      <td>0.196133</td>\n",
              "      <td>0.303095</td>\n",
              "      <td>0.779531</td>\n",
              "    </tr>\n",
              "    <tr>\n",
              "      <th>K-Nearest Neighbors</th>\n",
              "      <td>0.913441</td>\n",
              "      <td>0.719124</td>\n",
              "      <td>0.368242</td>\n",
              "      <td>0.487070</td>\n",
              "      <td>0.925317</td>\n",
              "      <td>0.889648</td>\n",
              "      <td>0.495798</td>\n",
              "      <td>0.244475</td>\n",
              "      <td>0.327475</td>\n",
              "      <td>0.719875</td>\n",
              "    </tr>\n",
              "    <tr>\n",
              "      <th>Naive Bayes</th>\n",
              "      <td>0.802102</td>\n",
              "      <td>0.304033</td>\n",
              "      <td>0.599796</td>\n",
              "      <td>0.403523</td>\n",
              "      <td>0.758766</td>\n",
              "      <td>0.801154</td>\n",
              "      <td>0.302561</td>\n",
              "      <td>0.620166</td>\n",
              "      <td>0.406703</td>\n",
              "      <td>0.777707</td>\n",
              "    </tr>\n",
              "    <tr>\n",
              "      <th>Decision Tree Classification</th>\n",
              "      <td>1.000000</td>\n",
              "      <td>1.000000</td>\n",
              "      <td>1.000000</td>\n",
              "      <td>1.000000</td>\n",
              "      <td>1.000000</td>\n",
              "      <td>0.844111</td>\n",
              "      <td>0.303502</td>\n",
              "      <td>0.323204</td>\n",
              "      <td>0.313043</td>\n",
              "      <td>0.615814</td>\n",
              "    </tr>\n",
              "  </tbody>\n",
              "</table>\n",
              "</div>\n",
              "      <button class=\"colab-df-convert\" onclick=\"convertToInteractive('df-9c2a7c02-20f5-4065-a314-46fb8db53c76')\"\n",
              "              title=\"Convert this dataframe to an interactive table.\"\n",
              "              style=\"display:none;\">\n",
              "        \n",
              "  <svg xmlns=\"http://www.w3.org/2000/svg\" height=\"24px\"viewBox=\"0 0 24 24\"\n",
              "       width=\"24px\">\n",
              "    <path d=\"M0 0h24v24H0V0z\" fill=\"none\"/>\n",
              "    <path d=\"M18.56 5.44l.94 2.06.94-2.06 2.06-.94-2.06-.94-.94-2.06-.94 2.06-2.06.94zm-11 1L8.5 8.5l.94-2.06 2.06-.94-2.06-.94L8.5 2.5l-.94 2.06-2.06.94zm10 10l.94 2.06.94-2.06 2.06-.94-2.06-.94-.94-2.06-.94 2.06-2.06.94z\"/><path d=\"M17.41 7.96l-1.37-1.37c-.4-.4-.92-.59-1.43-.59-.52 0-1.04.2-1.43.59L10.3 9.45l-7.72 7.72c-.78.78-.78 2.05 0 2.83L4 21.41c.39.39.9.59 1.41.59.51 0 1.02-.2 1.41-.59l7.78-7.78 2.81-2.81c.8-.78.8-2.07 0-2.86zM5.41 20L4 18.59l7.72-7.72 1.47 1.35L5.41 20z\"/>\n",
              "  </svg>\n",
              "      </button>\n",
              "      \n",
              "  <style>\n",
              "    .colab-df-container {\n",
              "      display:flex;\n",
              "      flex-wrap:wrap;\n",
              "      gap: 12px;\n",
              "    }\n",
              "\n",
              "    .colab-df-convert {\n",
              "      background-color: #E8F0FE;\n",
              "      border: none;\n",
              "      border-radius: 50%;\n",
              "      cursor: pointer;\n",
              "      display: none;\n",
              "      fill: #1967D2;\n",
              "      height: 32px;\n",
              "      padding: 0 0 0 0;\n",
              "      width: 32px;\n",
              "    }\n",
              "\n",
              "    .colab-df-convert:hover {\n",
              "      background-color: #E2EBFA;\n",
              "      box-shadow: 0px 1px 2px rgba(60, 64, 67, 0.3), 0px 1px 3px 1px rgba(60, 64, 67, 0.15);\n",
              "      fill: #174EA6;\n",
              "    }\n",
              "\n",
              "    [theme=dark] .colab-df-convert {\n",
              "      background-color: #3B4455;\n",
              "      fill: #D2E3FC;\n",
              "    }\n",
              "\n",
              "    [theme=dark] .colab-df-convert:hover {\n",
              "      background-color: #434B5C;\n",
              "      box-shadow: 0px 1px 3px 1px rgba(0, 0, 0, 0.15);\n",
              "      filter: drop-shadow(0px 1px 2px rgba(0, 0, 0, 0.3));\n",
              "      fill: #FFFFFF;\n",
              "    }\n",
              "  </style>\n",
              "\n",
              "      <script>\n",
              "        const buttonEl =\n",
              "          document.querySelector('#df-9c2a7c02-20f5-4065-a314-46fb8db53c76 button.colab-df-convert');\n",
              "        buttonEl.style.display =\n",
              "          google.colab.kernel.accessAllowed ? 'block' : 'none';\n",
              "\n",
              "        async function convertToInteractive(key) {\n",
              "          const element = document.querySelector('#df-9c2a7c02-20f5-4065-a314-46fb8db53c76');\n",
              "          const dataTable =\n",
              "            await google.colab.kernel.invokeFunction('convertToInteractive',\n",
              "                                                     [key], {});\n",
              "          if (!dataTable) return;\n",
              "\n",
              "          const docLinkHtml = 'Like what you see? Visit the ' +\n",
              "            '<a target=\"_blank\" href=https://colab.research.google.com/notebooks/data_table.ipynb>data table notebook</a>'\n",
              "            + ' to learn more about interactive tables.';\n",
              "          element.innerHTML = '';\n",
              "          dataTable['output_type'] = 'display_data';\n",
              "          await google.colab.output.renderOutput(dataTable, element);\n",
              "          const docLink = document.createElement('div');\n",
              "          docLink.innerHTML = docLinkHtml;\n",
              "          element.appendChild(docLink);\n",
              "        }\n",
              "      </script>\n",
              "    </div>\n",
              "  </div>\n",
              "  "
            ]
          },
          "metadata": {}
        },
        {
          "output_type": "display_data",
          "data": {
            "text/plain": [
              "<Figure size 1296x360 with 4 Axes>"
            ],
            "image/png": "[encoded data removed]"
          },
          "metadata": {
            "needs_background": "light"
          }
        }
      ]
    },
    {
      "cell_type": "markdown",
      "source": [
        "## 1.6 Random Forest Classification"
      ],
      "metadata": {
        "id": "NxyjsiVDze5C"
      }
    },
    {
      "cell_type": "code",
      "source": [
        "# Ajustar el clasificador  Random Forest en el Conjunto de Entrenamiento\n",
        "from sklearn.ensemble import RandomForestClassifier\n",
        "classifier = RandomForestClassifier(n_estimators = 1500, criterion = \"entropy\", random_state = 0)\n",
        "classifier.fit(X_train_sc, y_train)\n",
        "\n",
        "# Predicción de los resultados con el Conjunto de Testing\n",
        "y_pred  = classifier.predict(X_val_sc)\n",
        "\n",
        "# Elaborar una matriz de confusión\n",
        "from sklearn.metrics import confusion_matrix\n",
        "cm = confusion_matrix(y_val, y_pred)\n",
        "print(f'AUC - Random Forest Classification: {roc_auc_score(y_val, classifier.predict(X_val_sc)):.4f}')\n",
        "print(f'Accuracy - Random Forest Classification: {accuracy_score(y_val, classifier.predict(X_val_sc)):.4f}')\n",
        "print(f'F1-Score Random Forest Classification: {f1_score(y_val,classifier.predict(X_val_sc)):.4f}')\n",
        "print(f'Precision Random Forest Classification:{precision_score(y_val,classifier.predict(X_val_sc)):.4f}')\n",
        "print(f'Recall Random Forest Classification: {recall_score(y_val,classifier.predict(X_val_sc)):.4f}')"
      ],
      "metadata": {
        "id": "146ixZg7VrdJ",
        "colab": {
          "base_uri": "https://localhost:8080/"
        },
        "outputId": "9a23060b-aa07-4335-8541-adf10b27c7d6"
      },
      "execution_count": null,
      "outputs": [
        {
          "output_type": "stream",
          "name": "stdout",
          "text": [
            "AUC - Random Forest Classification: 0.6305\n",
            "Accuracy - Random Forest Classification: 0.8962\n",
            "F1-Score Random Forest Classification: 0.3804\n",
            "Precision Random Forest Classification:0.5526\n",
            "Recall Random Forest Classification: 0.2901\n"
          ]
        }
      ]
    },
    {
      "cell_type": "code",
      "source": [
        "update_resultados('Random Forest Classification', classifier, resultados, X_train_sc, X_val_sc, y_train, y_val)"
      ],
      "metadata": {
        "colab": {
          "base_uri": "https://localhost:8080/",
          "height": 591
        },
        "id": "gv4VBlg0Qy3Z",
        "outputId": "d6cd3db7-2e00-4fd8-82e0-d21fabdd64e8"
      },
      "execution_count": null,
      "outputs": [
        {
          "output_type": "display_data",
          "data": {
            "text/plain": [
              "                             Entrenamiento                                    \\\n",
              "                                 Exactitud Precisión Exhaustividad        F1   \n",
              "Logistic Regression               0.895340  0.610374      0.172050  0.268435   \n",
              "K-Nearest Neighbors               0.913441  0.719124      0.368242  0.487070   \n",
              "Naive Bayes                       0.802102  0.304033      0.599796  0.403523   \n",
              "Decision Tree Classification      1.000000  1.000000      1.000000  1.000000   \n",
              "Random Forest Classification      1.000000  1.000000      1.000000  1.000000   \n",
              "\n",
              "                                         Pruebas                          \\\n",
              "                                   AUC Exactitud Precisión Exhaustividad   \n",
              "Logistic Regression           0.764549  0.900880  0.666667      0.196133   \n",
              "K-Nearest Neighbors           0.925317  0.889648  0.495798      0.244475   \n",
              "Naive Bayes                   0.758766  0.801154  0.302561      0.620166   \n",
              "Decision Tree Classification  1.000000  0.844111  0.303502      0.323204   \n",
              "Random Forest Classification  1.000000  0.896175  0.552632      0.290055   \n",
              "\n",
              "                                                  \n",
              "                                    F1       AUC  \n",
              "Logistic Regression           0.303095  0.779531  \n",
              "K-Nearest Neighbors           0.327475  0.719875  \n",
              "Naive Bayes                   0.406703  0.777707  \n",
              "Decision Tree Classification  0.313043  0.615814  \n",
              "Random Forest Classification  0.380435  0.789229  "
            ],
            "text/html": [
              "\n",
              "  <div id=\"df-dd8dc82d-6015-463b-8679-a51aead93419\">\n",
              "    <div class=\"colab-df-container\">\n",
              "      <div>\n",
              "<style scoped>\n",
              "    .dataframe tbody tr th:only-of-type {\n",
              "        vertical-align: middle;\n",
              "    }\n",
              "\n",
              "    .dataframe tbody tr th {\n",
              "        vertical-align: top;\n",
              "    }\n",
              "\n",
              "    .dataframe thead tr th {\n",
              "        text-align: left;\n",
              "    }\n",
              "</style>\n",
              "<table border=\"1\" class=\"dataframe\">\n",
              "  <thead>\n",
              "    <tr>\n",
              "      <th></th>\n",
              "      <th colspan=\"5\" halign=\"left\">Entrenamiento</th>\n",
              "      <th colspan=\"5\" halign=\"left\">Pruebas</th>\n",
              "    </tr>\n",
              "    <tr>\n",
              "      <th></th>\n",
              "      <th>Exactitud</th>\n",
              "      <th>Precisión</th>\n",
              "      <th>Exhaustividad</th>\n",
              "      <th>F1</th>\n",
              "      <th>AUC</th>\n",
              "      <th>Exactitud</th>\n",
              "      <th>Precisión</th>\n",
              "      <th>Exhaustividad</th>\n",
              "      <th>F1</th>\n",
              "      <th>AUC</th>\n",
              "    </tr>\n",
              "  </thead>\n",
              "  <tbody>\n",
              "    <tr>\n",
              "      <th>Logistic Regression</th>\n",
              "      <td>0.895340</td>\n",
              "      <td>0.610374</td>\n",
              "      <td>0.172050</td>\n",
              "      <td>0.268435</td>\n",
              "      <td>0.764549</td>\n",
              "      <td>0.900880</td>\n",
              "      <td>0.666667</td>\n",
              "      <td>0.196133</td>\n",
              "      <td>0.303095</td>\n",
              "      <td>0.779531</td>\n",
              "    </tr>\n",
              "    <tr>\n",
              "      <th>K-Nearest Neighbors</th>\n",
              "      <td>0.913441</td>\n",
              "      <td>0.719124</td>\n",
              "      <td>0.368242</td>\n",
              "      <td>0.487070</td>\n",
              "      <td>0.925317</td>\n",
              "      <td>0.889648</td>\n",
              "      <td>0.495798</td>\n",
              "      <td>0.244475</td>\n",
              "      <td>0.327475</td>\n",
              "      <td>0.719875</td>\n",
              "    </tr>\n",
              "    <tr>\n",
              "      <th>Naive Bayes</th>\n",
              "      <td>0.802102</td>\n",
              "      <td>0.304033</td>\n",
              "      <td>0.599796</td>\n",
              "      <td>0.403523</td>\n",
              "      <td>0.758766</td>\n",
              "      <td>0.801154</td>\n",
              "      <td>0.302561</td>\n",
              "      <td>0.620166</td>\n",
              "      <td>0.406703</td>\n",
              "      <td>0.777707</td>\n",
              "    </tr>\n",
              "    <tr>\n",
              "      <th>Decision Tree Classification</th>\n",
              "      <td>1.000000</td>\n",
              "      <td>1.000000</td>\n",
              "      <td>1.000000</td>\n",
              "      <td>1.000000</td>\n",
              "      <td>1.000000</td>\n",
              "      <td>0.844111</td>\n",
              "      <td>0.303502</td>\n",
              "      <td>0.323204</td>\n",
              "      <td>0.313043</td>\n",
              "      <td>0.615814</td>\n",
              "    </tr>\n",
              "    <tr>\n",
              "      <th>Random Forest Classification</th>\n",
              "      <td>1.000000</td>\n",
              "      <td>1.000000</td>\n",
              "      <td>1.000000</td>\n",
              "      <td>1.000000</td>\n",
              "      <td>1.000000</td>\n",
              "      <td>0.896175</td>\n",
              "      <td>0.552632</td>\n",
              "      <td>0.290055</td>\n",
              "      <td>0.380435</td>\n",
              "      <td>0.789229</td>\n",
              "    </tr>\n",
              "  </tbody>\n",
              "</table>\n",
              "</div>\n",
              "      <button class=\"colab-df-convert\" onclick=\"convertToInteractive('df-dd8dc82d-6015-463b-8679-a51aead93419')\"\n",
              "              title=\"Convert this dataframe to an interactive table.\"\n",
              "              style=\"display:none;\">\n",
              "        \n",
              "  <svg xmlns=\"http://www.w3.org/2000/svg\" height=\"24px\"viewBox=\"0 0 24 24\"\n",
              "       width=\"24px\">\n",
              "    <path d=\"M0 0h24v24H0V0z\" fill=\"none\"/>\n",
              "    <path d=\"M18.56 5.44l.94 2.06.94-2.06 2.06-.94-2.06-.94-.94-2.06-.94 2.06-2.06.94zm-11 1L8.5 8.5l.94-2.06 2.06-.94-2.06-.94L8.5 2.5l-.94 2.06-2.06.94zm10 10l.94 2.06.94-2.06 2.06-.94-2.06-.94-.94-2.06-.94 2.06-2.06.94z\"/><path d=\"M17.41 7.96l-1.37-1.37c-.4-.4-.92-.59-1.43-.59-.52 0-1.04.2-1.43.59L10.3 9.45l-7.72 7.72c-.78.78-.78 2.05 0 2.83L4 21.41c.39.39.9.59 1.41.59.51 0 1.02-.2 1.41-.59l7.78-7.78 2.81-2.81c.8-.78.8-2.07 0-2.86zM5.41 20L4 18.59l7.72-7.72 1.47 1.35L5.41 20z\"/>\n",
              "  </svg>\n",
              "      </button>\n",
              "      \n",
              "  <style>\n",
              "    .colab-df-container {\n",
              "      display:flex;\n",
              "      flex-wrap:wrap;\n",
              "      gap: 12px;\n",
              "    }\n",
              "\n",
              "    .colab-df-convert {\n",
              "      background-color: #E8F0FE;\n",
              "      border: none;\n",
              "      border-radius: 50%;\n",
              "      cursor: pointer;\n",
              "      display: none;\n",
              "      fill: #1967D2;\n",
              "      height: 32px;\n",
              "      padding: 0 0 0 0;\n",
              "      width: 32px;\n",
              "    }\n",
              "\n",
              "    .colab-df-convert:hover {\n",
              "      background-color: #E2EBFA;\n",
              "      box-shadow: 0px 1px 2px rgba(60, 64, 67, 0.3), 0px 1px 3px 1px rgba(60, 64, 67, 0.15);\n",
              "      fill: #174EA6;\n",
              "    }\n",
              "\n",
              "    [theme=dark] .colab-df-convert {\n",
              "      background-color: #3B4455;\n",
              "      fill: #D2E3FC;\n",
              "    }\n",
              "\n",
              "    [theme=dark] .colab-df-convert:hover {\n",
              "      background-color: #434B5C;\n",
              "      box-shadow: 0px 1px 3px 1px rgba(0, 0, 0, 0.15);\n",
              "      filter: drop-shadow(0px 1px 2px rgba(0, 0, 0, 0.3));\n",
              "      fill: #FFFFFF;\n",
              "    }\n",
              "  </style>\n",
              "\n",
              "      <script>\n",
              "        const buttonEl =\n",
              "          document.querySelector('#df-dd8dc82d-6015-463b-8679-a51aead93419 button.colab-df-convert');\n",
              "        buttonEl.style.display =\n",
              "          google.colab.kernel.accessAllowed ? 'block' : 'none';\n",
              "\n",
              "        async function convertToInteractive(key) {\n",
              "          const element = document.querySelector('#df-dd8dc82d-6015-463b-8679-a51aead93419');\n",
              "          const dataTable =\n",
              "            await google.colab.kernel.invokeFunction('convertToInteractive',\n",
              "                                                     [key], {});\n",
              "          if (!dataTable) return;\n",
              "\n",
              "          const docLinkHtml = 'Like what you see? Visit the ' +\n",
              "            '<a target=\"_blank\" href=https://colab.research.google.com/notebooks/data_table.ipynb>data table notebook</a>'\n",
              "            + ' to learn more about interactive tables.';\n",
              "          element.innerHTML = '';\n",
              "          dataTable['output_type'] = 'display_data';\n",
              "          await google.colab.output.renderOutput(dataTable, element);\n",
              "          const docLink = document.createElement('div');\n",
              "          docLink.innerHTML = docLinkHtml;\n",
              "          element.appendChild(docLink);\n",
              "        }\n",
              "      </script>\n",
              "    </div>\n",
              "  </div>\n",
              "  "
            ]
          },
          "metadata": {}
        },
        {
          "output_type": "display_data",
          "data": {
            "text/plain": [
              "<Figure size 1296x360 with 4 Axes>"
            ],
            "image/png": "[encoded data removed]"
          },
          "metadata": {
            "needs_background": "light"
          }
        }
      ]
    },
    {
      "cell_type": "markdown",
      "source": [
        "## 1.7 LightGBM Classifier"
      ],
      "metadata": {
        "id": "aZWwz1eI0saL"
      }
    },
    {
      "cell_type": "code",
      "source": [
        "# build the lightgbm model\n",
        "import lightgbm as lgb\n",
        "classifier = lgb.LGBMClassifier()\n",
        "classifier.fit(X_train_sc, y_train)\n",
        "\n",
        "# Predicción de los resultados con el Conjunto de Testing\n",
        "y_pred  = classifier.predict(X_val_sc)\n",
        "print(f'AUC -LightGBM Classifier: {roc_auc_score(y_val, classifier.predict(X_val_sc)):.4f}')\n",
        "print(f'Accuracy - LightGBM Classifier: {accuracy_score(y_val, classifier.predict(X_val_sc)):.4f}')\n",
        "print(f'F1-Score LightGBM Classifier: {f1_score(y_val,classifier.predict(X_val_sc)):.4f}')\n",
        "print(f'Precision LightGBM Classifier:{precision_score(y_val,classifier.predict(X_val_sc)):.4f}')\n",
        "print(f'Recall LightGBM Classifier: {recall_score(y_val,classifier.predict(X_val_sc)):.4f}')\n",
        "\n"
      ],
      "metadata": {
        "id": "lWnZntCOVrgZ",
        "colab": {
          "base_uri": "https://localhost:8080/"
        },
        "outputId": "983dfb84-efc4-4b96-f2c2-66caf9f667f7"
      },
      "execution_count": null,
      "outputs": [
        {
          "output_type": "stream",
          "name": "stdout",
          "text": [
            "AUC -LightGBM Classifier: 0.6022\n",
            "Accuracy - LightGBM Classifier: 0.9029\n",
            "F1-Score LightGBM Classifier: 0.3291\n",
            "Precision LightGBM Classifier:0.6826\n",
            "Recall LightGBM Classifier: 0.2169\n"
          ]
        }
      ]
    },
    {
      "cell_type": "code",
      "source": [
        "update_resultados('LightGBM Classifier', classifier, resultados, X_train_sc, X_val_sc, y_train, y_val)"
      ],
      "metadata": {
        "colab": {
          "base_uri": "https://localhost:8080/",
          "height": 622
        },
        "id": "uTSsQftMRc8X",
        "outputId": "1993563c-2c5e-42b9-b742-ed8d0f3ad281"
      },
      "execution_count": null,
      "outputs": [
        {
          "output_type": "display_data",
          "data": {
            "text/plain": [
              "                             Entrenamiento                                    \\\n",
              "                                 Exactitud Precisión Exhaustividad        F1   \n",
              "Logistic Regression               0.895340  0.610374      0.172050  0.268435   \n",
              "K-Nearest Neighbors               0.913441  0.719124      0.368242  0.487070   \n",
              "Naive Bayes                       0.802102  0.304033      0.599796  0.403523   \n",
              "Decision Tree Classification      1.000000  1.000000      1.000000  1.000000   \n",
              "Random Forest Classification      1.000000  1.000000      1.000000  1.000000   \n",
              "LightGBM Classifier               0.909760  0.771981      0.271676  0.401911   \n",
              "\n",
              "                                         Pruebas                          \\\n",
              "                                   AUC Exactitud Precisión Exhaustividad   \n",
              "Logistic Regression           0.764549  0.900880  0.666667      0.196133   \n",
              "K-Nearest Neighbors           0.925317  0.889648  0.495798      0.244475   \n",
              "Naive Bayes                   0.758766  0.801154  0.302561      0.620166   \n",
              "Decision Tree Classification  1.000000  0.844111  0.303502      0.323204   \n",
              "Random Forest Classification  1.000000  0.896175  0.552632      0.290055   \n",
              "LightGBM Classifier           0.890626  0.902854  0.682609      0.216851   \n",
              "\n",
              "                                                  \n",
              "                                    F1       AUC  \n",
              "Logistic Regression           0.303095  0.779531  \n",
              "K-Nearest Neighbors           0.327475  0.719875  \n",
              "Naive Bayes                   0.406703  0.777707  \n",
              "Decision Tree Classification  0.313043  0.615814  \n",
              "Random Forest Classification  0.380435  0.789229  \n",
              "LightGBM Classifier           0.329140  0.806732  "
            ],
            "text/html": [
              "\n",
              "  <div id=\"df-5eceaa6b-c48b-4b8f-a95f-646667e8932a\">\n",
              "    <div class=\"colab-df-container\">\n",
              "      <div>\n",
              "<style scoped>\n",
              "    .dataframe tbody tr th:only-of-type {\n",
              "        vertical-align: middle;\n",
              "    }\n",
              "\n",
              "    .dataframe tbody tr th {\n",
              "        vertical-align: top;\n",
              "    }\n",
              "\n",
              "    .dataframe thead tr th {\n",
              "        text-align: left;\n",
              "    }\n",
              "</style>\n",
              "<table border=\"1\" class=\"dataframe\">\n",
              "  <thead>\n",
              "    <tr>\n",
              "      <th></th>\n",
              "      <th colspan=\"5\" halign=\"left\">Entrenamiento</th>\n",
              "      <th colspan=\"5\" halign=\"left\">Pruebas</th>\n",
              "    </tr>\n",
              "    <tr>\n",
              "      <th></th>\n",
              "      <th>Exactitud</th>\n",
              "      <th>Precisión</th>\n",
              "      <th>Exhaustividad</th>\n",
              "      <th>F1</th>\n",
              "      <th>AUC</th>\n",
              "      <th>Exactitud</th>\n",
              "      <th>Precisión</th>\n",
              "      <th>Exhaustividad</th>\n",
              "      <th>F1</th>\n",
              "      <th>AUC</th>\n",
              "    </tr>\n",
              "  </thead>\n",
              "  <tbody>\n",
              "    <tr>\n",
              "      <th>Logistic Regression</th>\n",
              "      <td>0.895340</td>\n",
              "      <td>0.610374</td>\n",
              "      <td>0.172050</td>\n",
              "      <td>0.268435</td>\n",
              "      <td>0.764549</td>\n",
              "      <td>0.900880</td>\n",
              "      <td>0.666667</td>\n",
              "      <td>0.196133</td>\n",
              "      <td>0.303095</td>\n",
              "      <td>0.779531</td>\n",
              "    </tr>\n",
              "    <tr>\n",
              "      <th>K-Nearest Neighbors</th>\n",
              "      <td>0.913441</td>\n",
              "      <td>0.719124</td>\n",
              "      <td>0.368242</td>\n",
              "      <td>0.487070</td>\n",
              "      <td>0.925317</td>\n",
              "      <td>0.889648</td>\n",
              "      <td>0.495798</td>\n",
              "      <td>0.244475</td>\n",
              "      <td>0.327475</td>\n",
              "      <td>0.719875</td>\n",
              "    </tr>\n",
              "    <tr>\n",
              "      <th>Naive Bayes</th>\n",
              "      <td>0.802102</td>\n",
              "      <td>0.304033</td>\n",
              "      <td>0.599796</td>\n",
              "      <td>0.403523</td>\n",
              "      <td>0.758766</td>\n",
              "      <td>0.801154</td>\n",
              "      <td>0.302561</td>\n",
              "      <td>0.620166</td>\n",
              "      <td>0.406703</td>\n",
              "      <td>0.777707</td>\n",
              "    </tr>\n",
              "    <tr>\n",
              "      <th>Decision Tree Classification</th>\n",
              "      <td>1.000000</td>\n",
              "      <td>1.000000</td>\n",
              "      <td>1.000000</td>\n",
              "      <td>1.000000</td>\n",
              "      <td>1.000000</td>\n",
              "      <td>0.844111</td>\n",
              "      <td>0.303502</td>\n",
              "      <td>0.323204</td>\n",
              "      <td>0.313043</td>\n",
              "      <td>0.615814</td>\n",
              "    </tr>\n",
              "    <tr>\n",
              "      <th>Random Forest Classification</th>\n",
              "      <td>1.000000</td>\n",
              "      <td>1.000000</td>\n",
              "      <td>1.000000</td>\n",
              "      <td>1.000000</td>\n",
              "      <td>1.000000</td>\n",
              "      <td>0.896175</td>\n",
              "      <td>0.552632</td>\n",
              "      <td>0.290055</td>\n",
              "      <td>0.380435</td>\n",
              "      <td>0.789229</td>\n",
              "    </tr>\n",
              "    <tr>\n",
              "      <th>LightGBM Classifier</th>\n",
              "      <td>0.909760</td>\n",
              "      <td>0.771981</td>\n",
              "      <td>0.271676</td>\n",
              "      <td>0.401911</td>\n",
              "      <td>0.890626</td>\n",
              "      <td>0.902854</td>\n",
              "      <td>0.682609</td>\n",
              "      <td>0.216851</td>\n",
              "      <td>0.329140</td>\n",
              "      <td>0.806732</td>\n",
              "    </tr>\n",
              "  </tbody>\n",
              "</table>\n",
              "</div>\n",
              "      <button class=\"colab-df-convert\" onclick=\"convertToInteractive('df-5eceaa6b-c48b-4b8f-a95f-646667e8932a')\"\n",
              "              title=\"Convert this dataframe to an interactive table.\"\n",
              "              style=\"display:none;\">\n",
              "        \n",
              "  <svg xmlns=\"http://www.w3.org/2000/svg\" height=\"24px\"viewBox=\"0 0 24 24\"\n",
              "       width=\"24px\">\n",
              "    <path d=\"M0 0h24v24H0V0z\" fill=\"none\"/>\n",
              "    <path d=\"M18.56 5.44l.94 2.06.94-2.06 2.06-.94-2.06-.94-.94-2.06-.94 2.06-2.06.94zm-11 1L8.5 8.5l.94-2.06 2.06-.94-2.06-.94L8.5 2.5l-.94 2.06-2.06.94zm10 10l.94 2.06.94-2.06 2.06-.94-2.06-.94-.94-2.06-.94 2.06-2.06.94z\"/><path d=\"M17.41 7.96l-1.37-1.37c-.4-.4-.92-.59-1.43-.59-.52 0-1.04.2-1.43.59L10.3 9.45l-7.72 7.72c-.78.78-.78 2.05 0 2.83L4 21.41c.39.39.9.59 1.41.59.51 0 1.02-.2 1.41-.59l7.78-7.78 2.81-2.81c.8-.78.8-2.07 0-2.86zM5.41 20L4 18.59l7.72-7.72 1.47 1.35L5.41 20z\"/>\n",
              "  </svg>\n",
              "      </button>\n",
              "      \n",
              "  <style>\n",
              "    .colab-df-container {\n",
              "      display:flex;\n",
              "      flex-wrap:wrap;\n",
              "      gap: 12px;\n",
              "    }\n",
              "\n",
              "    .colab-df-convert {\n",
              "      background-color: #E8F0FE;\n",
              "      border: none;\n",
              "      border-radius: 50%;\n",
              "      cursor: pointer;\n",
              "      display: none;\n",
              "      fill: #1967D2;\n",
              "      height: 32px;\n",
              "      padding: 0 0 0 0;\n",
              "      width: 32px;\n",
              "    }\n",
              "\n",
              "    .colab-df-convert:hover {\n",
              "      background-color: #E2EBFA;\n",
              "      box-shadow: 0px 1px 2px rgba(60, 64, 67, 0.3), 0px 1px 3px 1px rgba(60, 64, 67, 0.15);\n",
              "      fill: #174EA6;\n",
              "    }\n",
              "\n",
              "    [theme=dark] .colab-df-convert {\n",
              "      background-color: #3B4455;\n",
              "      fill: #D2E3FC;\n",
              "    }\n",
              "\n",
              "    [theme=dark] .colab-df-convert:hover {\n",
              "      background-color: #434B5C;\n",
              "      box-shadow: 0px 1px 3px 1px rgba(0, 0, 0, 0.15);\n",
              "      filter: drop-shadow(0px 1px 2px rgba(0, 0, 0, 0.3));\n",
              "      fill: #FFFFFF;\n",
              "    }\n",
              "  </style>\n",
              "\n",
              "      <script>\n",
              "        const buttonEl =\n",
              "          document.querySelector('#df-5eceaa6b-c48b-4b8f-a95f-646667e8932a button.colab-df-convert');\n",
              "        buttonEl.style.display =\n",
              "          google.colab.kernel.accessAllowed ? 'block' : 'none';\n",
              "\n",
              "        async function convertToInteractive(key) {\n",
              "          const element = document.querySelector('#df-5eceaa6b-c48b-4b8f-a95f-646667e8932a');\n",
              "          const dataTable =\n",
              "            await google.colab.kernel.invokeFunction('convertToInteractive',\n",
              "                                                     [key], {});\n",
              "          if (!dataTable) return;\n",
              "\n",
              "          const docLinkHtml = 'Like what you see? Visit the ' +\n",
              "            '<a target=\"_blank\" href=https://colab.research.google.com/notebooks/data_table.ipynb>data table notebook</a>'\n",
              "            + ' to learn more about interactive tables.';\n",
              "          element.innerHTML = '';\n",
              "          dataTable['output_type'] = 'display_data';\n",
              "          await google.colab.output.renderOutput(dataTable, element);\n",
              "          const docLink = document.createElement('div');\n",
              "          docLink.innerHTML = docLinkHtml;\n",
              "          element.appendChild(docLink);\n",
              "        }\n",
              "      </script>\n",
              "    </div>\n",
              "  </div>\n",
              "  "
            ]
          },
          "metadata": {}
        },
        {
          "output_type": "display_data",
          "data": {
            "text/plain": [
              "<Figure size 1296x360 with 4 Axes>"
            ],
            "image/png": "[encoded data removed]"
          },
          "metadata": {
            "needs_background": "light"
          }
        }
      ]
    },
    {
      "cell_type": "markdown",
      "source": [
        "## 1.8 XGBoost for Classification"
      ],
      "metadata": {
        "id": "3_POhcNz1glP"
      }
    },
    {
      "cell_type": "code",
      "source": [
        "import xgboost as xgb\n",
        "classifier = xgb.XGBClassifier()\n",
        "classifier.fit(X_train_sc, y_train)\n",
        "\n",
        "# Predicción de los resultados con el Conjunto de Testing\n",
        "y_pred  = classifier.predict(X_val_sc)\n",
        "print(f'AUC -XGBoost: {roc_auc_score(y_val, classifier.predict(X_val_sc)):.4f}')\n",
        "print(f'Accuracy - XGBoost: {accuracy_score(y_val, classifier.predict(X_val_sc)):.4f}')\n",
        "print(f'F1-Score XGBoost: {f1_score(y_val,classifier.predict(X_val_sc)):.4f}')\n",
        "print(f'Precision XGBoost:{precision_score(y_val,classifier.predict(X_val_sc)):.4f}')\n",
        "print(f'Recall XGBoost: {recall_score(y_val,classifier.predict(X_val_sc)):.4f}')\n"
      ],
      "metadata": {
        "id": "0i4gyXoKVrjI",
        "colab": {
          "base_uri": "https://localhost:8080/"
        },
        "outputId": "96035dc4-036b-4e50-f910-f0f1dc2f99f4"
      },
      "execution_count": null,
      "outputs": [
        {
          "output_type": "stream",
          "name": "stdout",
          "text": [
            "AUC -XGBoost: 0.5917\n",
            "Accuracy - XGBoost: 0.9024\n",
            "F1-Score XGBoost: 0.3034\n",
            "Precision XGBoost:0.7035\n",
            "Recall XGBoost: 0.1934\n"
          ]
        }
      ]
    },
    {
      "cell_type": "code",
      "source": [
        "update_resultados('XGBoost', classifier, resultados, X_train_sc, X_val_sc, y_train, y_val)"
      ],
      "metadata": {
        "colab": {
          "base_uri": "https://localhost:8080/",
          "height": 653
        },
        "id": "Zcb6x0KoRm_d",
        "outputId": "5a3fcfd7-669e-471b-99d7-e645ece40a11"
      },
      "execution_count": null,
      "outputs": [
        {
          "output_type": "display_data",
          "data": {
            "text/plain": [
              "                             Entrenamiento                                    \\\n",
              "                                 Exactitud Precisión Exhaustividad        F1   \n",
              "Logistic Regression               0.895340  0.610374      0.172050  0.268435   \n",
              "K-Nearest Neighbors               0.913441  0.719124      0.368242  0.487070   \n",
              "Naive Bayes                       0.802102  0.304033      0.599796  0.403523   \n",
              "Decision Tree Classification      1.000000  1.000000      1.000000  1.000000   \n",
              "Random Forest Classification      1.000000  1.000000      1.000000  1.000000   \n",
              "LightGBM Classifier               0.909760  0.771981      0.271676  0.401911   \n",
              "XGBoost                           0.902436  0.719194      0.206392  0.320740   \n",
              "\n",
              "                                         Pruebas                          \\\n",
              "                                   AUC Exactitud Precisión Exhaustividad   \n",
              "Logistic Regression           0.764549  0.900880  0.666667      0.196133   \n",
              "K-Nearest Neighbors           0.925317  0.889648  0.495798      0.244475   \n",
              "Naive Bayes                   0.758766  0.801154  0.302561      0.620166   \n",
              "Decision Tree Classification  1.000000  0.844111  0.303502      0.323204   \n",
              "Random Forest Classification  1.000000  0.896175  0.552632      0.290055   \n",
              "LightGBM Classifier           0.890626  0.902854  0.682609      0.216851   \n",
              "XGBoost                       0.815956  0.902398  0.703518      0.193370   \n",
              "\n",
              "                                                  \n",
              "                                    F1       AUC  \n",
              "Logistic Regression           0.303095  0.779531  \n",
              "K-Nearest Neighbors           0.327475  0.719875  \n",
              "Naive Bayes                   0.406703  0.777707  \n",
              "Decision Tree Classification  0.313043  0.615814  \n",
              "Random Forest Classification  0.380435  0.789229  \n",
              "LightGBM Classifier           0.329140  0.806732  \n",
              "XGBoost                       0.303359  0.812170  "
            ],
            "text/html": [
              "\n",
              "  <div id=\"df-f508fafe-65a6-418f-a2f2-ebdd3bc73efe\">\n",
              "    <div class=\"colab-df-container\">\n",
              "      <div>\n",
              "<style scoped>\n",
              "    .dataframe tbody tr th:only-of-type {\n",
              "        vertical-align: middle;\n",
              "    }\n",
              "\n",
              "    .dataframe tbody tr th {\n",
              "        vertical-align: top;\n",
              "    }\n",
              "\n",
              "    .dataframe thead tr th {\n",
              "        text-align: left;\n",
              "    }\n",
              "</style>\n",
              "<table border=\"1\" class=\"dataframe\">\n",
              "  <thead>\n",
              "    <tr>\n",
              "      <th></th>\n",
              "      <th colspan=\"5\" halign=\"left\">Entrenamiento</th>\n",
              "      <th colspan=\"5\" halign=\"left\">Pruebas</th>\n",
              "    </tr>\n",
              "    <tr>\n",
              "      <th></th>\n",
              "      <th>Exactitud</th>\n",
              "      <th>Precisión</th>\n",
              "      <th>Exhaustividad</th>\n",
              "      <th>F1</th>\n",
              "      <th>AUC</th>\n",
              "      <th>Exactitud</th>\n",
              "      <th>Precisión</th>\n",
              "      <th>Exhaustividad</th>\n",
              "      <th>F1</th>\n",
              "      <th>AUC</th>\n",
              "    </tr>\n",
              "  </thead>\n",
              "  <tbody>\n",
              "    <tr>\n",
              "      <th>Logistic Regression</th>\n",
              "      <td>0.895340</td>\n",
              "      <td>0.610374</td>\n",
              "      <td>0.172050</td>\n",
              "      <td>0.268435</td>\n",
              "      <td>0.764549</td>\n",
              "      <td>0.900880</td>\n",
              "      <td>0.666667</td>\n",
              "      <td>0.196133</td>\n",
              "      <td>0.303095</td>\n",
              "      <td>0.779531</td>\n",
              "    </tr>\n",
              "    <tr>\n",
              "      <th>K-Nearest Neighbors</th>\n",
              "      <td>0.913441</td>\n",
              "      <td>0.719124</td>\n",
              "      <td>0.368242</td>\n",
              "      <td>0.487070</td>\n",
              "      <td>0.925317</td>\n",
              "      <td>0.889648</td>\n",
              "      <td>0.495798</td>\n",
              "      <td>0.244475</td>\n",
              "      <td>0.327475</td>\n",
              "      <td>0.719875</td>\n",
              "    </tr>\n",
              "    <tr>\n",
              "      <th>Naive Bayes</th>\n",
              "      <td>0.802102</td>\n",
              "      <td>0.304033</td>\n",
              "      <td>0.599796</td>\n",
              "      <td>0.403523</td>\n",
              "      <td>0.758766</td>\n",
              "      <td>0.801154</td>\n",
              "      <td>0.302561</td>\n",
              "      <td>0.620166</td>\n",
              "      <td>0.406703</td>\n",
              "      <td>0.777707</td>\n",
              "    </tr>\n",
              "    <tr>\n",
              "      <th>Decision Tree Classification</th>\n",
              "      <td>1.000000</td>\n",
              "      <td>1.000000</td>\n",
              "      <td>1.000000</td>\n",
              "      <td>1.000000</td>\n",
              "      <td>1.000000</td>\n",
              "      <td>0.844111</td>\n",
              "      <td>0.303502</td>\n",
              "      <td>0.323204</td>\n",
              "      <td>0.313043</td>\n",
              "      <td>0.615814</td>\n",
              "    </tr>\n",
              "    <tr>\n",
              "      <th>Random Forest Classification</th>\n",
              "      <td>1.000000</td>\n",
              "      <td>1.000000</td>\n",
              "      <td>1.000000</td>\n",
              "      <td>1.000000</td>\n",
              "      <td>1.000000</td>\n",
              "      <td>0.896175</td>\n",
              "      <td>0.552632</td>\n",
              "      <td>0.290055</td>\n",
              "      <td>0.380435</td>\n",
              "      <td>0.789229</td>\n",
              "    </tr>\n",
              "    <tr>\n",
              "      <th>LightGBM Classifier</th>\n",
              "      <td>0.909760</td>\n",
              "      <td>0.771981</td>\n",
              "      <td>0.271676</td>\n",
              "      <td>0.401911</td>\n",
              "      <td>0.890626</td>\n",
              "      <td>0.902854</td>\n",
              "      <td>0.682609</td>\n",
              "      <td>0.216851</td>\n",
              "      <td>0.329140</td>\n",
              "      <td>0.806732</td>\n",
              "    </tr>\n",
              "    <tr>\n",
              "      <th>XGBoost</th>\n",
              "      <td>0.902436</td>\n",
              "      <td>0.719194</td>\n",
              "      <td>0.206392</td>\n",
              "      <td>0.320740</td>\n",
              "      <td>0.815956</td>\n",
              "      <td>0.902398</td>\n",
              "      <td>0.703518</td>\n",
              "      <td>0.193370</td>\n",
              "      <td>0.303359</td>\n",
              "      <td>0.812170</td>\n",
              "    </tr>\n",
              "  </tbody>\n",
              "</table>\n",
              "</div>\n",
              "      <button class=\"colab-df-convert\" onclick=\"convertToInteractive('df-f508fafe-65a6-418f-a2f2-ebdd3bc73efe')\"\n",
              "              title=\"Convert this dataframe to an interactive table.\"\n",
              "              style=\"display:none;\">\n",
              "        \n",
              "  <svg xmlns=\"http://www.w3.org/2000/svg\" height=\"24px\"viewBox=\"0 0 24 24\"\n",
              "       width=\"24px\">\n",
              "    <path d=\"M0 0h24v24H0V0z\" fill=\"none\"/>\n",
              "    <path d=\"M18.56 5.44l.94 2.06.94-2.06 2.06-.94-2.06-.94-.94-2.06-.94 2.06-2.06.94zm-11 1L8.5 8.5l.94-2.06 2.06-.94-2.06-.94L8.5 2.5l-.94 2.06-2.06.94zm10 10l.94 2.06.94-2.06 2.06-.94-2.06-.94-.94-2.06-.94 2.06-2.06.94z\"/><path d=\"M17.41 7.96l-1.37-1.37c-.4-.4-.92-.59-1.43-.59-.52 0-1.04.2-1.43.59L10.3 9.45l-7.72 7.72c-.78.78-.78 2.05 0 2.83L4 21.41c.39.39.9.59 1.41.59.51 0 1.02-.2 1.41-.59l7.78-7.78 2.81-2.81c.8-.78.8-2.07 0-2.86zM5.41 20L4 18.59l7.72-7.72 1.47 1.35L5.41 20z\"/>\n",
              "  </svg>\n",
              "      </button>\n",
              "      \n",
              "  <style>\n",
              "    .colab-df-container {\n",
              "      display:flex;\n",
              "      flex-wrap:wrap;\n",
              "      gap: 12px;\n",
              "    }\n",
              "\n",
              "    .colab-df-convert {\n",
              "      background-color: #E8F0FE;\n",
              "      border: none;\n",
              "      border-radius: 50%;\n",
              "      cursor: pointer;\n",
              "      display: none;\n",
              "      fill: #1967D2;\n",
              "      height: 32px;\n",
              "      padding: 0 0 0 0;\n",
              "      width: 32px;\n",
              "    }\n",
              "\n",
              "    .colab-df-convert:hover {\n",
              "      background-color: #E2EBFA;\n",
              "      box-shadow: 0px 1px 2px rgba(60, 64, 67, 0.3), 0px 1px 3px 1px rgba(60, 64, 67, 0.15);\n",
              "      fill: #174EA6;\n",
              "    }\n",
              "\n",
              "    [theme=dark] .colab-df-convert {\n",
              "      background-color: #3B4455;\n",
              "      fill: #D2E3FC;\n",
              "    }\n",
              "\n",
              "    [theme=dark] .colab-df-convert:hover {\n",
              "      background-color: #434B5C;\n",
              "      box-shadow: 0px 1px 3px 1px rgba(0, 0, 0, 0.15);\n",
              "      filter: drop-shadow(0px 1px 2px rgba(0, 0, 0, 0.3));\n",
              "      fill: #FFFFFF;\n",
              "    }\n",
              "  </style>\n",
              "\n",
              "      <script>\n",
              "        const buttonEl =\n",
              "          document.querySelector('#df-f508fafe-65a6-418f-a2f2-ebdd3bc73efe button.colab-df-convert');\n",
              "        buttonEl.style.display =\n",
              "          google.colab.kernel.accessAllowed ? 'block' : 'none';\n",
              "\n",
              "        async function convertToInteractive(key) {\n",
              "          const element = document.querySelector('#df-f508fafe-65a6-418f-a2f2-ebdd3bc73efe');\n",
              "          const dataTable =\n",
              "            await google.colab.kernel.invokeFunction('convertToInteractive',\n",
              "                                                     [key], {});\n",
              "          if (!dataTable) return;\n",
              "\n",
              "          const docLinkHtml = 'Like what you see? Visit the ' +\n",
              "            '<a target=\"_blank\" href=https://colab.research.google.com/notebooks/data_table.ipynb>data table notebook</a>'\n",
              "            + ' to learn more about interactive tables.';\n",
              "          element.innerHTML = '';\n",
              "          dataTable['output_type'] = 'display_data';\n",
              "          await google.colab.output.renderOutput(dataTable, element);\n",
              "          const docLink = document.createElement('div');\n",
              "          docLink.innerHTML = docLinkHtml;\n",
              "          element.appendChild(docLink);\n",
              "        }\n",
              "      </script>\n",
              "    </div>\n",
              "  </div>\n",
              "  "
            ]
          },
          "metadata": {}
        },
        {
          "output_type": "display_data",
          "data": {
            "text/plain": [
              "<Figure size 1296x360 with 4 Axes>"
            ],
            "image/png": "[encoded data removed]"
          },
          "metadata": {
            "needs_background": "light"
          }
        }
      ]
    },
    {
      "cell_type": "markdown",
      "source": [
        "## 1.9 CatBoostClassifier"
      ],
      "metadata": {
        "id": "lQ3jvwIF7Nwt"
      }
    },
    {
      "cell_type": "code",
      "source": [
        "!pip install catboost\n",
        "!pip install scikit-learn\n",
        "!pip install ipywidgets\n",
        "!jupyter nbextension enable --py widgetsnbextension"
      ],
      "metadata": {
        "id": "iaqn7TJU6eWf",
        "colab": {
          "base_uri": "https://localhost:8080/"
        },
        "outputId": "b2cc0e30-253b-43df-a497-e921c69d34d5"
      },
      "execution_count": null,
      "outputs": [
        {
          "output_type": "stream",
          "name": "stdout",
          "text": [
            "Collecting catboost\n",
            "  Downloading catboost-1.0.5-cp37-none-manylinux1_x86_64.whl (76.6 MB)\n",
            "\u001b[K     |████████████████████████████████| 76.6 MB 1.2 MB/s \n",
            "\u001b[?25hRequirement already satisfied: plotly in /usr/local/lib/python3.7/dist-packages (from catboost) (5.5.0)\n",
            "Requirement already satisfied: graphviz in /usr/local/lib/python3.7/dist-packages (from catboost) (0.10.1)\n",
            "Requirement already satisfied: pandas>=0.24.0 in /usr/local/lib/python3.7/dist-packages (from catboost) (1.3.5)\n",
            "Requirement already satisfied: numpy>=1.16.0 in /usr/local/lib/python3.7/dist-packages (from catboost) (1.21.6)\n",
            "Requirement already satisfied: six in /usr/local/lib/python3.7/dist-packages (from catboost) (1.15.0)\n",
            "Requirement already satisfied: scipy in /usr/local/lib/python3.7/dist-packages (from catboost) (1.4.1)\n",
            "Requirement already satisfied: matplotlib in /usr/local/lib/python3.7/dist-packages (from catboost) (3.2.2)\n",
            "Requirement already satisfied: python-dateutil>=2.7.3 in /usr/local/lib/python3.7/dist-packages (from pandas>=0.24.0->catboost) (2.8.2)\n",
            "Requirement already satisfied: pytz>=2017.3 in /usr/local/lib/python3.7/dist-packages (from pandas>=0.24.0->catboost) (2022.1)\n",
            "Requirement already satisfied: kiwisolver>=1.0.1 in /usr/local/lib/python3.7/dist-packages (from matplotlib->catboost) (1.4.2)\n",
            "Requirement already satisfied: cycler>=0.10 in /usr/local/lib/python3.7/dist-packages (from matplotlib->catboost) (0.11.0)\n",
            "Requirement already satisfied: pyparsing!=2.0.4,!=2.1.2,!=2.1.6,>=2.0.1 in /usr/local/lib/python3.7/dist-packages (from matplotlib->catboost) (3.0.8)\n",
            "Requirement already satisfied: typing-extensions in /usr/local/lib/python3.7/dist-packages (from kiwisolver>=1.0.1->matplotlib->catboost) (4.1.1)\n",
            "Requirement already satisfied: tenacity>=6.2.0 in /usr/local/lib/python3.7/dist-packages (from plotly->catboost) (8.0.1)\n",
            "Installing collected packages: catboost\n",
            "Successfully installed catboost-1.0.5\n",
            "Requirement already satisfied: scikit-learn in /usr/local/lib/python3.7/dist-packages (1.0.2)\n",
            "Requirement already satisfied: joblib>=0.11 in /usr/local/lib/python3.7/dist-packages (from scikit-learn) (1.1.0)\n",
            "Requirement already satisfied: threadpoolctl>=2.0.0 in /usr/local/lib/python3.7/dist-packages (from scikit-learn) (3.1.0)\n",
            "Requirement already satisfied: numpy>=1.14.6 in /usr/local/lib/python3.7/dist-packages (from scikit-learn) (1.21.6)\n",
            "Requirement already satisfied: scipy>=1.1.0 in /usr/local/lib/python3.7/dist-packages (from scikit-learn) (1.4.1)\n",
            "Requirement already satisfied: ipywidgets in /usr/local/lib/python3.7/dist-packages (7.7.0)\n",
            "Requirement already satisfied: widgetsnbextension~=3.6.0 in /usr/local/lib/python3.7/dist-packages (from ipywidgets) (3.6.0)\n",
            "Requirement already satisfied: ipython>=4.0.0 in /usr/local/lib/python3.7/dist-packages (from ipywidgets) (5.5.0)\n",
            "Requirement already satisfied: jupyterlab-widgets>=1.0.0 in /usr/local/lib/python3.7/dist-packages (from ipywidgets) (1.1.0)\n",
            "Requirement already satisfied: ipython-genutils~=0.2.0 in /usr/local/lib/python3.7/dist-packages (from ipywidgets) (0.2.0)\n",
            "Requirement already satisfied: ipykernel>=4.5.1 in /usr/local/lib/python3.7/dist-packages (from ipywidgets) (4.10.1)\n",
            "Requirement already satisfied: nbformat>=4.2.0 in /usr/local/lib/python3.7/dist-packages (from ipywidgets) (5.3.0)\n",
            "Requirement already satisfied: traitlets>=4.3.1 in /usr/local/lib/python3.7/dist-packages (from ipywidgets) (5.1.1)\n",
            "Requirement already satisfied: jupyter-client in /usr/local/lib/python3.7/dist-packages (from ipykernel>=4.5.1->ipywidgets) (5.3.5)\n",
            "Requirement already satisfied: tornado>=4.0 in /usr/local/lib/python3.7/dist-packages (from ipykernel>=4.5.1->ipywidgets) (5.1.1)\n",
            "Requirement already satisfied: simplegeneric>0.8 in /usr/local/lib/python3.7/dist-packages (from ipython>=4.0.0->ipywidgets) (0.8.1)\n",
            "Requirement already satisfied: prompt-toolkit<2.0.0,>=1.0.4 in /usr/local/lib/python3.7/dist-packages (from ipython>=4.0.0->ipywidgets) (1.0.18)\n",
            "Requirement already satisfied: decorator in /usr/local/lib/python3.7/dist-packages (from ipython>=4.0.0->ipywidgets) (4.4.2)\n",
            "Requirement already satisfied: pexpect in /usr/local/lib/python3.7/dist-packages (from ipython>=4.0.0->ipywidgets) (4.8.0)\n",
            "Requirement already satisfied: pygments in /usr/local/lib/python3.7/dist-packages (from ipython>=4.0.0->ipywidgets) (2.6.1)\n",
            "Requirement already satisfied: setuptools>=18.5 in /usr/local/lib/python3.7/dist-packages (from ipython>=4.0.0->ipywidgets) (57.4.0)\n",
            "Requirement already satisfied: pickleshare in /usr/local/lib/python3.7/dist-packages (from ipython>=4.0.0->ipywidgets) (0.7.5)\n",
            "Requirement already satisfied: jsonschema>=2.6 in /usr/local/lib/python3.7/dist-packages (from nbformat>=4.2.0->ipywidgets) (4.3.3)\n",
            "Requirement already satisfied: jupyter-core in /usr/local/lib/python3.7/dist-packages (from nbformat>=4.2.0->ipywidgets) (4.9.2)\n",
            "Requirement already satisfied: fastjsonschema in /usr/local/lib/python3.7/dist-packages (from nbformat>=4.2.0->ipywidgets) (2.15.3)\n",
            "Requirement already satisfied: importlib-metadata in /usr/local/lib/python3.7/dist-packages (from jsonschema>=2.6->nbformat>=4.2.0->ipywidgets) (4.11.3)\n",
            "Requirement already satisfied: importlib-resources>=1.4.0 in /usr/local/lib/python3.7/dist-packages (from jsonschema>=2.6->nbformat>=4.2.0->ipywidgets) (5.7.0)\n",
            "Requirement already satisfied: attrs>=17.4.0 in /usr/local/lib/python3.7/dist-packages (from jsonschema>=2.6->nbformat>=4.2.0->ipywidgets) (21.4.0)\n",
            "Requirement already satisfied: pyrsistent!=0.17.0,!=0.17.1,!=0.17.2,>=0.14.0 in /usr/local/lib/python3.7/dist-packages (from jsonschema>=2.6->nbformat>=4.2.0->ipywidgets) (0.18.1)\n",
            "Requirement already satisfied: typing-extensions in /usr/local/lib/python3.7/dist-packages (from jsonschema>=2.6->nbformat>=4.2.0->ipywidgets) (4.1.1)\n",
            "Requirement already satisfied: zipp>=3.1.0 in /usr/local/lib/python3.7/dist-packages (from importlib-resources>=1.4.0->jsonschema>=2.6->nbformat>=4.2.0->ipywidgets) (3.8.0)\n",
            "Requirement already satisfied: six>=1.9.0 in /usr/local/lib/python3.7/dist-packages (from prompt-toolkit<2.0.0,>=1.0.4->ipython>=4.0.0->ipywidgets) (1.15.0)\n",
            "Requirement already satisfied: wcwidth in /usr/local/lib/python3.7/dist-packages (from prompt-toolkit<2.0.0,>=1.0.4->ipython>=4.0.0->ipywidgets) (0.2.5)\n",
            "Requirement already satisfied: notebook>=4.4.1 in /usr/local/lib/python3.7/dist-packages (from widgetsnbextension~=3.6.0->ipywidgets) (5.3.1)\n",
            "Requirement already satisfied: Send2Trash in /usr/local/lib/python3.7/dist-packages (from notebook>=4.4.1->widgetsnbextension~=3.6.0->ipywidgets) (1.8.0)\n",
            "Requirement already satisfied: jinja2 in /usr/local/lib/python3.7/dist-packages (from notebook>=4.4.1->widgetsnbextension~=3.6.0->ipywidgets) (2.11.3)\n",
            "Requirement already satisfied: terminado>=0.8.1 in /usr/local/lib/python3.7/dist-packages (from notebook>=4.4.1->widgetsnbextension~=3.6.0->ipywidgets) (0.13.3)\n",
            "Requirement already satisfied: nbconvert in /usr/local/lib/python3.7/dist-packages (from notebook>=4.4.1->widgetsnbextension~=3.6.0->ipywidgets) (5.6.1)\n",
            "Requirement already satisfied: pyzmq>=13 in /usr/local/lib/python3.7/dist-packages (from jupyter-client->ipykernel>=4.5.1->ipywidgets) (22.3.0)\n",
            "Requirement already satisfied: python-dateutil>=2.1 in /usr/local/lib/python3.7/dist-packages (from jupyter-client->ipykernel>=4.5.1->ipywidgets) (2.8.2)\n",
            "Requirement already satisfied: ptyprocess in /usr/local/lib/python3.7/dist-packages (from terminado>=0.8.1->notebook>=4.4.1->widgetsnbextension~=3.6.0->ipywidgets) (0.7.0)\n",
            "Requirement already satisfied: MarkupSafe>=0.23 in /usr/local/lib/python3.7/dist-packages (from jinja2->notebook>=4.4.1->widgetsnbextension~=3.6.0->ipywidgets) (2.0.1)\n",
            "Requirement already satisfied: entrypoints>=0.2.2 in /usr/local/lib/python3.7/dist-packages (from nbconvert->notebook>=4.4.1->widgetsnbextension~=3.6.0->ipywidgets) (0.4)\n",
            "Requirement already satisfied: testpath in /usr/local/lib/python3.7/dist-packages (from nbconvert->notebook>=4.4.1->widgetsnbextension~=3.6.0->ipywidgets) (0.6.0)\n",
            "Requirement already satisfied: pandocfilters>=1.4.1 in /usr/local/lib/python3.7/dist-packages (from nbconvert->notebook>=4.4.1->widgetsnbextension~=3.6.0->ipywidgets) (1.5.0)\n",
            "Requirement already satisfied: mistune<2,>=0.8.1 in /usr/local/lib/python3.7/dist-packages (from nbconvert->notebook>=4.4.1->widgetsnbextension~=3.6.0->ipywidgets) (0.8.4)\n",
            "Requirement already satisfied: bleach in /usr/local/lib/python3.7/dist-packages (from nbconvert->notebook>=4.4.1->widgetsnbextension~=3.6.0->ipywidgets) (5.0.0)\n",
            "Requirement already satisfied: defusedxml in /usr/local/lib/python3.7/dist-packages (from nbconvert->notebook>=4.4.1->widgetsnbextension~=3.6.0->ipywidgets) (0.7.1)\n",
            "Requirement already satisfied: webencodings in /usr/local/lib/python3.7/dist-packages (from bleach->nbconvert->notebook>=4.4.1->widgetsnbextension~=3.6.0->ipywidgets) (0.5.1)\n",
            "Enabling notebook extension jupyter-js-widgets/extension...\n",
            "Paths used for configuration of notebook: \n",
            "    \t/root/.jupyter/nbconfig/notebook.json\n",
            "      - Validating: \u001b[32mOK\u001b[0m\n",
            "Paths used for configuration of notebook: \n",
            "    \t/root/.jupyter/nbconfig/notebook.json\n"
          ]
        }
      ]
    },
    {
      "cell_type": "code",
      "source": [
        "from catboost import CatBoostClassifier\n",
        "classifier = CatBoostClassifier(\n",
        "    iterations=100,\n",
        "    verbose=0,\n",
        ")\n",
        "\n",
        "classifier.fit(\n",
        "    X_train_sc, y_train,\n",
        "    eval_set=(X_val_sc, y_val))\n",
        "# Predicción de los resultados con el Conjunto de Testing\n",
        "y_pred  = classifier.predict(X_val_sc)\n",
        "print(f'AUC -CatBoost: {roc_auc_score(y_val, classifier.predict(X_val_sc)):.4f}')\n",
        "print(f'Accuracy - CatBoost: {accuracy_score(y_val, classifier.predict(X_val_sc)):.4f}')\n",
        "print(f'F1-Score CatBoost: {f1_score(y_val,classifier.predict(X_val_sc)):.4f}')\n",
        "print(f'Precision CatBoost:{precision_score(y_val,classifier.predict(X_val_sc)):.4f}')\n",
        "print(f'Recall CatBoost: {recall_score(y_val,classifier.predict(X_val_sc)):.4f}')\n"
      ],
      "metadata": {
        "id": "z3A8GSrZVrpG",
        "colab": {
          "base_uri": "https://localhost:8080/"
        },
        "outputId": "c2dec6d1-2e6a-4b13-e45d-3ba3c550d1a2"
      },
      "execution_count": null,
      "outputs": [
        {
          "output_type": "stream",
          "name": "stdout",
          "text": [
            "AUC -CatBoost: 0.5996\n",
            "Accuracy - CatBoost: 0.9026\n",
            "F1-Score CatBoost: 0.3228\n",
            "Precision CatBoost:0.6830\n",
            "Recall CatBoost: 0.2113\n"
          ]
        }
      ]
    },
    {
      "cell_type": "code",
      "source": [
        "update_resultados('CatBoost', classifier, resultados, X_train_sc, X_val_sc, y_train, y_val)"
      ],
      "metadata": {
        "colab": {
          "base_uri": "https://localhost:8080/",
          "height": 685
        },
        "id": "kTWRVy2HR48n",
        "outputId": "1bf2ce31-a55e-4198-9523-87cc66ebac43"
      },
      "execution_count": null,
      "outputs": [
        {
          "output_type": "display_data",
          "data": {
            "text/plain": [
              "                             Entrenamiento                                    \\\n",
              "                                 Exactitud Precisión Exhaustividad        F1   \n",
              "Logistic Regression               0.895340  0.610374      0.172050  0.268435   \n",
              "K-Nearest Neighbors               0.913441  0.719124      0.368242  0.487070   \n",
              "Naive Bayes                       0.802102  0.304033      0.599796  0.403523   \n",
              "Decision Tree Classification      1.000000  1.000000      1.000000  1.000000   \n",
              "Random Forest Classification      1.000000  1.000000      1.000000  1.000000   \n",
              "LightGBM Classifier               0.909760  0.771981      0.271676  0.401911   \n",
              "XGBoost                           0.902436  0.719194      0.206392  0.320740   \n",
              "CatBoost                          0.904941  0.727083      0.237334  0.357857   \n",
              "\n",
              "                                         Pruebas                          \\\n",
              "                                   AUC Exactitud Precisión Exhaustividad   \n",
              "Logistic Regression           0.764549  0.900880  0.666667      0.196133   \n",
              "K-Nearest Neighbors           0.925317  0.889648  0.495798      0.244475   \n",
              "Naive Bayes                   0.758766  0.801154  0.302561      0.620166   \n",
              "Decision Tree Classification  1.000000  0.844111  0.303502      0.323204   \n",
              "Random Forest Classification  1.000000  0.896175  0.552632      0.290055   \n",
              "LightGBM Classifier           0.890626  0.902854  0.682609      0.216851   \n",
              "XGBoost                       0.815956  0.902398  0.703518      0.193370   \n",
              "CatBoost                      0.814356  0.902550  0.683036      0.211326   \n",
              "\n",
              "                                                  \n",
              "                                    F1       AUC  \n",
              "Logistic Regression           0.303095  0.779531  \n",
              "K-Nearest Neighbors           0.327475  0.719875  \n",
              "Naive Bayes                   0.406703  0.777707  \n",
              "Decision Tree Classification  0.313043  0.615814  \n",
              "Random Forest Classification  0.380435  0.789229  \n",
              "LightGBM Classifier           0.329140  0.806732  \n",
              "XGBoost                       0.303359  0.812170  \n",
              "CatBoost                      0.322785  0.815039  "
            ],
            "text/html": [
              "\n",
              "  <div id=\"df-26777ac7-0045-4aa4-9d50-ca2d7e0faca4\">\n",
              "    <div class=\"colab-df-container\">\n",
              "      <div>\n",
              "<style scoped>\n",
              "    .dataframe tbody tr th:only-of-type {\n",
              "        vertical-align: middle;\n",
              "    }\n",
              "\n",
              "    .dataframe tbody tr th {\n",
              "        vertical-align: top;\n",
              "    }\n",
              "\n",
              "    .dataframe thead tr th {\n",
              "        text-align: left;\n",
              "    }\n",
              "</style>\n",
              "<table border=\"1\" class=\"dataframe\">\n",
              "  <thead>\n",
              "    <tr>\n",
              "      <th></th>\n",
              "      <th colspan=\"5\" halign=\"left\">Entrenamiento</th>\n",
              "      <th colspan=\"5\" halign=\"left\">Pruebas</th>\n",
              "    </tr>\n",
              "    <tr>\n",
              "      <th></th>\n",
              "      <th>Exactitud</th>\n",
              "      <th>Precisión</th>\n",
              "      <th>Exhaustividad</th>\n",
              "      <th>F1</th>\n",
              "      <th>AUC</th>\n",
              "      <th>Exactitud</th>\n",
              "      <th>Precisión</th>\n",
              "      <th>Exhaustividad</th>\n",
              "      <th>F1</th>\n",
              "      <th>AUC</th>\n",
              "    </tr>\n",
              "  </thead>\n",
              "  <tbody>\n",
              "    <tr>\n",
              "      <th>Logistic Regression</th>\n",
              "      <td>0.895340</td>\n",
              "      <td>0.610374</td>\n",
              "      <td>0.172050</td>\n",
              "      <td>0.268435</td>\n",
              "      <td>0.764549</td>\n",
              "      <td>0.900880</td>\n",
              "      <td>0.666667</td>\n",
              "      <td>0.196133</td>\n",
              "      <td>0.303095</td>\n",
              "      <td>0.779531</td>\n",
              "    </tr>\n",
              "    <tr>\n",
              "      <th>K-Nearest Neighbors</th>\n",
              "      <td>0.913441</td>\n",
              "      <td>0.719124</td>\n",
              "      <td>0.368242</td>\n",
              "      <td>0.487070</td>\n",
              "      <td>0.925317</td>\n",
              "      <td>0.889648</td>\n",
              "      <td>0.495798</td>\n",
              "      <td>0.244475</td>\n",
              "      <td>0.327475</td>\n",
              "      <td>0.719875</td>\n",
              "    </tr>\n",
              "    <tr>\n",
              "      <th>Naive Bayes</th>\n",
              "      <td>0.802102</td>\n",
              "      <td>0.304033</td>\n",
              "      <td>0.599796</td>\n",
              "      <td>0.403523</td>\n",
              "      <td>0.758766</td>\n",
              "      <td>0.801154</td>\n",
              "      <td>0.302561</td>\n",
              "      <td>0.620166</td>\n",
              "      <td>0.406703</td>\n",
              "      <td>0.777707</td>\n",
              "    </tr>\n",
              "    <tr>\n",
              "      <th>Decision Tree Classification</th>\n",
              "      <td>1.000000</td>\n",
              "      <td>1.000000</td>\n",
              "      <td>1.000000</td>\n",
              "      <td>1.000000</td>\n",
              "      <td>1.000000</td>\n",
              "      <td>0.844111</td>\n",
              "      <td>0.303502</td>\n",
              "      <td>0.323204</td>\n",
              "      <td>0.313043</td>\n",
              "      <td>0.615814</td>\n",
              "    </tr>\n",
              "    <tr>\n",
              "      <th>Random Forest Classification</th>\n",
              "      <td>1.000000</td>\n",
              "      <td>1.000000</td>\n",
              "      <td>1.000000</td>\n",
              "      <td>1.000000</td>\n",
              "      <td>1.000000</td>\n",
              "      <td>0.896175</td>\n",
              "      <td>0.552632</td>\n",
              "      <td>0.290055</td>\n",
              "      <td>0.380435</td>\n",
              "      <td>0.789229</td>\n",
              "    </tr>\n",
              "    <tr>\n",
              "      <th>LightGBM Classifier</th>\n",
              "      <td>0.909760</td>\n",
              "      <td>0.771981</td>\n",
              "      <td>0.271676</td>\n",
              "      <td>0.401911</td>\n",
              "      <td>0.890626</td>\n",
              "      <td>0.902854</td>\n",
              "      <td>0.682609</td>\n",
              "      <td>0.216851</td>\n",
              "      <td>0.329140</td>\n",
              "      <td>0.806732</td>\n",
              "    </tr>\n",
              "    <tr>\n",
              "      <th>XGBoost</th>\n",
              "      <td>0.902436</td>\n",
              "      <td>0.719194</td>\n",
              "      <td>0.206392</td>\n",
              "      <td>0.320740</td>\n",
              "      <td>0.815956</td>\n",
              "      <td>0.902398</td>\n",
              "      <td>0.703518</td>\n",
              "      <td>0.193370</td>\n",
              "      <td>0.303359</td>\n",
              "      <td>0.812170</td>\n",
              "    </tr>\n",
              "    <tr>\n",
              "      <th>CatBoost</th>\n",
              "      <td>0.904941</td>\n",
              "      <td>0.727083</td>\n",
              "      <td>0.237334</td>\n",
              "      <td>0.357857</td>\n",
              "      <td>0.814356</td>\n",
              "      <td>0.902550</td>\n",
              "      <td>0.683036</td>\n",
              "      <td>0.211326</td>\n",
              "      <td>0.322785</td>\n",
              "      <td>0.815039</td>\n",
              "    </tr>\n",
              "  </tbody>\n",
              "</table>\n",
              "</div>\n",
              "      <button class=\"colab-df-convert\" onclick=\"convertToInteractive('df-26777ac7-0045-4aa4-9d50-ca2d7e0faca4')\"\n",
              "              title=\"Convert this dataframe to an interactive table.\"\n",
              "              style=\"display:none;\">\n",
              "        \n",
              "  <svg xmlns=\"http://www.w3.org/2000/svg\" height=\"24px\"viewBox=\"0 0 24 24\"\n",
              "       width=\"24px\">\n",
              "    <path d=\"M0 0h24v24H0V0z\" fill=\"none\"/>\n",
              "    <path d=\"M18.56 5.44l.94 2.06.94-2.06 2.06-.94-2.06-.94-.94-2.06-.94 2.06-2.06.94zm-11 1L8.5 8.5l.94-2.06 2.06-.94-2.06-.94L8.5 2.5l-.94 2.06-2.06.94zm10 10l.94 2.06.94-2.06 2.06-.94-2.06-.94-.94-2.06-.94 2.06-2.06.94z\"/><path d=\"M17.41 7.96l-1.37-1.37c-.4-.4-.92-.59-1.43-.59-.52 0-1.04.2-1.43.59L10.3 9.45l-7.72 7.72c-.78.78-.78 2.05 0 2.83L4 21.41c.39.39.9.59 1.41.59.51 0 1.02-.2 1.41-.59l7.78-7.78 2.81-2.81c.8-.78.8-2.07 0-2.86zM5.41 20L4 18.59l7.72-7.72 1.47 1.35L5.41 20z\"/>\n",
              "  </svg>\n",
              "      </button>\n",
              "      \n",
              "  <style>\n",
              "    .colab-df-container {\n",
              "      display:flex;\n",
              "      flex-wrap:wrap;\n",
              "      gap: 12px;\n",
              "    }\n",
              "\n",
              "    .colab-df-convert {\n",
              "      background-color: #E8F0FE;\n",
              "      border: none;\n",
              "      border-radius: 50%;\n",
              "      cursor: pointer;\n",
              "      display: none;\n",
              "      fill: #1967D2;\n",
              "      height: 32px;\n",
              "      padding: 0 0 0 0;\n",
              "      width: 32px;\n",
              "    }\n",
              "\n",
              "    .colab-df-convert:hover {\n",
              "      background-color: #E2EBFA;\n",
              "      box-shadow: 0px 1px 2px rgba(60, 64, 67, 0.3), 0px 1px 3px 1px rgba(60, 64, 67, 0.15);\n",
              "      fill: #174EA6;\n",
              "    }\n",
              "\n",
              "    [theme=dark] .colab-df-convert {\n",
              "      background-color: #3B4455;\n",
              "      fill: #D2E3FC;\n",
              "    }\n",
              "\n",
              "    [theme=dark] .colab-df-convert:hover {\n",
              "      background-color: #434B5C;\n",
              "      box-shadow: 0px 1px 3px 1px rgba(0, 0, 0, 0.15);\n",
              "      filter: drop-shadow(0px 1px 2px rgba(0, 0, 0, 0.3));\n",
              "      fill: #FFFFFF;\n",
              "    }\n",
              "  </style>\n",
              "\n",
              "      <script>\n",
              "        const buttonEl =\n",
              "          document.querySelector('#df-26777ac7-0045-4aa4-9d50-ca2d7e0faca4 button.colab-df-convert');\n",
              "        buttonEl.style.display =\n",
              "          google.colab.kernel.accessAllowed ? 'block' : 'none';\n",
              "\n",
              "        async function convertToInteractive(key) {\n",
              "          const element = document.querySelector('#df-26777ac7-0045-4aa4-9d50-ca2d7e0faca4');\n",
              "          const dataTable =\n",
              "            await google.colab.kernel.invokeFunction('convertToInteractive',\n",
              "                                                     [key], {});\n",
              "          if (!dataTable) return;\n",
              "\n",
              "          const docLinkHtml = 'Like what you see? Visit the ' +\n",
              "            '<a target=\"_blank\" href=https://colab.research.google.com/notebooks/data_table.ipynb>data table notebook</a>'\n",
              "            + ' to learn more about interactive tables.';\n",
              "          element.innerHTML = '';\n",
              "          dataTable['output_type'] = 'display_data';\n",
              "          await google.colab.output.renderOutput(dataTable, element);\n",
              "          const docLink = document.createElement('div');\n",
              "          docLink.innerHTML = docLinkHtml;\n",
              "          element.appendChild(docLink);\n",
              "        }\n",
              "      </script>\n",
              "    </div>\n",
              "  </div>\n",
              "  "
            ]
          },
          "metadata": {}
        },
        {
          "output_type": "display_data",
          "data": {
            "text/plain": [
              "<Figure size 1296x360 with 4 Axes>"
            ],
            "image/png": "[encoded data removed]"
          },
          "metadata": {
            "needs_background": "light"
          }
        }
      ]
    },
    {
      "cell_type": "markdown",
      "source": [
        "## 1.10 AdaBoostClassifier"
      ],
      "metadata": {
        "id": "g8z1FHPN-OvU"
      }
    },
    {
      "cell_type": "code",
      "source": [
        "from sklearn.ensemble import AdaBoostClassifier\n",
        "# Create adaboost classifer object\n",
        "classifier = AdaBoostClassifier(n_estimators=100,\n",
        "                         learning_rate=1)\n",
        "# Train Adaboost Classifer\n",
        "classifier.fit(X_train_sc, y_train)\n",
        "\n",
        "#Predict the response for test dataset\n",
        "y_pred = classifier.predict(X_val_sc)\n",
        "\n",
        "print(f'AUC -AdaBoostClassifier: {roc_auc_score(y_val, classifier.predict(X_val_sc)):.4f}')\n",
        "print(f'Accuracy - AdaBoostClassifier: {accuracy_score(y_val, classifier.predict(X_val_sc)):.4f}')\n",
        "print(f'F1-Score AdaBoostClassifier: {f1_score(y_val,classifier.predict(X_val_sc)):.4f}')\n",
        "print(f'Precision AdaBoostClassifier:{precision_score(y_val,classifier.predict(X_val_sc)):.4f}')\n",
        "print(f'Recall AdaBoostClassifier: {recall_score(y_val,classifier.predict(X_val_sc)):.4f}')\n",
        "\n"
      ],
      "metadata": {
        "id": "gfFXxZNZVrsA",
        "colab": {
          "base_uri": "https://localhost:8080/"
        },
        "outputId": "7414c545-9f10-4dbb-a8c4-962c6e79e44b"
      },
      "execution_count": null,
      "outputs": [
        {
          "output_type": "stream",
          "name": "stdout",
          "text": [
            "AUC -AdaBoostClassifier: 0.5915\n",
            "Accuracy - AdaBoostClassifier: 0.9010\n",
            "F1-Score AdaBoostClassifier: 0.3019\n",
            "Precision AdaBoostClassifier:0.6714\n",
            "Recall AdaBoostClassifier: 0.1948\n"
          ]
        }
      ]
    },
    {
      "cell_type": "code",
      "source": [
        "update_resultados('AdaBoostClassifier', classifier, resultados, X_train_sc, X_val_sc, y_train, y_val)"
      ],
      "metadata": {
        "colab": {
          "base_uri": "https://localhost:8080/",
          "height": 716
        },
        "id": "CZdAtsR1SP_Z",
        "outputId": "3037be86-831b-4959-86f8-e2aa4917c2ac"
      },
      "execution_count": null,
      "outputs": [
        {
          "output_type": "display_data",
          "data": {
            "text/plain": [
              "                             Entrenamiento                                    \\\n",
              "                                 Exactitud Precisión Exhaustividad        F1   \n",
              "Logistic Regression               0.895340  0.610374      0.172050  0.268435   \n",
              "K-Nearest Neighbors               0.913441  0.719124      0.368242  0.487070   \n",
              "Naive Bayes                       0.802102  0.304033      0.599796  0.403523   \n",
              "Decision Tree Classification      1.000000  1.000000      1.000000  1.000000   \n",
              "Random Forest Classification      1.000000  1.000000      1.000000  1.000000   \n",
              "LightGBM Classifier               0.909760  0.771981      0.271676  0.401911   \n",
              "XGBoost                           0.902436  0.719194      0.206392  0.320740   \n",
              "CatBoost                          0.904941  0.727083      0.237334  0.357857   \n",
              "AdaBoostClassifier                0.900387  0.682028      0.201292  0.310843   \n",
              "\n",
              "                                         Pruebas                          \\\n",
              "                                   AUC Exactitud Precisión Exhaustividad   \n",
              "Logistic Regression           0.764549  0.900880  0.666667      0.196133   \n",
              "K-Nearest Neighbors           0.925317  0.889648  0.495798      0.244475   \n",
              "Naive Bayes                   0.758766  0.801154  0.302561      0.620166   \n",
              "Decision Tree Classification  1.000000  0.844111  0.303502      0.323204   \n",
              "Random Forest Classification  1.000000  0.896175  0.552632      0.290055   \n",
              "LightGBM Classifier           0.890626  0.902854  0.682609      0.216851   \n",
              "XGBoost                       0.815956  0.902398  0.703518      0.193370   \n",
              "CatBoost                      0.814356  0.902550  0.683036      0.211326   \n",
              "AdaBoostClassifier            0.803859  0.901032  0.671429      0.194751   \n",
              "\n",
              "                                                  \n",
              "                                    F1       AUC  \n",
              "Logistic Regression           0.303095  0.779531  \n",
              "K-Nearest Neighbors           0.327475  0.719875  \n",
              "Naive Bayes                   0.406703  0.777707  \n",
              "Decision Tree Classification  0.313043  0.615814  \n",
              "Random Forest Classification  0.380435  0.789229  \n",
              "LightGBM Classifier           0.329140  0.806732  \n",
              "XGBoost                       0.303359  0.812170  \n",
              "CatBoost                      0.322785  0.815039  \n",
              "AdaBoostClassifier            0.301927  0.809512  "
            ],
            "text/html": [
              "\n",
              "  <div id=\"df-392ab67e-2dba-4a9c-924f-4d3ff0d118e2\">\n",
              "    <div class=\"colab-df-container\">\n",
              "      <div>\n",
              "<style scoped>\n",
              "    .dataframe tbody tr th:only-of-type {\n",
              "        vertical-align: middle;\n",
              "    }\n",
              "\n",
              "    .dataframe tbody tr th {\n",
              "        vertical-align: top;\n",
              "    }\n",
              "\n",
              "    .dataframe thead tr th {\n",
              "        text-align: left;\n",
              "    }\n",
              "</style>\n",
              "<table border=\"1\" class=\"dataframe\">\n",
              "  <thead>\n",
              "    <tr>\n",
              "      <th></th>\n",
              "      <th colspan=\"5\" halign=\"left\">Entrenamiento</th>\n",
              "      <th colspan=\"5\" halign=\"left\">Pruebas</th>\n",
              "    </tr>\n",
              "    <tr>\n",
              "      <th></th>\n",
              "      <th>Exactitud</th>\n",
              "      <th>Precisión</th>\n",
              "      <th>Exhaustividad</th>\n",
              "      <th>F1</th>\n",
              "      <th>AUC</th>\n",
              "      <th>Exactitud</th>\n",
              "      <th>Precisión</th>\n",
              "      <th>Exhaustividad</th>\n",
              "      <th>F1</th>\n",
              "      <th>AUC</th>\n",
              "    </tr>\n",
              "  </thead>\n",
              "  <tbody>\n",
              "    <tr>\n",
              "      <th>Logistic Regression</th>\n",
              "      <td>0.895340</td>\n",
              "      <td>0.610374</td>\n",
              "      <td>0.172050</td>\n",
              "      <td>0.268435</td>\n",
              "      <td>0.764549</td>\n",
              "      <td>0.900880</td>\n",
              "      <td>0.666667</td>\n",
              "      <td>0.196133</td>\n",
              "      <td>0.303095</td>\n",
              "      <td>0.779531</td>\n",
              "    </tr>\n",
              "    <tr>\n",
              "      <th>K-Nearest Neighbors</th>\n",
              "      <td>0.913441</td>\n",
              "      <td>0.719124</td>\n",
              "      <td>0.368242</td>\n",
              "      <td>0.487070</td>\n",
              "      <td>0.925317</td>\n",
              "      <td>0.889648</td>\n",
              "      <td>0.495798</td>\n",
              "      <td>0.244475</td>\n",
              "      <td>0.327475</td>\n",
              "      <td>0.719875</td>\n",
              "    </tr>\n",
              "    <tr>\n",
              "      <th>Naive Bayes</th>\n",
              "      <td>0.802102</td>\n",
              "      <td>0.304033</td>\n",
              "      <td>0.599796</td>\n",
              "      <td>0.403523</td>\n",
              "      <td>0.758766</td>\n",
              "      <td>0.801154</td>\n",
              "      <td>0.302561</td>\n",
              "      <td>0.620166</td>\n",
              "      <td>0.406703</td>\n",
              "      <td>0.777707</td>\n",
              "    </tr>\n",
              "    <tr>\n",
              "      <th>Decision Tree Classification</th>\n",
              "      <td>1.000000</td>\n",
              "      <td>1.000000</td>\n",
              "      <td>1.000000</td>\n",
              "      <td>1.000000</td>\n",
              "      <td>1.000000</td>\n",
              "      <td>0.844111</td>\n",
              "      <td>0.303502</td>\n",
              "      <td>0.323204</td>\n",
              "      <td>0.313043</td>\n",
              "      <td>0.615814</td>\n",
              "    </tr>\n",
              "    <tr>\n",
              "      <th>Random Forest Classification</th>\n",
              "      <td>1.000000</td>\n",
              "      <td>1.000000</td>\n",
              "      <td>1.000000</td>\n",
              "      <td>1.000000</td>\n",
              "      <td>1.000000</td>\n",
              "      <td>0.896175</td>\n",
              "      <td>0.552632</td>\n",
              "      <td>0.290055</td>\n",
              "      <td>0.380435</td>\n",
              "      <td>0.789229</td>\n",
              "    </tr>\n",
              "    <tr>\n",
              "      <th>LightGBM Classifier</th>\n",
              "      <td>0.909760</td>\n",
              "      <td>0.771981</td>\n",
              "      <td>0.271676</td>\n",
              "      <td>0.401911</td>\n",
              "      <td>0.890626</td>\n",
              "      <td>0.902854</td>\n",
              "      <td>0.682609</td>\n",
              "      <td>0.216851</td>\n",
              "      <td>0.329140</td>\n",
              "      <td>0.806732</td>\n",
              "    </tr>\n",
              "    <tr>\n",
              "      <th>XGBoost</th>\n",
              "      <td>0.902436</td>\n",
              "      <td>0.719194</td>\n",
              "      <td>0.206392</td>\n",
              "      <td>0.320740</td>\n",
              "      <td>0.815956</td>\n",
              "      <td>0.902398</td>\n",
              "      <td>0.703518</td>\n",
              "      <td>0.193370</td>\n",
              "      <td>0.303359</td>\n",
              "      <td>0.812170</td>\n",
              "    </tr>\n",
              "    <tr>\n",
              "      <th>CatBoost</th>\n",
              "      <td>0.904941</td>\n",
              "      <td>0.727083</td>\n",
              "      <td>0.237334</td>\n",
              "      <td>0.357857</td>\n",
              "      <td>0.814356</td>\n",
              "      <td>0.902550</td>\n",
              "      <td>0.683036</td>\n",
              "      <td>0.211326</td>\n",
              "      <td>0.322785</td>\n",
              "      <td>0.815039</td>\n",
              "    </tr>\n",
              "    <tr>\n",
              "      <th>AdaBoostClassifier</th>\n",
              "      <td>0.900387</td>\n",
              "      <td>0.682028</td>\n",
              "      <td>0.201292</td>\n",
              "      <td>0.310843</td>\n",
              "      <td>0.803859</td>\n",
              "      <td>0.901032</td>\n",
              "      <td>0.671429</td>\n",
              "      <td>0.194751</td>\n",
              "      <td>0.301927</td>\n",
              "      <td>0.809512</td>\n",
              "    </tr>\n",
              "  </tbody>\n",
              "</table>\n",
              "</div>\n",
              "      <button class=\"colab-df-convert\" onclick=\"convertToInteractive('df-392ab67e-2dba-4a9c-924f-4d3ff0d118e2')\"\n",
              "              title=\"Convert this dataframe to an interactive table.\"\n",
              "              style=\"display:none;\">\n",
              "        \n",
              "  <svg xmlns=\"http://www.w3.org/2000/svg\" height=\"24px\"viewBox=\"0 0 24 24\"\n",
              "       width=\"24px\">\n",
              "    <path d=\"M0 0h24v24H0V0z\" fill=\"none\"/>\n",
              "    <path d=\"M18.56 5.44l.94 2.06.94-2.06 2.06-.94-2.06-.94-.94-2.06-.94 2.06-2.06.94zm-11 1L8.5 8.5l.94-2.06 2.06-.94-2.06-.94L8.5 2.5l-.94 2.06-2.06.94zm10 10l.94 2.06.94-2.06 2.06-.94-2.06-.94-.94-2.06-.94 2.06-2.06.94z\"/><path d=\"M17.41 7.96l-1.37-1.37c-.4-.4-.92-.59-1.43-.59-.52 0-1.04.2-1.43.59L10.3 9.45l-7.72 7.72c-.78.78-.78 2.05 0 2.83L4 21.41c.39.39.9.59 1.41.59.51 0 1.02-.2 1.41-.59l7.78-7.78 2.81-2.81c.8-.78.8-2.07 0-2.86zM5.41 20L4 18.59l7.72-7.72 1.47 1.35L5.41 20z\"/>\n",
              "  </svg>\n",
              "      </button>\n",
              "      \n",
              "  <style>\n",
              "    .colab-df-container {\n",
              "      display:flex;\n",
              "      flex-wrap:wrap;\n",
              "      gap: 12px;\n",
              "    }\n",
              "\n",
              "    .colab-df-convert {\n",
              "      background-color: #E8F0FE;\n",
              "      border: none;\n",
              "      border-radius: 50%;\n",
              "      cursor: pointer;\n",
              "      display: none;\n",
              "      fill: #1967D2;\n",
              "      height: 32px;\n",
              "      padding: 0 0 0 0;\n",
              "      width: 32px;\n",
              "    }\n",
              "\n",
              "    .colab-df-convert:hover {\n",
              "      background-color: #E2EBFA;\n",
              "      box-shadow: 0px 1px 2px rgba(60, 64, 67, 0.3), 0px 1px 3px 1px rgba(60, 64, 67, 0.15);\n",
              "      fill: #174EA6;\n",
              "    }\n",
              "\n",
              "    [theme=dark] .colab-df-convert {\n",
              "      background-color: #3B4455;\n",
              "      fill: #D2E3FC;\n",
              "    }\n",
              "\n",
              "    [theme=dark] .colab-df-convert:hover {\n",
              "      background-color: #434B5C;\n",
              "      box-shadow: 0px 1px 3px 1px rgba(0, 0, 0, 0.15);\n",
              "      filter: drop-shadow(0px 1px 2px rgba(0, 0, 0, 0.3));\n",
              "      fill: #FFFFFF;\n",
              "    }\n",
              "  </style>\n",
              "\n",
              "      <script>\n",
              "        const buttonEl =\n",
              "          document.querySelector('#df-392ab67e-2dba-4a9c-924f-4d3ff0d118e2 button.colab-df-convert');\n",
              "        buttonEl.style.display =\n",
              "          google.colab.kernel.accessAllowed ? 'block' : 'none';\n",
              "\n",
              "        async function convertToInteractive(key) {\n",
              "          const element = document.querySelector('#df-392ab67e-2dba-4a9c-924f-4d3ff0d118e2');\n",
              "          const dataTable =\n",
              "            await google.colab.kernel.invokeFunction('convertToInteractive',\n",
              "                                                     [key], {});\n",
              "          if (!dataTable) return;\n",
              "\n",
              "          const docLinkHtml = 'Like what you see? Visit the ' +\n",
              "            '<a target=\"_blank\" href=https://colab.research.google.com/notebooks/data_table.ipynb>data table notebook</a>'\n",
              "            + ' to learn more about interactive tables.';\n",
              "          element.innerHTML = '';\n",
              "          dataTable['output_type'] = 'display_data';\n",
              "          await google.colab.output.renderOutput(dataTable, element);\n",
              "          const docLink = document.createElement('div');\n",
              "          docLink.innerHTML = docLinkHtml;\n",
              "          element.appendChild(docLink);\n",
              "        }\n",
              "      </script>\n",
              "    </div>\n",
              "  </div>\n",
              "  "
            ]
          },
          "metadata": {}
        },
        {
          "output_type": "display_data",
          "data": {
            "text/plain": [
              "<Figure size 1296x360 with 4 Axes>"
            ],
            "image/png": "[encoded data removed]"
          },
          "metadata": {
            "needs_background": "light"
          }
        }
      ]
    },
    {
      "cell_type": "markdown",
      "source": [
        "# Resultados"
      ],
      "metadata": {
        "id": "K4KvfYdhA3d7"
      }
    },
    {
      "cell_type": "code",
      "source": [
        "import pandas as pd\n",
        "TablaComparativa = pd.DataFrame(resultados)\n",
        "TablaComparativa = TablaComparativa.transpose()\n",
        "TablaComparativa.to_csv('Tabla Comparativa Modelos Machine Learning.csv')"
      ],
      "metadata": {
        "id": "vDVA1UALVru9"
      },
      "execution_count": null,
      "outputs": []
    }
  ]
}